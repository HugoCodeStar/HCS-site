{
 "cells": [
  {
   "cell_type": "markdown",
   "id": "3bb7b485-d820-41e0-b3e4-2b3387a9a400",
   "metadata": {},
   "source": [
    "$$\n",
    "\\def\\CC{\\bf C}\n",
    "\\def\\QQ{\\bf Q}\n",
    "\\def\\RR{\\bf R}\n",
    "\\def\\ZZ{\\bf Z}\n",
    "\\def\\NN{\\bf N}\n",
    "$$\n",
    "# NumPy quickstart\n",
    "\n",
    "<div class=\"currentmodule\">\n",
    "\n",
    "numpy\n",
    "\n",
    "</div>"
   ]
  },
  {
   "cell_type": "code",
   "execution_count": 1,
   "id": "e2472700-934e-4711-ac21-835748a4a4b7",
   "metadata": {},
   "outputs": [],
   "source": [
    "import numpy as np \n",
    "import sys"
   ]
  },
  {
   "cell_type": "markdown",
   "id": "40974fcb-47d6-4657-a75b-f9d844d2f67d",
   "metadata": {},
   "source": [
    "## Prerequisites\n",
    "\n",
    "You'll need to know a bit of Python. For a refresher, see the [Python\n",
    "tutorial](https://docs.python.org/tutorial/).\n",
    "\n",
    "To work the examples, you'll need `matplotlib` installed in addition to\n",
    "NumPy.\n",
    "\n",
    "**Learner profile**\n",
    "\n",
    "This is a quick overview of arrays in NumPy. It demonstrates how\n",
    "n-dimensional ($n>=2$) arrays are represented and can be manipulated. In\n",
    "particular, if you don't know how to apply common functions to\n",
    "n-dimensional arrays (without using for-loops), or if you want to\n",
    "understand axis and shape properties for n-dimensional arrays, this\n",
    "article might be of help.\n",
    "\n",
    "**Learning Objectives**\n",
    "\n",
    "After reading, you should be able to:\n",
    "\n",
    "-   Understand the difference between one-, two- and n-dimensional\n",
    "    arrays in NumPy;\n",
    "-   Understand how to apply some linear algebra operations to\n",
    "    n-dimensional arrays without using for-loops;\n",
    "-   Understand axis and shape properties for n-dimensional arrays.\n",
    "\n",
    "## The Basics\n",
    "\n",
    "NumPy's main object is the homogeneous multidimensional array. It is a\n",
    "table of elements (usually numbers), all of the same type, indexed by a\n",
    "tuple of non-negative integers. In NumPy dimensions are called *axes*.\n",
    "\n",
    "For example, the coordinates of a point in 3D space `[1, 2, 1]` has one\n",
    "axis. That axis has 3 elements in it, so we say it has a length of 3. In\n",
    "the example pictured below, the array has 2 axes. The first axis has a\n",
    "length of 2, the second axis has a length of 3."
   ]
  },
  {
   "cell_type": "code",
   "execution_count": 2,
   "id": "d22afcaa",
   "metadata": {},
   "outputs": [
    {
     "data": {
      "text/plain": [
       "[[1.0, 0.0, 0.0], [0.0, 1.0, 2.0]]"
      ]
     },
     "execution_count": 2,
     "metadata": {},
     "output_type": "execute_result"
    }
   ],
   "source": [
    "[[1., 0., 0.],\n",
    " [0., 1., 2.]]"
   ]
  },
  {
   "cell_type": "markdown",
   "id": "d5e10551-b501-4181-9d8f-3d71c8eca604",
   "metadata": {},
   "source": [
    "NumPy's array class is called `ndarray`. It is also known by the alias\n",
    "`array`. Note that `numpy.array` is not the same as the Standard Python\n",
    "Library class `array.array`, which only handles one-dimensional arrays\n",
    "and offers less functionality. The more important attributes of an\n",
    "`ndarray` object are:\n",
    "\n",
    "ndarray.ndim  \n",
    "the number of axes (dimensions) of the array.\n",
    "\n",
    "ndarray.shape  \n",
    "the dimensions of the array. This is a tuple of integers indicating the\n",
    "size of the array in each dimension. For a matrix with *n* rows and *m*\n",
    "columns, `shape` will be `(n,m)`. The length of the `shape` tuple is\n",
    "therefore the number of axes, `ndim`.\n",
    "\n",
    "ndarray.size  \n",
    "the total number of elements of the array. This is equal to the product\n",
    "of the elements of `shape`.\n",
    "\n",
    "ndarray.dtype  \n",
    "an object describing the type of the elements in the array. One can\n",
    "create or specify dtype's using standard Python types. Additionally\n",
    "NumPy provides types of its own. numpy.int32, numpy.int16, and\n",
    "numpy.float64 are some examples.\n",
    "\n",
    "ndarray.itemsize  \n",
    "the size in bytes of each element of the array. For example, an array of\n",
    "elements of type `float64` has `itemsize` 8 (=64/8), while one of type\n",
    "`complex32` has `itemsize` 4 (=32/8). It is equivalent to\n",
    "`ndarray.dtype.itemsize`.\n",
    "\n",
    "ndarray.data  \n",
    "the buffer containing the actual elements of the array. Normally, we\n",
    "won't need to use this attribute because we will access the elements in\n",
    "an array using indexing facilities.\n",
    "\n",
    "### An example"
   ]
  },
  {
   "cell_type": "code",
   "execution_count": 3,
   "id": "ed35429c-ae3a-474e-9d8d-4d03a0cc5679",
   "metadata": {},
   "outputs": [
    {
     "data": {
      "text/plain": [
       "array([[ 0,  1,  2,  3,  4],\n",
       "       [ 5,  6,  7,  8,  9],\n",
       "       [10, 11, 12, 13, 14]])"
      ]
     },
     "execution_count": 3,
     "metadata": {},
     "output_type": "execute_result"
    }
   ],
   "source": [
    "import numpy as np \n",
    "a = np.arange(15).reshape(3, 5)\n",
    "a"
   ]
  },
  {
   "cell_type": "code",
   "execution_count": 4,
   "id": "a8099e59-eee2-4b0d-b77c-d2ab0f0b145c",
   "metadata": {},
   "outputs": [
    {
     "data": {
      "text/plain": [
       "(3, 5)"
      ]
     },
     "execution_count": 4,
     "metadata": {},
     "output_type": "execute_result"
    }
   ],
   "source": [
    "a.shape "
   ]
  },
  {
   "cell_type": "code",
   "execution_count": 5,
   "id": "24dc3e98-4015-4ef6-859d-f17f233e39d2",
   "metadata": {},
   "outputs": [
    {
     "data": {
      "text/plain": [
       "2"
      ]
     },
     "execution_count": 5,
     "metadata": {},
     "output_type": "execute_result"
    }
   ],
   "source": [
    "a.ndim "
   ]
  },
  {
   "cell_type": "code",
   "execution_count": 6,
   "id": "cbdb6b08-be73-4ee4-b40c-f719239ddb51",
   "metadata": {},
   "outputs": [
    {
     "data": {
      "text/plain": [
       "'int64'"
      ]
     },
     "execution_count": 6,
     "metadata": {},
     "output_type": "execute_result"
    }
   ],
   "source": [
    "a.dtype.name"
   ]
  },
  {
   "cell_type": "code",
   "execution_count": 7,
   "id": "185dcb48-c355-43b4-82b7-287160f77ed5",
   "metadata": {},
   "outputs": [
    {
     "data": {
      "text/plain": [
       "8"
      ]
     },
     "execution_count": 7,
     "metadata": {},
     "output_type": "execute_result"
    }
   ],
   "source": [
    "a.itemsize"
   ]
  },
  {
   "cell_type": "code",
   "execution_count": 8,
   "id": "1c53f2af-99b7-49c5-95a7-1ed41dacecc0",
   "metadata": {},
   "outputs": [
    {
     "data": {
      "text/plain": [
       "15"
      ]
     },
     "execution_count": 8,
     "metadata": {},
     "output_type": "execute_result"
    }
   ],
   "source": [
    "a.size "
   ]
  },
  {
   "cell_type": "code",
   "execution_count": 9,
   "id": "ad9c7141-414e-42e7-9c07-d1344f7932ae",
   "metadata": {},
   "outputs": [
    {
     "data": {
      "text/plain": [
       "numpy.ndarray"
      ]
     },
     "execution_count": 9,
     "metadata": {},
     "output_type": "execute_result"
    }
   ],
   "source": [
    "type(a)"
   ]
  },
  {
   "cell_type": "markdown",
   "id": "6937572e-8ed3-4d16-b8d1-513bfaec5eab",
   "metadata": {},
   "source": [
    "### Array Creation\n",
    "\n",
    "There are several ways to create arrays.\n",
    "\n",
    "For example, you can create an array from a regular Python list or tuple\n",
    "using the `array` function. The type of the resulting array is deduced\n",
    "from the type of the elements in the sequences."
   ]
  },
  {
   "cell_type": "code",
   "execution_count": 10,
   "id": "2fe1d57b",
   "metadata": {},
   "outputs": [
    {
     "data": {
      "text/plain": [
       "array([2, 3, 4])"
      ]
     },
     "execution_count": 10,
     "metadata": {},
     "output_type": "execute_result"
    }
   ],
   "source": [
    "import numpy as np\n",
    "a = np.array([2, 3, 4])\n",
    "a"
   ]
  },
  {
   "cell_type": "code",
   "execution_count": 11,
   "id": "93c2e211",
   "metadata": {},
   "outputs": [
    {
     "data": {
      "text/plain": [
       "dtype('int64')"
      ]
     },
     "execution_count": 11,
     "metadata": {},
     "output_type": "execute_result"
    }
   ],
   "source": [
    "a.dtype"
   ]
  },
  {
   "cell_type": "code",
   "execution_count": 12,
   "id": "cf900a99",
   "metadata": {},
   "outputs": [
    {
     "data": {
      "text/plain": [
       "dtype('float64')"
      ]
     },
     "execution_count": 12,
     "metadata": {},
     "output_type": "execute_result"
    }
   ],
   "source": [
    "b = np.array([1.2, 3.5, 5.1])\n",
    "b.dtype"
   ]
  },
  {
   "cell_type": "markdown",
   "id": "a8434a93",
   "metadata": {},
   "source": [
    "A frequent error consists in calling `array` with multiple arguments,\n",
    "rather than providing a single sequence as an argument."
   ]
  },
  {
   "cell_type": "code",
   "execution_count": 13,
   "id": "41a7ae46",
   "metadata": {},
   "outputs": [
    {
     "ename": "TypeError",
     "evalue": "array() takes from 1 to 2 positional arguments but 4 were given",
     "output_type": "error",
     "traceback": [
      "\u001b[0;31m---------------------------------------------------------------------------\u001b[0m",
      "\u001b[0;31mTypeError\u001b[0m                                 Traceback (most recent call last)",
      "\u001b[0;32m<ipython-input-13-56595bfbefd8>\u001b[0m in \u001b[0;36m<module>\u001b[0;34m\u001b[0m\n\u001b[0;32m----> 1\u001b[0;31m \u001b[0ma\u001b[0m \u001b[0;34m=\u001b[0m \u001b[0mnp\u001b[0m\u001b[0;34m.\u001b[0m\u001b[0marray\u001b[0m\u001b[0;34m(\u001b[0m\u001b[0;36m1\u001b[0m\u001b[0;34m,\u001b[0m \u001b[0;36m2\u001b[0m\u001b[0;34m,\u001b[0m \u001b[0;36m3\u001b[0m\u001b[0;34m,\u001b[0m \u001b[0;36m4\u001b[0m\u001b[0;34m)\u001b[0m    \u001b[0;31m# WRONG\u001b[0m\u001b[0;34m\u001b[0m\u001b[0;34m\u001b[0m\u001b[0m\n\u001b[0m",
      "\u001b[0;31mTypeError\u001b[0m: array() takes from 1 to 2 positional arguments but 4 were given"
     ]
    }
   ],
   "source": [
    "a = np.array(1, 2, 3, 4)    # WRONG"
   ]
  },
  {
   "cell_type": "code",
   "execution_count": 14,
   "id": "eb3dda52",
   "metadata": {},
   "outputs": [],
   "source": [
    "a = np.array([1, 2, 3, 4])  # RIGHT"
   ]
  },
  {
   "cell_type": "markdown",
   "id": "8a4c8e9b",
   "metadata": {},
   "source": [
    "`array` transforms sequences of sequences into two-dimensional arrays,\n",
    "sequences of sequences of sequences into three-dimensional arrays, and\n",
    "so on."
   ]
  },
  {
   "cell_type": "code",
   "execution_count": 15,
   "id": "223d898c",
   "metadata": {},
   "outputs": [
    {
     "data": {
      "text/plain": [
       "array([[1.5, 2. , 3. ],\n",
       "       [4. , 5. , 6. ]])"
      ]
     },
     "execution_count": 15,
     "metadata": {},
     "output_type": "execute_result"
    }
   ],
   "source": [
    "b = np.array([(1.5, 2, 3), (4, 5, 6)])\n",
    "b"
   ]
  },
  {
   "cell_type": "markdown",
   "id": "3950892a",
   "metadata": {},
   "source": [
    "The type of the array can also be explicitly specified at creation time:"
   ]
  },
  {
   "cell_type": "code",
   "execution_count": 16,
   "id": "2531785a",
   "metadata": {},
   "outputs": [
    {
     "data": {
      "text/plain": [
       "array([[1.+0.j, 2.+0.j],\n",
       "       [3.+0.j, 4.+0.j]])"
      ]
     },
     "execution_count": 16,
     "metadata": {},
     "output_type": "execute_result"
    }
   ],
   "source": [
    "c = np.array([[1, 2], [3, 4]], dtype=complex)\n",
    "c"
   ]
  },
  {
   "cell_type": "markdown",
   "id": "ee53259b",
   "metadata": {},
   "source": [
    "Often, the elements of an array are originally unknown, but its size is\n",
    "known. Hence, NumPy offers several functions to create arrays with\n",
    "initial placeholder content. These minimize the necessity of growing\n",
    "arrays, an expensive operation.\n",
    "\n",
    "The function `zeros` creates an array full of zeros, the function `ones`\n",
    "creates an array full of ones, and the function `empty` creates an array\n",
    "whose initial content is random and depends on the state of the memory.\n",
    "By default, the dtype of the created array is `float64`, but it can be\n",
    "specified via the key word argument `dtype`."
   ]
  },
  {
   "cell_type": "code",
   "execution_count": 17,
   "id": "1600fa02",
   "metadata": {},
   "outputs": [
    {
     "data": {
      "text/plain": [
       "array([[0., 0., 0., 0.],\n",
       "       [0., 0., 0., 0.],\n",
       "       [0., 0., 0., 0.]])"
      ]
     },
     "execution_count": 17,
     "metadata": {},
     "output_type": "execute_result"
    }
   ],
   "source": [
    "np.zeros((3, 4))"
   ]
  },
  {
   "cell_type": "code",
   "execution_count": 18,
   "id": "f18e4802",
   "metadata": {},
   "outputs": [
    {
     "data": {
      "text/plain": [
       "array([[[1, 1, 1, 1],\n",
       "        [1, 1, 1, 1],\n",
       "        [1, 1, 1, 1]],\n",
       "\n",
       "       [[1, 1, 1, 1],\n",
       "        [1, 1, 1, 1],\n",
       "        [1, 1, 1, 1]]], dtype=int16)"
      ]
     },
     "execution_count": 18,
     "metadata": {},
     "output_type": "execute_result"
    }
   ],
   "source": [
    "np.ones((2, 3, 4), dtype=np.int16)"
   ]
  },
  {
   "cell_type": "code",
   "execution_count": 19,
   "id": "c51987fc",
   "metadata": {},
   "outputs": [
    {
     "data": {
      "text/plain": [
       "array([[1.5, 2. , 3. ],\n",
       "       [4. , 5. , 6. ]])"
      ]
     },
     "execution_count": 19,
     "metadata": {},
     "output_type": "execute_result"
    }
   ],
   "source": [
    "np.empty((2, 3))"
   ]
  },
  {
   "cell_type": "markdown",
   "id": "60914dc7",
   "metadata": {},
   "source": [
    "To create sequences of numbers, NumPy provides the `arange` function\n",
    "which is analogous to the Python built-in `range`, but returns an array."
   ]
  },
  {
   "cell_type": "code",
   "execution_count": 20,
   "id": "40ec2b55",
   "metadata": {},
   "outputs": [
    {
     "data": {
      "text/plain": [
       "array([10, 15, 20, 25])"
      ]
     },
     "execution_count": 20,
     "metadata": {},
     "output_type": "execute_result"
    }
   ],
   "source": [
    "np.arange(10, 30, 5)"
   ]
  },
  {
   "cell_type": "code",
   "execution_count": 21,
   "id": "d8c08ac6",
   "metadata": {},
   "outputs": [
    {
     "data": {
      "text/plain": [
       "array([0. , 0.3, 0.6, 0.9, 1.2, 1.5, 1.8])"
      ]
     },
     "execution_count": 21,
     "metadata": {},
     "output_type": "execute_result"
    }
   ],
   "source": [
    "np.arange(0, 2, 0.3)  # it accepts float arguments"
   ]
  },
  {
   "cell_type": "markdown",
   "id": "2ffd980d",
   "metadata": {},
   "source": [
    "When `arange` is used with floating point arguments, it is generally not\n",
    "possible to predict the number of elements obtained, due to the finite\n",
    "floating point precision. For this reason, it is usually better to use\n",
    "the function `linspace` that receives as an argument the number of\n",
    "elements that we want, instead of the step:"
   ]
  },
  {
   "cell_type": "code",
   "execution_count": 22,
   "id": "31b481b0",
   "metadata": {},
   "outputs": [
    {
     "data": {
      "text/plain": [
       "array([0.  , 0.25, 0.5 , 0.75, 1.  , 1.25, 1.5 , 1.75, 2.  ])"
      ]
     },
     "execution_count": 22,
     "metadata": {},
     "output_type": "execute_result"
    }
   ],
   "source": [
    "from numpy import pi\n",
    "np.linspace(0, 2, 9)                   # 9 numbers from 0 to 2"
   ]
  },
  {
   "cell_type": "code",
   "execution_count": 23,
   "id": "f51dc408",
   "metadata": {},
   "outputs": [],
   "source": [
    "x = np.linspace(0, 2 * pi, 100)        # useful to evaluate function at lots of points\n",
    "f = np.sin(x)"
   ]
  },
  {
   "cell_type": "markdown",
   "id": "3257e671",
   "metadata": {},
   "source": [
    "<div class=\"seealso\">\n",
    "\n",
    "$array$, $zeros$, $zeros_like$, $ones$, $ones_like$, $empty$,\n",
    "$empty_like$, $arange$, $linspace$, $numpy.random.Generator.rand$,\n",
    "$numpy.random.Generator.randn$, $fromfunction$, $fromfile$\n",
    "\n",
    "</div>\n",
    "\n",
    "### Printing Arrays\n",
    "\n",
    "When you print an array, NumPy displays it in a similar way to nested\n",
    "lists, but with the following layout:\n",
    "\n",
    "-   the last axis is printed from left to right,\n",
    "-   the second-to-last is printed from top to bottom,\n",
    "-   the rest are also printed from top to bottom, with each slice\n",
    "    separated from the next by an empty line.\n",
    "\n",
    "One-dimensional arrays are then printed as rows, bidimensionals as\n",
    "matrices and tridimensionals as lists of matrices."
   ]
  },
  {
   "cell_type": "code",
   "execution_count": 24,
   "id": "816fa154",
   "metadata": {},
   "outputs": [
    {
     "name": "stdout",
     "output_type": "stream",
     "text": [
      "[0 1 2 3 4 5]\n"
     ]
    }
   ],
   "source": [
    "a = np.arange(6)                    # 1d array\n",
    "print(a)"
   ]
  },
  {
   "cell_type": "code",
   "execution_count": 25,
   "id": "40452487",
   "metadata": {},
   "outputs": [
    {
     "name": "stdout",
     "output_type": "stream",
     "text": [
      "[[ 0  1  2]\n",
      " [ 3  4  5]\n",
      " [ 6  7  8]\n",
      " [ 9 10 11]]\n"
     ]
    }
   ],
   "source": [
    "b = np.arange(12).reshape(4, 3)     # 2d array\n",
    "print(b)"
   ]
  },
  {
   "cell_type": "code",
   "execution_count": 26,
   "id": "e27fe083",
   "metadata": {},
   "outputs": [
    {
     "name": "stdout",
     "output_type": "stream",
     "text": [
      "[[[ 0  1  2  3]\n",
      "  [ 4  5  6  7]\n",
      "  [ 8  9 10 11]]\n",
      "\n",
      " [[12 13 14 15]\n",
      "  [16 17 18 19]\n",
      "  [20 21 22 23]]]\n"
     ]
    }
   ],
   "source": [
    "c = np.arange(24).reshape(2, 3, 4)  # 3d array\n",
    "print(c)"
   ]
  },
  {
   "cell_type": "markdown",
   "id": "b9859b58",
   "metadata": {},
   "source": [
    "See `below <quickstart.shape-manipulation>` to get more details on\n",
    "`reshape`.\n",
    "\n",
    "If an array is too large to be printed, NumPy automatically skips the\n",
    "central part of the array and only prints the corners:"
   ]
  },
  {
   "cell_type": "code",
   "execution_count": 27,
   "id": "30c2297b",
   "metadata": {},
   "outputs": [
    {
     "name": "stdout",
     "output_type": "stream",
     "text": [
      "[   0    1    2 ... 9997 9998 9999]\n"
     ]
    }
   ],
   "source": [
    "print(np.arange(10000))"
   ]
  },
  {
   "cell_type": "code",
   "execution_count": 28,
   "id": "5115871a",
   "metadata": {},
   "outputs": [
    {
     "name": "stdout",
     "output_type": "stream",
     "text": [
      "[[   0    1    2 ...   97   98   99]\n",
      " [ 100  101  102 ...  197  198  199]\n",
      " [ 200  201  202 ...  297  298  299]\n",
      " ...\n",
      " [9700 9701 9702 ... 9797 9798 9799]\n",
      " [9800 9801 9802 ... 9897 9898 9899]\n",
      " [9900 9901 9902 ... 9997 9998 9999]]\n"
     ]
    }
   ],
   "source": [
    "print(np.arange(10000).reshape(100, 100))"
   ]
  },
  {
   "cell_type": "markdown",
   "id": "6c224855",
   "metadata": {},
   "source": [
    "To disable this behaviour and force NumPy to print the entire array, you\n",
    "can change the printing options using `set_printoptions`."
   ]
  },
  {
   "cell_type": "code",
   "execution_count": 29,
   "id": "0d9035a2",
   "metadata": {},
   "outputs": [],
   "source": [
    "np.set_printoptions(threshold=sys.maxsize)  # sys module should be imported"
   ]
  },
  {
   "cell_type": "markdown",
   "id": "26f0fe16",
   "metadata": {},
   "source": [
    "### Basic Operations\n",
    "\n",
    "Arithmetic operators on arrays apply *elementwise*. A new array is\n",
    "created and filled with the result."
   ]
  },
  {
   "cell_type": "code",
   "execution_count": 30,
   "id": "978e524e",
   "metadata": {},
   "outputs": [
    {
     "data": {
      "text/plain": [
       "array([0, 1, 2, 3])"
      ]
     },
     "execution_count": 30,
     "metadata": {},
     "output_type": "execute_result"
    }
   ],
   "source": [
    "a = np.array([20, 30, 40, 50])\n",
    "b = np.arange(4)\n",
    "b"
   ]
  },
  {
   "cell_type": "code",
   "execution_count": 31,
   "id": "0ddaec46",
   "metadata": {},
   "outputs": [
    {
     "data": {
      "text/plain": [
       "array([20, 29, 38, 47])"
      ]
     },
     "execution_count": 31,
     "metadata": {},
     "output_type": "execute_result"
    }
   ],
   "source": [
    "c = a - b\n",
    "c"
   ]
  },
  {
   "cell_type": "code",
   "execution_count": 32,
   "id": "8a095163",
   "metadata": {},
   "outputs": [
    {
     "data": {
      "text/plain": [
       "array([0, 1, 4, 9])"
      ]
     },
     "execution_count": 32,
     "metadata": {},
     "output_type": "execute_result"
    }
   ],
   "source": [
    "b**2"
   ]
  },
  {
   "cell_type": "code",
   "execution_count": 33,
   "id": "e95ba89f",
   "metadata": {},
   "outputs": [
    {
     "data": {
      "text/plain": [
       "array([ 9.12945251, -9.88031624,  7.4511316 , -2.62374854])"
      ]
     },
     "execution_count": 33,
     "metadata": {},
     "output_type": "execute_result"
    }
   ],
   "source": [
    "10 * np.sin(a)"
   ]
  },
  {
   "cell_type": "code",
   "execution_count": 34,
   "id": "8fbfea57",
   "metadata": {},
   "outputs": [
    {
     "data": {
      "text/plain": [
       "array([ True,  True, False, False])"
      ]
     },
     "execution_count": 34,
     "metadata": {},
     "output_type": "execute_result"
    }
   ],
   "source": [
    "a < 35"
   ]
  },
  {
   "cell_type": "markdown",
   "id": "38e5721a",
   "metadata": {},
   "source": [
    "Unlike in many matrix languages, the product operator `*` operates\n",
    "elementwise in NumPy arrays. The matrix product can be performed using\n",
    "the `@` operator (in python \\>=3.5) or the `dot` function or method:"
   ]
  },
  {
   "cell_type": "code",
   "execution_count": 35,
   "id": "0a31d824",
   "metadata": {},
   "outputs": [
    {
     "data": {
      "text/plain": [
       "array([[2, 0],\n",
       "       [0, 4]])"
      ]
     },
     "execution_count": 35,
     "metadata": {},
     "output_type": "execute_result"
    }
   ],
   "source": [
    "A = np.array([[1, 1],\n",
    "              [0, 1]])\n",
    "B = np.array([[2, 0],\n",
    "              [3, 4]])\n",
    "A * B     # elementwise product"
   ]
  },
  {
   "cell_type": "code",
   "execution_count": 36,
   "id": "e6ae9f1d",
   "metadata": {},
   "outputs": [
    {
     "data": {
      "text/plain": [
       "array([[5, 4],\n",
       "       [3, 4]])"
      ]
     },
     "execution_count": 36,
     "metadata": {},
     "output_type": "execute_result"
    }
   ],
   "source": [
    "A @ B     # matrix product"
   ]
  },
  {
   "cell_type": "code",
   "execution_count": 37,
   "id": "173bdb2b",
   "metadata": {},
   "outputs": [
    {
     "data": {
      "text/plain": [
       "array([[5, 4],\n",
       "       [3, 4]])"
      ]
     },
     "execution_count": 37,
     "metadata": {},
     "output_type": "execute_result"
    }
   ],
   "source": [
    "A.dot(B)  # another matrix product"
   ]
  },
  {
   "cell_type": "markdown",
   "id": "4e9d26f3",
   "metadata": {},
   "source": [
    "Some operations, such as `+=` and `*=`, act in place to modify an\n",
    "existing array rather than create a new one."
   ]
  },
  {
   "cell_type": "code",
   "execution_count": 38,
   "id": "a2c575dc",
   "metadata": {},
   "outputs": [
    {
     "data": {
      "text/plain": [
       "array([[3, 3, 3],\n",
       "       [3, 3, 3]])"
      ]
     },
     "execution_count": 38,
     "metadata": {},
     "output_type": "execute_result"
    }
   ],
   "source": [
    "rg = np.random.default_rng(1)  # create instance of default random number generator\n",
    "a = np.ones((2, 3), dtype=int)\n",
    "b = rg.random((2, 3))\n",
    "a *= 3\n",
    "a"
   ]
  },
  {
   "cell_type": "code",
   "execution_count": 39,
   "id": "df2b9a65",
   "metadata": {},
   "outputs": [
    {
     "data": {
      "text/plain": [
       "array([[3.51182162, 3.9504637 , 3.14415961],\n",
       "       [3.94864945, 3.31183145, 3.42332645]])"
      ]
     },
     "execution_count": 39,
     "metadata": {},
     "output_type": "execute_result"
    }
   ],
   "source": [
    "b += a\n",
    "b"
   ]
  },
  {
   "cell_type": "code",
   "execution_count": 40,
   "id": "48a1b8f1",
   "metadata": {},
   "outputs": [
    {
     "ename": "UFuncTypeError",
     "evalue": "Cannot cast ufunc 'add' output from dtype('float64') to dtype('int64') with casting rule 'same_kind'",
     "output_type": "error",
     "traceback": [
      "\u001b[0;31m---------------------------------------------------------------------------\u001b[0m",
      "\u001b[0;31mUFuncTypeError\u001b[0m                            Traceback (most recent call last)",
      "\u001b[0;32m<ipython-input-40-a1fdc9af172d>\u001b[0m in \u001b[0;36m<module>\u001b[0;34m\u001b[0m\n\u001b[0;32m----> 1\u001b[0;31m \u001b[0ma\u001b[0m \u001b[0;34m+=\u001b[0m \u001b[0mb\u001b[0m  \u001b[0;31m# b is not automatically converted to integer type\u001b[0m\u001b[0;34m\u001b[0m\u001b[0;34m\u001b[0m\u001b[0m\n\u001b[0m",
      "\u001b[0;31mUFuncTypeError\u001b[0m: Cannot cast ufunc 'add' output from dtype('float64') to dtype('int64') with casting rule 'same_kind'"
     ]
    }
   ],
   "source": [
    "a += b  # b is not automatically converted to integer type"
   ]
  },
  {
   "cell_type": "markdown",
   "id": "c4b96d80",
   "metadata": {},
   "source": [
    "When operating with arrays of different types, the type of the resulting\n",
    "array corresponds to the more general or precise one (a behavior known\n",
    "as upcasting)."
   ]
  },
  {
   "cell_type": "code",
   "execution_count": 41,
   "id": "d913e47e",
   "metadata": {},
   "outputs": [
    {
     "data": {
      "text/plain": [
       "'float64'"
      ]
     },
     "execution_count": 41,
     "metadata": {},
     "output_type": "execute_result"
    }
   ],
   "source": [
    "a = np.ones(3, dtype=np.int32)\n",
    "b = np.linspace(0, pi, 3)\n",
    "b.dtype.name"
   ]
  },
  {
   "cell_type": "code",
   "execution_count": 42,
   "id": "15d386bd",
   "metadata": {},
   "outputs": [
    {
     "data": {
      "text/plain": [
       "array([1.        , 2.57079633, 4.14159265])"
      ]
     },
     "execution_count": 42,
     "metadata": {},
     "output_type": "execute_result"
    }
   ],
   "source": [
    "c = a + b\n",
    "c"
   ]
  },
  {
   "cell_type": "code",
   "execution_count": 43,
   "id": "33b3f998",
   "metadata": {},
   "outputs": [
    {
     "data": {
      "text/plain": [
       "'float64'"
      ]
     },
     "execution_count": 43,
     "metadata": {},
     "output_type": "execute_result"
    }
   ],
   "source": [
    "c.dtype.name"
   ]
  },
  {
   "cell_type": "code",
   "execution_count": 44,
   "id": "5d4d3722",
   "metadata": {},
   "outputs": [
    {
     "data": {
      "text/plain": [
       "array([ 0.54030231+0.84147098j, -0.84147098+0.54030231j,\n",
       "       -0.54030231-0.84147098j])"
      ]
     },
     "execution_count": 44,
     "metadata": {},
     "output_type": "execute_result"
    }
   ],
   "source": [
    "d = np.exp(c * 1j)\n",
    "d"
   ]
  },
  {
   "cell_type": "code",
   "execution_count": 45,
   "id": "32a689ed",
   "metadata": {},
   "outputs": [
    {
     "data": {
      "text/plain": [
       "'complex128'"
      ]
     },
     "execution_count": 45,
     "metadata": {},
     "output_type": "execute_result"
    }
   ],
   "source": [
    "d.dtype.name"
   ]
  },
  {
   "cell_type": "markdown",
   "id": "fbe3ab1b",
   "metadata": {},
   "source": [
    "Many unary operations, such as computing the sum of all the elements in\n",
    "the array, are implemented as methods of the `ndarray` class."
   ]
  },
  {
   "cell_type": "code",
   "execution_count": 46,
   "id": "cbdf33cb",
   "metadata": {},
   "outputs": [
    {
     "data": {
      "text/plain": [
       "array([[0.82770259, 0.40919914, 0.54959369],\n",
       "       [0.02755911, 0.75351311, 0.53814331]])"
      ]
     },
     "execution_count": 46,
     "metadata": {},
     "output_type": "execute_result"
    }
   ],
   "source": [
    "a = rg.random((2, 3))\n",
    "a"
   ]
  },
  {
   "cell_type": "code",
   "execution_count": 47,
   "id": "5fd12ca7",
   "metadata": {},
   "outputs": [
    {
     "data": {
      "text/plain": [
       "3.1057109529998157"
      ]
     },
     "execution_count": 47,
     "metadata": {},
     "output_type": "execute_result"
    }
   ],
   "source": [
    "a.sum()"
   ]
  },
  {
   "cell_type": "code",
   "execution_count": 48,
   "id": "bb5b5752",
   "metadata": {},
   "outputs": [
    {
     "data": {
      "text/plain": [
       "0.027559113243068367"
      ]
     },
     "execution_count": 48,
     "metadata": {},
     "output_type": "execute_result"
    }
   ],
   "source": [
    "a.min()"
   ]
  },
  {
   "cell_type": "code",
   "execution_count": 49,
   "id": "2ade9729",
   "metadata": {},
   "outputs": [
    {
     "data": {
      "text/plain": [
       "0.8277025938204418"
      ]
     },
     "execution_count": 49,
     "metadata": {},
     "output_type": "execute_result"
    }
   ],
   "source": [
    "a.max()"
   ]
  },
  {
   "cell_type": "markdown",
   "id": "8aabf3b6",
   "metadata": {},
   "source": [
    "By default, these operations apply to the array as though it were a list\n",
    "of numbers, regardless of its shape. However, by specifying the `axis`\n",
    "parameter you can apply an operation along the specified axis of an\n",
    "array:"
   ]
  },
  {
   "cell_type": "code",
   "execution_count": 50,
   "id": "7456ff58",
   "metadata": {},
   "outputs": [
    {
     "data": {
      "text/plain": [
       "array([[ 0,  1,  2,  3],\n",
       "       [ 4,  5,  6,  7],\n",
       "       [ 8,  9, 10, 11]])"
      ]
     },
     "execution_count": 50,
     "metadata": {},
     "output_type": "execute_result"
    }
   ],
   "source": [
    "b = np.arange(12).reshape(3, 4)\n",
    "b"
   ]
  },
  {
   "cell_type": "code",
   "execution_count": 51,
   "id": "9d985872",
   "metadata": {},
   "outputs": [
    {
     "data": {
      "text/plain": [
       "array([12, 15, 18, 21])"
      ]
     },
     "execution_count": 51,
     "metadata": {},
     "output_type": "execute_result"
    }
   ],
   "source": [
    "b.sum(axis=0)     # sum of each column"
   ]
  },
  {
   "cell_type": "code",
   "execution_count": 52,
   "id": "1f6772d5",
   "metadata": {},
   "outputs": [
    {
     "data": {
      "text/plain": [
       "array([0, 4, 8])"
      ]
     },
     "execution_count": 52,
     "metadata": {},
     "output_type": "execute_result"
    }
   ],
   "source": [
    "b.min(axis=1)     # min of each row"
   ]
  },
  {
   "cell_type": "code",
   "execution_count": 53,
   "id": "ded4577d",
   "metadata": {},
   "outputs": [
    {
     "data": {
      "text/plain": [
       "array([[ 0,  1,  3,  6],\n",
       "       [ 4,  9, 15, 22],\n",
       "       [ 8, 17, 27, 38]])"
      ]
     },
     "execution_count": 53,
     "metadata": {},
     "output_type": "execute_result"
    }
   ],
   "source": [
    "b.cumsum(axis=1)  # cumulative sum along each row"
   ]
  },
  {
   "cell_type": "markdown",
   "id": "bd997c09",
   "metadata": {},
   "source": [
    "### Universal Functions\n",
    "\n",
    "NumPy provides familiar mathematical functions such as sin, cos, and\n",
    "exp. In NumPy, these are called \"universal functions\" (`ufunc`). Within\n",
    "NumPy, these functions operate elementwise on an array, producing an\n",
    "array as output."
   ]
  },
  {
   "cell_type": "code",
   "execution_count": 54,
   "id": "4f6220b4",
   "metadata": {},
   "outputs": [
    {
     "data": {
      "text/plain": [
       "array([0, 1, 2])"
      ]
     },
     "execution_count": 54,
     "metadata": {},
     "output_type": "execute_result"
    }
   ],
   "source": [
    "B = np.arange(3)\n",
    "B"
   ]
  },
  {
   "cell_type": "code",
   "execution_count": 55,
   "id": "4f8d33eb",
   "metadata": {},
   "outputs": [
    {
     "data": {
      "text/plain": [
       "array([1.        , 2.71828183, 7.3890561 ])"
      ]
     },
     "execution_count": 55,
     "metadata": {},
     "output_type": "execute_result"
    }
   ],
   "source": [
    "np.exp(B)"
   ]
  },
  {
   "cell_type": "code",
   "execution_count": 56,
   "id": "a5d60825",
   "metadata": {},
   "outputs": [
    {
     "data": {
      "text/plain": [
       "array([0.        , 1.        , 1.41421356])"
      ]
     },
     "execution_count": 56,
     "metadata": {},
     "output_type": "execute_result"
    }
   ],
   "source": [
    "np.sqrt(B)"
   ]
  },
  {
   "cell_type": "code",
   "execution_count": 57,
   "id": "6aea61d4",
   "metadata": {},
   "outputs": [
    {
     "data": {
      "text/plain": [
       "array([2., 0., 6.])"
      ]
     },
     "execution_count": 57,
     "metadata": {},
     "output_type": "execute_result"
    }
   ],
   "source": [
    "C = np.array([2., -1., 4.])\n",
    "np.add(B, C)"
   ]
  },
  {
   "cell_type": "markdown",
   "id": "c0fe58f6",
   "metadata": {},
   "source": [
    "<div class=\"seealso\">\n",
    "\n",
    "$all$, $any$, $apply_along_axis$, $argmax$, $argmin$, $argsort$,\n",
    "$average$, $bincount$, $ceil$, $clip$, $conj$, $corrcoef$, $cov$,\n",
    "$cross$, $cumprod$, $cumsum$, $diff$, $dot$, $floor$, $inner$, $invert$,\n",
    "$lexsort$, $max$, $maximum$, $mean$, $median$, $min$, $minimum$,\n",
    "$nonzero$, $outer$, $prod$, $re$, $round$, $sort$, $std$, $sum$,\n",
    "$trace$, $transpose$, $var$, $vdot$, $vectorize$, $where$\n",
    "\n",
    "</div>\n",
    "\n",
    "### Indexing, Slicing and Iterating\n",
    "\n",
    "**One-dimensional** arrays can be indexed, sliced and iterated over,\n",
    "much like\n",
    "[lists](https://docs.python.org/tutorial/introduction.html#lists) and\n",
    "other Python sequences."
   ]
  },
  {
   "cell_type": "code",
   "execution_count": 58,
   "id": "d252aad7",
   "metadata": {},
   "outputs": [
    {
     "data": {
      "text/plain": [
       "array([  0,   1,   8,  27,  64, 125, 216, 343, 512, 729])"
      ]
     },
     "execution_count": 58,
     "metadata": {},
     "output_type": "execute_result"
    }
   ],
   "source": [
    "a = np.arange(10)**3\n",
    "a"
   ]
  },
  {
   "cell_type": "code",
   "execution_count": 59,
   "id": "433d8d56",
   "metadata": {},
   "outputs": [
    {
     "data": {
      "text/plain": [
       "8"
      ]
     },
     "execution_count": 59,
     "metadata": {},
     "output_type": "execute_result"
    }
   ],
   "source": [
    "a[2]"
   ]
  },
  {
   "cell_type": "code",
   "execution_count": 60,
   "id": "a0222a50",
   "metadata": {},
   "outputs": [
    {
     "data": {
      "text/plain": [
       "array([ 8, 27, 64])"
      ]
     },
     "execution_count": 60,
     "metadata": {},
     "output_type": "execute_result"
    }
   ],
   "source": [
    "a[2:5]"
   ]
  },
  {
   "cell_type": "code",
   "execution_count": 61,
   "id": "193229a2",
   "metadata": {},
   "outputs": [
    {
     "data": {
      "text/plain": [
       "array([1000,    1, 1000,   27, 1000,  125,  216,  343,  512,  729])"
      ]
     },
     "execution_count": 61,
     "metadata": {},
     "output_type": "execute_result"
    }
   ],
   "source": [
    "# equivalent to a[0:6:2] = 1000;\n",
    "# from start to position 6, exclusive, set every 2nd element to 1000\n",
    "a[:6:2] = 1000\n",
    "a"
   ]
  },
  {
   "cell_type": "code",
   "execution_count": 62,
   "id": "73e06ca6",
   "metadata": {},
   "outputs": [
    {
     "data": {
      "text/plain": [
       "array([ 729,  512,  343,  216,  125, 1000,   27, 1000,    1, 1000])"
      ]
     },
     "execution_count": 62,
     "metadata": {},
     "output_type": "execute_result"
    }
   ],
   "source": [
    "a[::-1]  # reversed a"
   ]
  },
  {
   "cell_type": "code",
   "execution_count": 63,
   "id": "a9c6cc53",
   "metadata": {},
   "outputs": [
    {
     "name": "stdout",
     "output_type": "stream",
     "text": [
      "9.999999999999998\n",
      "1.0\n",
      "9.999999999999998\n",
      "3.0\n",
      "9.999999999999998\n",
      "4.999999999999999\n",
      "5.999999999999999\n",
      "6.999999999999999\n",
      "7.999999999999999\n",
      "8.999999999999998\n"
     ]
    }
   ],
   "source": [
    "for i in a:\n",
    "    print(i**(1 / 3.))"
   ]
  },
  {
   "cell_type": "markdown",
   "id": "4454bcfe",
   "metadata": {},
   "source": [
    "**Multidimensional** arrays can have one index per axis. These indices\n",
    "are given in a tuple separated by commas:"
   ]
  },
  {
   "cell_type": "code",
   "execution_count": 64,
   "id": "68e3222b",
   "metadata": {},
   "outputs": [
    {
     "data": {
      "text/plain": [
       "array([[ 0,  1,  2,  3],\n",
       "       [10, 11, 12, 13],\n",
       "       [20, 21, 22, 23],\n",
       "       [30, 31, 32, 33],\n",
       "       [40, 41, 42, 43]])"
      ]
     },
     "execution_count": 64,
     "metadata": {},
     "output_type": "execute_result"
    }
   ],
   "source": [
    "def f(x, y):\n",
    "    return 10 * x + y\n",
    "\n",
    "b = np.fromfunction(f, (5, 4), dtype=int)\n",
    "b"
   ]
  },
  {
   "cell_type": "code",
   "execution_count": 65,
   "id": "8b276161",
   "metadata": {},
   "outputs": [
    {
     "data": {
      "text/plain": [
       "23"
      ]
     },
     "execution_count": 65,
     "metadata": {},
     "output_type": "execute_result"
    }
   ],
   "source": [
    "b[2, 3]"
   ]
  },
  {
   "cell_type": "code",
   "execution_count": 66,
   "id": "23220569",
   "metadata": {},
   "outputs": [
    {
     "data": {
      "text/plain": [
       "array([ 1, 11, 21, 31, 41])"
      ]
     },
     "execution_count": 66,
     "metadata": {},
     "output_type": "execute_result"
    }
   ],
   "source": [
    "b[0:5, 1]  # each row in the second column of b"
   ]
  },
  {
   "cell_type": "code",
   "execution_count": 67,
   "id": "aee280b0",
   "metadata": {},
   "outputs": [
    {
     "data": {
      "text/plain": [
       "array([ 1, 11, 21, 31, 41])"
      ]
     },
     "execution_count": 67,
     "metadata": {},
     "output_type": "execute_result"
    }
   ],
   "source": [
    "b[:, 1]    # equivalent to the previous example"
   ]
  },
  {
   "cell_type": "code",
   "execution_count": 68,
   "id": "5df0a410",
   "metadata": {},
   "outputs": [
    {
     "data": {
      "text/plain": [
       "array([[10, 11, 12, 13],\n",
       "       [20, 21, 22, 23]])"
      ]
     },
     "execution_count": 68,
     "metadata": {},
     "output_type": "execute_result"
    }
   ],
   "source": [
    "b[1:3, :]  # each column in the second and third row of b"
   ]
  },
  {
   "cell_type": "markdown",
   "id": "96d74912",
   "metadata": {},
   "source": [
    "When fewer indices are provided than the number of axes, the missing\n",
    "indices are considered complete slices`:`"
   ]
  },
  {
   "cell_type": "code",
   "execution_count": 69,
   "id": "336d0e30",
   "metadata": {},
   "outputs": [
    {
     "data": {
      "text/plain": [
       "array([40, 41, 42, 43])"
      ]
     },
     "execution_count": 69,
     "metadata": {},
     "output_type": "execute_result"
    }
   ],
   "source": [
    "b[-1]   # the last row. Equivalent to b[-1, :]"
   ]
  },
  {
   "cell_type": "markdown",
   "id": "a76fd161",
   "metadata": {},
   "source": [
    "The expression within brackets in `b[i]` is treated as an `i` followed\n",
    "by as many instances of `:` as needed to represent the remaining axes.\n",
    "NumPy also allows you to write this using dots as `b[i, ...]`.\n",
    "\n",
    "The **dots** (`...`) represent as many colons as needed to produce a\n",
    "complete indexing tuple. For example, if `x` is an array with 5 axes,\n",
    "then\n",
    "\n",
    "-   `x[1, 2, ...]` is equivalent to `x[1, 2, :, :, :]`,\n",
    "-   `x[..., 3]` to `x[:, :, :, :, 3]` and\n",
    "-   `x[4, ..., 5, :]` to `x[4, :, :, 5, :]`."
   ]
  },
  {
   "cell_type": "code",
   "execution_count": 70,
   "id": "c51015b4",
   "metadata": {},
   "outputs": [
    {
     "data": {
      "text/plain": [
       "(2, 2, 3)"
      ]
     },
     "execution_count": 70,
     "metadata": {},
     "output_type": "execute_result"
    }
   ],
   "source": [
    "c = np.array([[[  0,  1,  2],  # a 3D array (two stacked 2D arrays)\n",
    "               [ 10, 12, 13]],\n",
    "              [[100, 101, 102],\n",
    "               [110, 112, 113]]])\n",
    "c.shape"
   ]
  },
  {
   "cell_type": "code",
   "execution_count": 71,
   "id": "061b5594",
   "metadata": {},
   "outputs": [
    {
     "data": {
      "text/plain": [
       "array([[100, 101, 102],\n",
       "       [110, 112, 113]])"
      ]
     },
     "execution_count": 71,
     "metadata": {},
     "output_type": "execute_result"
    }
   ],
   "source": [
    "c[1, ...]  # same as c[1, :, :] or c[1]"
   ]
  },
  {
   "cell_type": "code",
   "execution_count": 72,
   "id": "75307c5e",
   "metadata": {},
   "outputs": [
    {
     "data": {
      "text/plain": [
       "array([[  2,  13],\n",
       "       [102, 113]])"
      ]
     },
     "execution_count": 72,
     "metadata": {},
     "output_type": "execute_result"
    }
   ],
   "source": [
    "c[..., 2]  # same as c[:, :, 2]"
   ]
  },
  {
   "cell_type": "markdown",
   "id": "645add71",
   "metadata": {},
   "source": [
    "**Iterating** over multidimensional arrays is done with respect to the\n",
    "first axis:"
   ]
  },
  {
   "cell_type": "code",
   "execution_count": 73,
   "id": "1336fdf7",
   "metadata": {},
   "outputs": [
    {
     "name": "stdout",
     "output_type": "stream",
     "text": [
      "[0 1 2 3]\n",
      "[10 11 12 13]\n",
      "[20 21 22 23]\n",
      "[30 31 32 33]\n",
      "[40 41 42 43]\n"
     ]
    }
   ],
   "source": [
    "for row in b:\n",
    "    print(row)"
   ]
  },
  {
   "cell_type": "markdown",
   "id": "2b07acfb",
   "metadata": {},
   "source": [
    "However, if one wants to perform an operation on each element in the\n",
    "array, one can use the `flat` attribute which is an\n",
    "[iterator](https://docs.python.org/tutorial/classes.html#iterators) over\n",
    "all the elements of the array:"
   ]
  },
  {
   "cell_type": "code",
   "execution_count": 74,
   "id": "1107da3b",
   "metadata": {},
   "outputs": [
    {
     "name": "stdout",
     "output_type": "stream",
     "text": [
      "0\n",
      "1\n",
      "2\n",
      "3\n",
      "10\n",
      "11\n",
      "12\n",
      "13\n",
      "20\n",
      "21\n",
      "22\n",
      "23\n",
      "30\n",
      "31\n",
      "32\n",
      "33\n",
      "40\n",
      "41\n",
      "42\n",
      "43\n"
     ]
    }
   ],
   "source": [
    "for element in b.flat:\n",
    "    print(element)"
   ]
  },
  {
   "cell_type": "markdown",
   "id": "44135814",
   "metadata": {},
   "source": [
    "<div class=\"seealso\">\n",
    "\n",
    "`basics.indexing`, `arrays.indexing` (reference), $newaxis$,\n",
    "$ndenumerate$, $indices$\n",
    "\n",
    "</div>\n",
    "\n",
    "## Shape Manipulation\n",
    "\n",
    "### Changing the shape of an array\n",
    "\n",
    "An array has a shape given by the number of elements along each axis:"
   ]
  },
  {
   "cell_type": "code",
   "execution_count": 75,
   "id": "3b8f8f3f",
   "metadata": {},
   "outputs": [
    {
     "data": {
      "text/plain": [
       "array([[3., 7., 3., 4.],\n",
       "       [1., 4., 2., 2.],\n",
       "       [7., 2., 4., 9.]])"
      ]
     },
     "execution_count": 75,
     "metadata": {},
     "output_type": "execute_result"
    }
   ],
   "source": [
    "a = np.floor(10 * rg.random((3, 4)))\n",
    "a"
   ]
  },
  {
   "cell_type": "code",
   "execution_count": 76,
   "id": "f112a2bf",
   "metadata": {},
   "outputs": [
    {
     "data": {
      "text/plain": [
       "(3, 4)"
      ]
     },
     "execution_count": 76,
     "metadata": {},
     "output_type": "execute_result"
    }
   ],
   "source": [
    "a.shape"
   ]
  },
  {
   "cell_type": "markdown",
   "id": "882b782d",
   "metadata": {},
   "source": [
    "The shape of an array can be changed with various commands. Note that\n",
    "the following three commands all return a modified array, but do not\n",
    "change the original array:"
   ]
  },
  {
   "cell_type": "code",
   "execution_count": 77,
   "id": "da7d8ccd",
   "metadata": {},
   "outputs": [
    {
     "data": {
      "text/plain": [
       "array([3., 7., 3., 4., 1., 4., 2., 2., 7., 2., 4., 9.])"
      ]
     },
     "execution_count": 77,
     "metadata": {},
     "output_type": "execute_result"
    }
   ],
   "source": [
    "a.ravel()  # returns the array, flattened"
   ]
  },
  {
   "cell_type": "code",
   "execution_count": 78,
   "id": "73e8be99",
   "metadata": {},
   "outputs": [
    {
     "data": {
      "text/plain": [
       "array([[3., 7.],\n",
       "       [3., 4.],\n",
       "       [1., 4.],\n",
       "       [2., 2.],\n",
       "       [7., 2.],\n",
       "       [4., 9.]])"
      ]
     },
     "execution_count": 78,
     "metadata": {},
     "output_type": "execute_result"
    }
   ],
   "source": [
    "a.reshape(6, 2)  # returns the array with a modified shape"
   ]
  },
  {
   "cell_type": "code",
   "execution_count": 79,
   "id": "fa6509c8",
   "metadata": {},
   "outputs": [
    {
     "data": {
      "text/plain": [
       "array([[3., 1., 7.],\n",
       "       [7., 4., 2.],\n",
       "       [3., 2., 4.],\n",
       "       [4., 2., 9.]])"
      ]
     },
     "execution_count": 79,
     "metadata": {},
     "output_type": "execute_result"
    }
   ],
   "source": [
    "a.T  # returns the array, transposed"
   ]
  },
  {
   "cell_type": "code",
   "execution_count": 80,
   "id": "0fecbd68",
   "metadata": {},
   "outputs": [
    {
     "data": {
      "text/plain": [
       "(4, 3)"
      ]
     },
     "execution_count": 80,
     "metadata": {},
     "output_type": "execute_result"
    }
   ],
   "source": [
    "a.T.shape"
   ]
  },
  {
   "cell_type": "code",
   "execution_count": 81,
   "id": "8e2838ba",
   "metadata": {},
   "outputs": [
    {
     "data": {
      "text/plain": [
       "(3, 4)"
      ]
     },
     "execution_count": 81,
     "metadata": {},
     "output_type": "execute_result"
    }
   ],
   "source": [
    "a.shape"
   ]
  },
  {
   "cell_type": "markdown",
   "id": "1f1666ec",
   "metadata": {},
   "source": [
    "The order of the elements in the array resulting from `ravel` is\n",
    "normally \"C-style\", that is, the rightmost index \"changes the fastest\",\n",
    "so the element after `a[0, 0]` is `a[0, 1]`. If the array is reshaped to\n",
    "some other shape, again the array is treated as \"C-style\". NumPy\n",
    "normally creates arrays stored in this order, so `ravel` will usually\n",
    "not need to copy its argument, but if the array was made by taking\n",
    "slices of another array or created with unusual options, it may need to\n",
    "be copied. The functions `ravel` and `reshape` can also be instructed,\n",
    "using an optional argument, to use FORTRAN-style arrays, in which the\n",
    "leftmost index changes the fastest.\n",
    "\n",
    "The $reshape$ function returns its argument with a modified shape,\n",
    "whereas the $ndarray.resize$ method modifies the array itself:"
   ]
  },
  {
   "cell_type": "code",
   "execution_count": 82,
   "id": "40656d05",
   "metadata": {},
   "outputs": [
    {
     "data": {
      "text/plain": [
       "array([[3., 7., 3., 4.],\n",
       "       [1., 4., 2., 2.],\n",
       "       [7., 2., 4., 9.]])"
      ]
     },
     "execution_count": 82,
     "metadata": {},
     "output_type": "execute_result"
    }
   ],
   "source": [
    "a"
   ]
  },
  {
   "cell_type": "code",
   "execution_count": 83,
   "id": "3c3c0f32",
   "metadata": {},
   "outputs": [
    {
     "data": {
      "text/plain": [
       "array([[3., 7., 3., 4., 1., 4.],\n",
       "       [2., 2., 7., 2., 4., 9.]])"
      ]
     },
     "execution_count": 83,
     "metadata": {},
     "output_type": "execute_result"
    }
   ],
   "source": [
    "a.resize((2, 6))\n",
    "a"
   ]
  },
  {
   "cell_type": "markdown",
   "id": "1997bbf8",
   "metadata": {},
   "source": [
    "If a dimension is given as `-1` in a reshaping operation, the other\n",
    "dimensions are automatically calculated:"
   ]
  },
  {
   "cell_type": "code",
   "execution_count": 84,
   "id": "bc55b73c",
   "metadata": {},
   "outputs": [
    {
     "data": {
      "text/plain": [
       "array([[3., 7., 3., 4.],\n",
       "       [1., 4., 2., 2.],\n",
       "       [7., 2., 4., 9.]])"
      ]
     },
     "execution_count": 84,
     "metadata": {},
     "output_type": "execute_result"
    }
   ],
   "source": [
    "a.reshape(3, -1)"
   ]
  },
  {
   "cell_type": "markdown",
   "id": "7226082b",
   "metadata": {},
   "source": [
    "<div class=\"seealso\">\n",
    "\n",
    "$ndarray.shape$, $reshape$, $resize$, $ravel$\n",
    "\n",
    "</div>\n",
    "\n",
    "### Stacking together different arrays\n",
    "\n",
    "Several arrays can be stacked together along different axes:"
   ]
  },
  {
   "cell_type": "code",
   "execution_count": 85,
   "id": "425a7053",
   "metadata": {},
   "outputs": [
    {
     "data": {
      "text/plain": [
       "array([[9., 7.],\n",
       "       [5., 2.]])"
      ]
     },
     "execution_count": 85,
     "metadata": {},
     "output_type": "execute_result"
    }
   ],
   "source": [
    "a = np.floor(10 * rg.random((2, 2)))\n",
    "a"
   ]
  },
  {
   "cell_type": "code",
   "execution_count": 86,
   "id": "d4b04fff",
   "metadata": {},
   "outputs": [
    {
     "data": {
      "text/plain": [
       "array([[1., 9.],\n",
       "       [5., 1.]])"
      ]
     },
     "execution_count": 86,
     "metadata": {},
     "output_type": "execute_result"
    }
   ],
   "source": [
    "b = np.floor(10 * rg.random((2, 2)))\n",
    "b"
   ]
  },
  {
   "cell_type": "code",
   "execution_count": 87,
   "id": "a5697524",
   "metadata": {},
   "outputs": [
    {
     "data": {
      "text/plain": [
       "array([[9., 7.],\n",
       "       [5., 2.],\n",
       "       [1., 9.],\n",
       "       [5., 1.]])"
      ]
     },
     "execution_count": 87,
     "metadata": {},
     "output_type": "execute_result"
    }
   ],
   "source": [
    "np.vstack((a, b))"
   ]
  },
  {
   "cell_type": "code",
   "execution_count": 88,
   "id": "1f9378a1",
   "metadata": {},
   "outputs": [
    {
     "data": {
      "text/plain": [
       "array([[9., 7., 1., 9.],\n",
       "       [5., 2., 5., 1.]])"
      ]
     },
     "execution_count": 88,
     "metadata": {},
     "output_type": "execute_result"
    }
   ],
   "source": [
    "np.hstack((a, b))"
   ]
  },
  {
   "cell_type": "markdown",
   "id": "fe64d35c",
   "metadata": {},
   "source": [
    "The function $column_stack$ stacks 1D arrays as columns into a 2D array.\n",
    "It is equivalent to $hstack$ only for 2D arrays:"
   ]
  },
  {
   "cell_type": "code",
   "execution_count": 89,
   "id": "d8684a44",
   "metadata": {},
   "outputs": [
    {
     "data": {
      "text/plain": [
       "array([[9., 7., 1., 9.],\n",
       "       [5., 2., 5., 1.]])"
      ]
     },
     "execution_count": 89,
     "metadata": {},
     "output_type": "execute_result"
    }
   ],
   "source": [
    "from numpy import newaxis\n",
    "np.column_stack((a, b))  # with 2D arrays"
   ]
  },
  {
   "cell_type": "code",
   "execution_count": 90,
   "id": "ce545f47",
   "metadata": {},
   "outputs": [
    {
     "data": {
      "text/plain": [
       "array([[4., 3.],\n",
       "       [2., 8.]])"
      ]
     },
     "execution_count": 90,
     "metadata": {},
     "output_type": "execute_result"
    }
   ],
   "source": [
    "a = np.array([4., 2.])\n",
    "b = np.array([3., 8.])\n",
    "np.column_stack((a, b))  # returns a 2D array"
   ]
  },
  {
   "cell_type": "code",
   "execution_count": 91,
   "id": "9fd1d822",
   "metadata": {},
   "outputs": [
    {
     "data": {
      "text/plain": [
       "array([4., 2., 3., 8.])"
      ]
     },
     "execution_count": 91,
     "metadata": {},
     "output_type": "execute_result"
    }
   ],
   "source": [
    "np.hstack((a, b))        # the result is different"
   ]
  },
  {
   "cell_type": "code",
   "execution_count": 92,
   "id": "a892e3bc",
   "metadata": {},
   "outputs": [
    {
     "data": {
      "text/plain": [
       "array([[4.],\n",
       "       [2.]])"
      ]
     },
     "execution_count": 92,
     "metadata": {},
     "output_type": "execute_result"
    }
   ],
   "source": [
    "a[:, newaxis]  # view `a` as a 2D column vector"
   ]
  },
  {
   "cell_type": "code",
   "execution_count": 93,
   "id": "2c91be0e",
   "metadata": {},
   "outputs": [
    {
     "data": {
      "text/plain": [
       "array([[4., 3.],\n",
       "       [2., 8.]])"
      ]
     },
     "execution_count": 93,
     "metadata": {},
     "output_type": "execute_result"
    }
   ],
   "source": [
    "np.column_stack((a[:, newaxis], b[:, newaxis]))"
   ]
  },
  {
   "cell_type": "code",
   "execution_count": 94,
   "id": "9653dcca",
   "metadata": {},
   "outputs": [
    {
     "data": {
      "text/plain": [
       "array([[4., 3.],\n",
       "       [2., 8.]])"
      ]
     },
     "execution_count": 94,
     "metadata": {},
     "output_type": "execute_result"
    }
   ],
   "source": [
    "np.hstack((a[:, newaxis], b[:, newaxis]))  # the result is the same"
   ]
  },
  {
   "cell_type": "markdown",
   "id": "1f27dc1d",
   "metadata": {},
   "source": [
    "On the other hand, the function $row_stack$ is equivalent to $vstack$\n",
    "for any input arrays. In fact, $row_stack$ is an alias for $vstack$ :"
   ]
  },
  {
   "cell_type": "code",
   "execution_count": 95,
   "id": "0c3dbddd",
   "metadata": {},
   "outputs": [
    {
     "data": {
      "text/plain": [
       "False"
      ]
     },
     "execution_count": 95,
     "metadata": {},
     "output_type": "execute_result"
    }
   ],
   "source": [
    "np.column_stack is np.hstack"
   ]
  },
  {
   "cell_type": "code",
   "execution_count": 96,
   "id": "5ad8acc5",
   "metadata": {},
   "outputs": [
    {
     "data": {
      "text/plain": [
       "True"
      ]
     },
     "execution_count": 96,
     "metadata": {},
     "output_type": "execute_result"
    }
   ],
   "source": [
    "np.row_stack is np.vstack"
   ]
  },
  {
   "cell_type": "markdown",
   "id": "dae38eca",
   "metadata": {},
   "source": [
    "In general, for arrays with more than two dimensions, $hstack$ stacks\n",
    "along their second axes, $vstack$ stacks along their first axes, and\n",
    "$concatenate$ allows for an optional arguments giving the number of the\n",
    "axis along which the concatenation should happen.\n",
    "\n",
    "**Note**\n",
    "\n",
    "In complex cases, $r_$ and $c_$ are useful for creating arrays by\n",
    "stacking numbers along one axis. They allow the use of range literals\n",
    "`:`. :"
   ]
  },
  {
   "cell_type": "code",
   "execution_count": 97,
   "id": "e56dc1ad",
   "metadata": {},
   "outputs": [
    {
     "data": {
      "text/plain": [
       "array([1, 2, 3, 0, 4])"
      ]
     },
     "execution_count": 97,
     "metadata": {},
     "output_type": "execute_result"
    }
   ],
   "source": [
    "np.r_[1:4, 0, 4]"
   ]
  },
  {
   "cell_type": "markdown",
   "id": "6bd7ffe5",
   "metadata": {},
   "source": [
    "When used with arrays as arguments, $r_$ and $c_$ are similar to\n",
    "$vstack$ and $hstack$ in their default behavior, but allow for an\n",
    "optional argument giving the number of the axis along which to\n",
    "concatenate.\n",
    "\n",
    "<div class=\"seealso\">\n",
    "\n",
    "$hstack$, $vstack$, $column_stack$, $concatenate$, $c_$, $r_$\n",
    "\n",
    "</div>\n",
    "\n",
    "### Splitting one array into several smaller ones\n",
    "\n",
    "Using $hsplit$, you can split an array along its horizontal axis, either\n",
    "by specifying the number of equally shaped arrays to return, or by\n",
    "specifying the columns after which the division should occur:"
   ]
  },
  {
   "cell_type": "code",
   "execution_count": 98,
   "id": "cdda48cf",
   "metadata": {},
   "outputs": [
    {
     "data": {
      "text/plain": [
       "array([[6., 7., 6., 9., 0., 5., 4., 0., 6., 8., 5., 2.],\n",
       "       [8., 5., 5., 7., 1., 8., 6., 7., 1., 8., 1., 0.]])"
      ]
     },
     "execution_count": 98,
     "metadata": {},
     "output_type": "execute_result"
    }
   ],
   "source": [
    "a = np.floor(10 * rg.random((2, 12)))\n",
    "a"
   ]
  },
  {
   "cell_type": "code",
   "execution_count": 99,
   "id": "9ccb8887",
   "metadata": {},
   "outputs": [
    {
     "data": {
      "text/plain": [
       "[array([[6., 7., 6., 9.],\n",
       "        [8., 5., 5., 7.]]),\n",
       " array([[0., 5., 4., 0.],\n",
       "        [1., 8., 6., 7.]]),\n",
       " array([[6., 8., 5., 2.],\n",
       "        [1., 8., 1., 0.]])]"
      ]
     },
     "execution_count": 99,
     "metadata": {},
     "output_type": "execute_result"
    }
   ],
   "source": [
    "# Split `a` into 3\n",
    "np.hsplit(a, 3)"
   ]
  },
  {
   "cell_type": "code",
   "execution_count": 100,
   "id": "1582ab15",
   "metadata": {},
   "outputs": [
    {
     "data": {
      "text/plain": [
       "[array([[6., 7., 6.],\n",
       "        [8., 5., 5.]]),\n",
       " array([[9.],\n",
       "        [7.]]),\n",
       " array([[0., 5., 4., 0., 6., 8., 5., 2.],\n",
       "        [1., 8., 6., 7., 1., 8., 1., 0.]])]"
      ]
     },
     "execution_count": 100,
     "metadata": {},
     "output_type": "execute_result"
    }
   ],
   "source": [
    "# Split `a` after the third and the fourth column\n",
    "np.hsplit(a, (3, 4))"
   ]
  },
  {
   "cell_type": "markdown",
   "id": "c36f8856",
   "metadata": {},
   "source": [
    "$vsplit$ splits along the vertical axis, and $array_split$ allows one to\n",
    "specify along which axis to split.\n",
    "\n",
    "## Copies and Views\n",
    "\n",
    "When operating and manipulating arrays, their data is sometimes copied\n",
    "into a new array and sometimes not. This is often a source of confusion\n",
    "for beginners. There are three cases:\n",
    "\n",
    "### No Copy at All\n",
    "\n",
    "Simple assignments make no copy of objects or their data."
   ]
  },
  {
   "cell_type": "code",
   "execution_count": 101,
   "id": "9b68078a",
   "metadata": {},
   "outputs": [
    {
     "data": {
      "text/plain": [
       "True"
      ]
     },
     "execution_count": 101,
     "metadata": {},
     "output_type": "execute_result"
    }
   ],
   "source": [
    "a = np.array([[ 0,  1,  2,  3],\n",
    "              [ 4,  5,  6,  7],\n",
    "              [ 8,  9, 10, 11]])\n",
    "b = a            # no new object is created\n",
    "b is a           # a and b are two names for the same ndarray object"
   ]
  },
  {
   "cell_type": "markdown",
   "id": "a1cbaf87",
   "metadata": {},
   "source": [
    "Python passes mutable objects as references, so function calls make no\n",
    "copy."
   ]
  },
  {
   "cell_type": "code",
   "execution_count": 102,
   "id": "a22a2b16",
   "metadata": {},
   "outputs": [
    {
     "data": {
      "text/plain": [
       "140259807841232"
      ]
     },
     "execution_count": 102,
     "metadata": {},
     "output_type": "execute_result"
    }
   ],
   "source": [
    "def f(x):\n",
    "    print(id(x))\n",
    "\n",
    "id(a)  # id is a unique identifier of an object"
   ]
  },
  {
   "cell_type": "code",
   "execution_count": 103,
   "id": "ae988d72",
   "metadata": {},
   "outputs": [
    {
     "name": "stdout",
     "output_type": "stream",
     "text": [
      "140259807841232\n"
     ]
    }
   ],
   "source": [
    "f(a)"
   ]
  },
  {
   "cell_type": "markdown",
   "id": "3afdeefa",
   "metadata": {},
   "source": [
    "### View or Shallow Copy\n",
    "\n",
    "Different array objects can share the same data. The `view` method\n",
    "creates a new array object that looks at the same data."
   ]
  },
  {
   "cell_type": "code",
   "execution_count": 104,
   "id": "8e61483b",
   "metadata": {},
   "outputs": [
    {
     "data": {
      "text/plain": [
       "False"
      ]
     },
     "execution_count": 104,
     "metadata": {},
     "output_type": "execute_result"
    }
   ],
   "source": [
    "c = a.view()\n",
    "c is a"
   ]
  },
  {
   "cell_type": "code",
   "execution_count": 105,
   "id": "dc8dd972",
   "metadata": {},
   "outputs": [
    {
     "data": {
      "text/plain": [
       "True"
      ]
     },
     "execution_count": 105,
     "metadata": {},
     "output_type": "execute_result"
    }
   ],
   "source": [
    "c.base is a            # c is a view of the data owned by a"
   ]
  },
  {
   "cell_type": "code",
   "execution_count": 106,
   "id": "e1dd6f42",
   "metadata": {},
   "outputs": [
    {
     "data": {
      "text/plain": [
       "False"
      ]
     },
     "execution_count": 106,
     "metadata": {},
     "output_type": "execute_result"
    }
   ],
   "source": [
    "c.flags.owndata"
   ]
  },
  {
   "cell_type": "code",
   "execution_count": 107,
   "id": "f723b92d",
   "metadata": {},
   "outputs": [
    {
     "data": {
      "text/plain": [
       "(3, 4)"
      ]
     },
     "execution_count": 107,
     "metadata": {},
     "output_type": "execute_result"
    }
   ],
   "source": [
    "c = c.reshape((2, 6))  # a's shape doesn't change\n",
    "a.shape"
   ]
  },
  {
   "cell_type": "code",
   "execution_count": 108,
   "id": "cac1034d",
   "metadata": {},
   "outputs": [
    {
     "data": {
      "text/plain": [
       "array([[   0,    1,    2,    3],\n",
       "       [1234,    5,    6,    7],\n",
       "       [   8,    9,   10,   11]])"
      ]
     },
     "execution_count": 108,
     "metadata": {},
     "output_type": "execute_result"
    }
   ],
   "source": [
    "c[0, 4] = 1234         # a's data changes\n",
    "a"
   ]
  },
  {
   "cell_type": "markdown",
   "id": "08998e7b",
   "metadata": {},
   "source": [
    "Slicing an array returns a view of it:"
   ]
  },
  {
   "cell_type": "code",
   "execution_count": 109,
   "id": "a0220978",
   "metadata": {},
   "outputs": [
    {
     "data": {
      "text/plain": [
       "array([[   0,   10,   10,    3],\n",
       "       [1234,   10,   10,    7],\n",
       "       [   8,   10,   10,   11]])"
      ]
     },
     "execution_count": 109,
     "metadata": {},
     "output_type": "execute_result"
    }
   ],
   "source": [
    "s = a[:, 1:3]\n",
    "s[:] = 10  # s[:] is a view of s. Note the difference between s = 10 and s[:] = 10\n",
    "a"
   ]
  },
  {
   "cell_type": "markdown",
   "id": "7bf8a595",
   "metadata": {},
   "source": [
    "### Deep Copy\n",
    "\n",
    "The `copy` method makes a complete copy of the array and its data."
   ]
  },
  {
   "cell_type": "code",
   "execution_count": 110,
   "id": "cbc8f5da",
   "metadata": {},
   "outputs": [
    {
     "data": {
      "text/plain": [
       "False"
      ]
     },
     "execution_count": 110,
     "metadata": {},
     "output_type": "execute_result"
    }
   ],
   "source": [
    "d = a.copy()  # a new array object with new data is created\n",
    "d is a"
   ]
  },
  {
   "cell_type": "code",
   "execution_count": 111,
   "id": "f68daabe",
   "metadata": {},
   "outputs": [
    {
     "data": {
      "text/plain": [
       "False"
      ]
     },
     "execution_count": 111,
     "metadata": {},
     "output_type": "execute_result"
    }
   ],
   "source": [
    "d.base is a  # d doesn't share anything with a"
   ]
  },
  {
   "cell_type": "code",
   "execution_count": 112,
   "id": "28d56d1c",
   "metadata": {},
   "outputs": [
    {
     "data": {
      "text/plain": [
       "array([[   0,   10,   10,    3],\n",
       "       [1234,   10,   10,    7],\n",
       "       [   8,   10,   10,   11]])"
      ]
     },
     "execution_count": 112,
     "metadata": {},
     "output_type": "execute_result"
    }
   ],
   "source": [
    "d[0, 0] = 9999\n",
    "a"
   ]
  },
  {
   "cell_type": "markdown",
   "id": "b3f362cd",
   "metadata": {},
   "source": [
    "Sometimes `copy` should be called after slicing if the original array is\n",
    "not required anymore. For example, suppose `a` is a huge intermediate\n",
    "result and the final result `b` only contains a small fraction of `a`, a\n",
    "deep copy should be made when constructing `b` with slicing:"
   ]
  },
  {
   "cell_type": "code",
   "execution_count": 113,
   "id": "a3e1e434",
   "metadata": {},
   "outputs": [],
   "source": [
    "a = np.arange(int(1e8))\n",
    "b = a[:100].copy()\n",
    "del a  # the memory of ``a`` can be released."
   ]
  },
  {
   "cell_type": "markdown",
   "id": "81f577bf",
   "metadata": {},
   "source": [
    "If `b = a[:100]` is used instead, `a` is referenced by `b` and will\n",
    "persist in memory even if `del a` is executed.\n",
    "\n",
    "### Functions and Methods Overview\n",
    "\n",
    "Here is a list of some useful NumPy functions and methods names ordered\n",
    "in categories. See [routines](routines.ipynb) for the full list.\n",
    "\n",
    "Array Creation  \n",
    "$arange$, $array$, $copy$, $empty$, $empty_like$, $eye$, $fromfile$,\n",
    "$fromfunction$, $identity$, $linspace$, $logspace$, $mgrid$, $ogrid$,\n",
    "$ones$, $ones_like$, $r_$, $zeros$, $zeros_like$\n",
    "\n",
    "Conversions  \n",
    "$ndarray.astype$, $atleast_1d$, $atleast_2d$, $atleast_3d$, $mat$\n",
    "\n",
    "Manipulations  \n",
    "$array_split$, $column_stack$, $concatenate$, $diagonal$, $dsplit$,\n",
    "$dstack$, $hsplit$, $hstack$, $ndarray.item$, $newaxis$, $ravel$,\n",
    "$repeat$, $reshape$, $resize$, $squeeze$, $swapaxes$, $take$,\n",
    "$transpose$, $vsplit$, $vstack$\n",
    "\n",
    "Questions  \n",
    "$all$, $any$, $nonzero$, $where$\n",
    "\n",
    "Ordering  \n",
    "$argmax$, $argmin$, $argsort$, $max$, $min$, $ptp$, $searchsorted$,\n",
    "$sort$\n",
    "\n",
    "Operations  \n",
    "$choose$, $compress$, $cumprod$, $cumsum$, $inner$, $ndarray.fill$,\n",
    "$imag$, $prod$, $put$, $putmask$, $real$, $sum$\n",
    "\n",
    "Basic Statistics  \n",
    "$cov$, $mean$, $std$, $var$\n",
    "\n",
    "Basic Linear Algebra  \n",
    "$cross$, $dot$, $outer$, $linalg.svd$, $vdot$\n",
    "\n",
    "## Less Basic\n",
    "\n",
    "### Broadcasting rules\n",
    "\n",
    "Broadcasting allows universal functions to deal in a meaningful way with\n",
    "inputs that do not have exactly the same shape.\n",
    "\n",
    "The first rule of broadcasting is that if all input arrays do not have\n",
    "the same number of dimensions, a \"1\" will be repeatedly prepended to the\n",
    "shapes of the smaller arrays until all the arrays have the same number\n",
    "of dimensions.\n",
    "\n",
    "The second rule of broadcasting ensures that arrays with a size of 1\n",
    "along a particular dimension act as if they had the size of the array\n",
    "with the largest shape along that dimension. The value of the array\n",
    "element is assumed to be the same along that dimension for the\n",
    "\"broadcast\" array.\n",
    "\n",
    "After application of the broadcasting rules, the sizes of all arrays\n",
    "must match. More details can be found in `basics.broadcasting`.\n",
    "\n",
    "## Advanced indexing and index tricks\n",
    "\n",
    "NumPy offers more indexing facilities than regular Python sequences. In\n",
    "addition to indexing by integers and slices, as we saw before, arrays\n",
    "can be indexed by arrays of integers and arrays of booleans.\n",
    "\n",
    "### Indexing with Arrays of Indices"
   ]
  },
  {
   "cell_type": "code",
   "execution_count": 114,
   "id": "a9a37c32",
   "metadata": {},
   "outputs": [
    {
     "data": {
      "text/plain": [
       "array([ 1,  1,  9, 64, 25])"
      ]
     },
     "execution_count": 114,
     "metadata": {},
     "output_type": "execute_result"
    }
   ],
   "source": [
    "a = np.arange(12)**2  # the first 12 square numbers\n",
    "i = np.array([1, 1, 3, 8, 5])  # an array of indices\n",
    "a[i]  # the elements of `a` at the positions `i`"
   ]
  },
  {
   "cell_type": "code",
   "execution_count": 115,
   "id": "48eda476",
   "metadata": {},
   "outputs": [
    {
     "data": {
      "text/plain": [
       "array([[ 9, 16],\n",
       "       [81, 49]])"
      ]
     },
     "execution_count": 115,
     "metadata": {},
     "output_type": "execute_result"
    }
   ],
   "source": [
    "j = np.array([[3, 4], [9, 7]])  # a bidimensional array of indices\n",
    "a[j]  # the same shape as `j`"
   ]
  },
  {
   "cell_type": "markdown",
   "id": "60dcd7bc",
   "metadata": {},
   "source": [
    "When the indexed array `a` is multidimensional, a single array of\n",
    "indices refers to the first dimension of `a`. The following example\n",
    "shows this behavior by converting an image of labels into a color image\n",
    "using a palette."
   ]
  },
  {
   "cell_type": "code",
   "execution_count": 116,
   "id": "26ff5a36",
   "metadata": {},
   "outputs": [
    {
     "data": {
      "text/plain": [
       "array([[[  0,   0,   0],\n",
       "        [255,   0,   0],\n",
       "        [  0, 255,   0],\n",
       "        [  0,   0,   0]],\n",
       "\n",
       "       [[  0,   0,   0],\n",
       "        [  0,   0, 255],\n",
       "        [255, 255, 255],\n",
       "        [  0,   0,   0]]])"
      ]
     },
     "execution_count": 116,
     "metadata": {},
     "output_type": "execute_result"
    }
   ],
   "source": [
    "palette = np.array([[0, 0, 0],         # black\n",
    "                    [255, 0, 0],       # red\n",
    "                    [0, 255, 0],       # green\n",
    "                    [0, 0, 255],       # blue\n",
    "                    [255, 255, 255]])  # white\n",
    "image = np.array([[0, 1, 2, 0],  # each value corresponds to a color in the palette\n",
    "                  [0, 3, 4, 0]])\n",
    "palette[image]  # the (2, 4, 3) color image"
   ]
  },
  {
   "cell_type": "markdown",
   "id": "a19c4599",
   "metadata": {},
   "source": [
    "We can also give indexes for more than one dimension. The arrays of\n",
    "indices for each dimension must have the same shape."
   ]
  },
  {
   "cell_type": "code",
   "execution_count": 117,
   "id": "07fdab96",
   "metadata": {},
   "outputs": [
    {
     "data": {
      "text/plain": [
       "array([[ 0,  1,  2,  3],\n",
       "       [ 4,  5,  6,  7],\n",
       "       [ 8,  9, 10, 11]])"
      ]
     },
     "execution_count": 117,
     "metadata": {},
     "output_type": "execute_result"
    }
   ],
   "source": [
    "a = np.arange(12).reshape(3, 4)\n",
    "a"
   ]
  },
  {
   "cell_type": "code",
   "execution_count": 118,
   "id": "b6a9e705",
   "metadata": {},
   "outputs": [
    {
     "data": {
      "text/plain": [
       "array([[ 2,  5],\n",
       "       [ 7, 11]])"
      ]
     },
     "execution_count": 118,
     "metadata": {},
     "output_type": "execute_result"
    }
   ],
   "source": [
    "i = np.array([[0, 1],  # indices for the first dim of `a`\n",
    "              [1, 2]])\n",
    "j = np.array([[2, 1],  # indices for the second dim\n",
    "              [3, 3]])\n",
    "\n",
    "a[i, j]  # i and j must have equal shape"
   ]
  },
  {
   "cell_type": "code",
   "execution_count": 119,
   "id": "81c532b2",
   "metadata": {},
   "outputs": [
    {
     "data": {
      "text/plain": [
       "array([[ 2,  6],\n",
       "       [ 6, 10]])"
      ]
     },
     "execution_count": 119,
     "metadata": {},
     "output_type": "execute_result"
    }
   ],
   "source": [
    "a[i, 2]"
   ]
  },
  {
   "cell_type": "code",
   "execution_count": 120,
   "id": "8bab2d52",
   "metadata": {},
   "outputs": [
    {
     "data": {
      "text/plain": [
       "array([[[ 2,  1],\n",
       "        [ 3,  3]],\n",
       "\n",
       "       [[ 6,  5],\n",
       "        [ 7,  7]],\n",
       "\n",
       "       [[10,  9],\n",
       "        [11, 11]]])"
      ]
     },
     "execution_count": 120,
     "metadata": {},
     "output_type": "execute_result"
    }
   ],
   "source": [
    "a[:, j]"
   ]
  },
  {
   "cell_type": "markdown",
   "id": "d7d6d58d",
   "metadata": {},
   "source": [
    "In Python, `arr[i, j]` is exactly the same as `arr[(i, j)]`---so we can\n",
    "put `i` and `j` in a `tuple` and then do the indexing with that."
   ]
  },
  {
   "cell_type": "code",
   "execution_count": 121,
   "id": "9e617920",
   "metadata": {},
   "outputs": [
    {
     "data": {
      "text/plain": [
       "array([[ 2,  5],\n",
       "       [ 7, 11]])"
      ]
     },
     "execution_count": 121,
     "metadata": {},
     "output_type": "execute_result"
    }
   ],
   "source": [
    "l = (i, j)\n",
    "# equivalent to a[i, j]\n",
    "a[l]"
   ]
  },
  {
   "cell_type": "markdown",
   "id": "c3900233",
   "metadata": {},
   "source": [
    "However, we can not do this by putting `i` and `j` into an array,\n",
    "because this array will be interpreted as indexing the first dimension\n",
    "of `a`."
   ]
  },
  {
   "cell_type": "code",
   "execution_count": 122,
   "id": "ae785657",
   "metadata": {},
   "outputs": [
    {
     "ename": "IndexError",
     "evalue": "index 3 is out of bounds for axis 0 with size 3",
     "output_type": "error",
     "traceback": [
      "\u001b[0;31m---------------------------------------------------------------------------\u001b[0m",
      "\u001b[0;31mIndexError\u001b[0m                                Traceback (most recent call last)",
      "\u001b[0;32m<ipython-input-122-a6e78d3b0094>\u001b[0m in \u001b[0;36m<module>\u001b[0;34m\u001b[0m\n\u001b[1;32m      1\u001b[0m \u001b[0ms\u001b[0m \u001b[0;34m=\u001b[0m \u001b[0mnp\u001b[0m\u001b[0;34m.\u001b[0m\u001b[0marray\u001b[0m\u001b[0;34m(\u001b[0m\u001b[0;34m[\u001b[0m\u001b[0mi\u001b[0m\u001b[0;34m,\u001b[0m \u001b[0mj\u001b[0m\u001b[0;34m]\u001b[0m\u001b[0;34m)\u001b[0m\u001b[0;34m\u001b[0m\u001b[0;34m\u001b[0m\u001b[0m\n\u001b[1;32m      2\u001b[0m \u001b[0;31m# not what we want\u001b[0m\u001b[0;34m\u001b[0m\u001b[0;34m\u001b[0m\u001b[0;34m\u001b[0m\u001b[0m\n\u001b[0;32m----> 3\u001b[0;31m \u001b[0ma\u001b[0m\u001b[0;34m[\u001b[0m\u001b[0ms\u001b[0m\u001b[0;34m]\u001b[0m\u001b[0;34m\u001b[0m\u001b[0;34m\u001b[0m\u001b[0m\n\u001b[0m",
      "\u001b[0;31mIndexError\u001b[0m: index 3 is out of bounds for axis 0 with size 3"
     ]
    }
   ],
   "source": [
    "s = np.array([i, j])\n",
    "# not what we want\n",
    "a[s]"
   ]
  },
  {
   "cell_type": "code",
   "execution_count": 123,
   "id": "558c37da",
   "metadata": {},
   "outputs": [
    {
     "data": {
      "text/plain": [
       "array([[ 2,  5],\n",
       "       [ 7, 11]])"
      ]
     },
     "execution_count": 123,
     "metadata": {},
     "output_type": "execute_result"
    }
   ],
   "source": [
    "# same as `a[i, j]`\n",
    "a[tuple(s)]"
   ]
  },
  {
   "cell_type": "markdown",
   "id": "ff026788",
   "metadata": {},
   "source": [
    "Another common use of indexing with arrays is the search of the maximum\n",
    "value of time-dependent series:"
   ]
  },
  {
   "cell_type": "code",
   "execution_count": 124,
   "id": "fe2db8bd",
   "metadata": {},
   "outputs": [
    {
     "data": {
      "text/plain": [
       "array([ 20.  ,  51.25,  82.5 , 113.75, 145.  ])"
      ]
     },
     "execution_count": 124,
     "metadata": {},
     "output_type": "execute_result"
    }
   ],
   "source": [
    "time = np.linspace(20, 145, 5)  # time scale\n",
    "data = np.sin(np.arange(20)).reshape(5, 4)  # 4 time-dependent series\n",
    "time"
   ]
  },
  {
   "cell_type": "code",
   "execution_count": 125,
   "id": "22906af2",
   "metadata": {},
   "outputs": [
    {
     "data": {
      "text/plain": [
       "array([[ 0.        ,  0.84147098,  0.90929743,  0.14112001],\n",
       "       [-0.7568025 , -0.95892427, -0.2794155 ,  0.6569866 ],\n",
       "       [ 0.98935825,  0.41211849, -0.54402111, -0.99999021],\n",
       "       [-0.53657292,  0.42016704,  0.99060736,  0.65028784],\n",
       "       [-0.28790332, -0.96139749, -0.75098725,  0.14987721]])"
      ]
     },
     "execution_count": 125,
     "metadata": {},
     "output_type": "execute_result"
    }
   ],
   "source": [
    "data"
   ]
  },
  {
   "cell_type": "code",
   "execution_count": 126,
   "id": "6b47d0e5",
   "metadata": {},
   "outputs": [
    {
     "data": {
      "text/plain": [
       "array([2, 0, 3, 1])"
      ]
     },
     "execution_count": 126,
     "metadata": {},
     "output_type": "execute_result"
    }
   ],
   "source": [
    "# index of the maxima for each series\n",
    "ind = data.argmax(axis=0)\n",
    "ind"
   ]
  },
  {
   "cell_type": "code",
   "execution_count": 127,
   "id": "22ffebab",
   "metadata": {},
   "outputs": [
    {
     "data": {
      "text/plain": [
       "array([ 82.5 ,  20.  , 113.75,  51.25])"
      ]
     },
     "execution_count": 127,
     "metadata": {},
     "output_type": "execute_result"
    }
   ],
   "source": [
    "# times corresponding to the maxima\n",
    "time_max = time[ind]\n",
    "\n",
    "data_max = data[ind, range(data.shape[1])]  # => data[ind[0], 0], data[ind[1], 1]...\n",
    "time_max"
   ]
  },
  {
   "cell_type": "code",
   "execution_count": 128,
   "id": "f5814861",
   "metadata": {},
   "outputs": [
    {
     "data": {
      "text/plain": [
       "array([0.98935825, 0.84147098, 0.99060736, 0.6569866 ])"
      ]
     },
     "execution_count": 128,
     "metadata": {},
     "output_type": "execute_result"
    }
   ],
   "source": [
    "data_max"
   ]
  },
  {
   "cell_type": "code",
   "execution_count": 129,
   "id": "8158f80d",
   "metadata": {},
   "outputs": [
    {
     "data": {
      "text/plain": [
       "True"
      ]
     },
     "execution_count": 129,
     "metadata": {},
     "output_type": "execute_result"
    }
   ],
   "source": [
    "np.all(data_max == data.max(axis=0))"
   ]
  },
  {
   "cell_type": "markdown",
   "id": "d8c701c7",
   "metadata": {},
   "source": [
    "You can also use indexing with arrays as a target to assign to:"
   ]
  },
  {
   "cell_type": "code",
   "execution_count": 130,
   "id": "f878ec2c",
   "metadata": {},
   "outputs": [
    {
     "data": {
      "text/plain": [
       "array([0, 1, 2, 3, 4])"
      ]
     },
     "execution_count": 130,
     "metadata": {},
     "output_type": "execute_result"
    }
   ],
   "source": [
    "a = np.arange(5)\n",
    "a"
   ]
  },
  {
   "cell_type": "code",
   "execution_count": 131,
   "id": "191a7fd7",
   "metadata": {},
   "outputs": [
    {
     "data": {
      "text/plain": [
       "array([0, 0, 2, 0, 0])"
      ]
     },
     "execution_count": 131,
     "metadata": {},
     "output_type": "execute_result"
    }
   ],
   "source": [
    "a[[1, 3, 4]] = 0\n",
    "a"
   ]
  },
  {
   "cell_type": "markdown",
   "id": "a841a77c",
   "metadata": {},
   "source": [
    "However, when the list of indices contains repetitions, the assignment\n",
    "is done several times, leaving behind the last value:"
   ]
  },
  {
   "cell_type": "code",
   "execution_count": 132,
   "id": "d9e5fb30",
   "metadata": {},
   "outputs": [
    {
     "data": {
      "text/plain": [
       "array([2, 1, 3, 3, 4])"
      ]
     },
     "execution_count": 132,
     "metadata": {},
     "output_type": "execute_result"
    }
   ],
   "source": [
    "a = np.arange(5)\n",
    "a[[0, 0, 2]] = [1, 2, 3]\n",
    "a"
   ]
  },
  {
   "cell_type": "markdown",
   "id": "06bf571a",
   "metadata": {},
   "source": [
    "This is reasonable enough, but watch out if you want to use Python's\n",
    "`+=` construct, as it may not do what you expect:"
   ]
  },
  {
   "cell_type": "code",
   "execution_count": 133,
   "id": "9f9272df",
   "metadata": {},
   "outputs": [
    {
     "data": {
      "text/plain": [
       "array([1, 1, 3, 3, 4])"
      ]
     },
     "execution_count": 133,
     "metadata": {},
     "output_type": "execute_result"
    }
   ],
   "source": [
    "a = np.arange(5)\n",
    "a[[0, 0, 2]] += 1\n",
    "a"
   ]
  },
  {
   "cell_type": "markdown",
   "id": "c59de928",
   "metadata": {},
   "source": [
    "Even though 0 occurs twice in the list of indices, the 0th element is\n",
    "only incremented once. This is because Python requires `a += 1` to be\n",
    "equivalent to `a = a + 1`.\n",
    "\n",
    "### Indexing with Boolean Arrays\n",
    "\n",
    "When we index arrays with arrays of (integer) indices we are providing\n",
    "the list of indices to pick. With boolean indices the approach is\n",
    "different; we explicitly choose which items in the array we want and\n",
    "which ones we don't.\n",
    "\n",
    "The most natural way one can think of for boolean indexing is to use\n",
    "boolean arrays that have *the same shape* as the original array:"
   ]
  },
  {
   "cell_type": "code",
   "execution_count": 134,
   "id": "0b6ef6a2",
   "metadata": {},
   "outputs": [
    {
     "data": {
      "text/plain": [
       "array([[False, False, False, False],\n",
       "       [False,  True,  True,  True],\n",
       "       [ True,  True,  True,  True]])"
      ]
     },
     "execution_count": 134,
     "metadata": {},
     "output_type": "execute_result"
    }
   ],
   "source": [
    "a = np.arange(12).reshape(3, 4)\n",
    "b = a > 4\n",
    "b  # `b` is a boolean with `a`'s shape"
   ]
  },
  {
   "cell_type": "code",
   "execution_count": 135,
   "id": "4567d875",
   "metadata": {},
   "outputs": [
    {
     "data": {
      "text/plain": [
       "array([ 5,  6,  7,  8,  9, 10, 11])"
      ]
     },
     "execution_count": 135,
     "metadata": {},
     "output_type": "execute_result"
    }
   ],
   "source": [
    "a[b]  # 1d array with the selected elements"
   ]
  },
  {
   "cell_type": "markdown",
   "id": "fdec7d6b",
   "metadata": {},
   "source": [
    "This property can be very useful in assignments:"
   ]
  },
  {
   "cell_type": "code",
   "execution_count": 136,
   "id": "941a5b45",
   "metadata": {},
   "outputs": [
    {
     "data": {
      "text/plain": [
       "array([[0, 1, 2, 3],\n",
       "       [4, 0, 0, 0],\n",
       "       [0, 0, 0, 0]])"
      ]
     },
     "execution_count": 136,
     "metadata": {},
     "output_type": "execute_result"
    }
   ],
   "source": [
    "a[b] = 0  # All elements of `a` higher than 4 become 0\n",
    "a"
   ]
  },
  {
   "cell_type": "markdown",
   "id": "9570339e",
   "metadata": {},
   "source": [
    "You can look at the following example to see how to use boolean indexing\n",
    "to generate an image of the [Mandelbrot\n",
    "set](https://en.wikipedia.org/wiki/Mandelbrot_set):\n",
    "\n",
    "<div class=\"plot\">\n",
    "\n",
    "\\>\\>\\> import numpy as np \\>\\>\\> import matplotlib.pyplot as plt \\>\\>\\>\n",
    "def mandelbrot(h, w, maxit=20, r=2): ... \"\"\"Returns an image of the\n",
    "Mandelbrot fractal of size (h,w).\"\"\" ... x = np.linspace(-2.5, 1.5,\n",
    "4\\*h+1) ... y = np.linspace(-1.5, 1.5, 3\\*w+1) ... A, B = np.meshgrid(x,\n",
    "y) ... C = A + B\\*1j ... z = np.zeros_like(C) ... divtime = maxit +\n",
    "np.zeros(z.shape, dtype=int) ... ... for i in range(maxit): ... z =\n",
    "z\\*\\*2 + C ... diverge = abs(z) \\> r \\# who is diverging ... div_now =\n",
    "diverge & (divtime == maxit) \\# who is diverging now ...\n",
    "divtime\\[div_now\\] = i \\# note when ... z\\[diverge\\] = r \\# avoid\n",
    "diverging too much ... ... return divtime \\>\\>\\>\n",
    "plt.imshow(mandelbrot(400, 400))\n",
    "\n",
    "</div>\n",
    "\n",
    "The second way of indexing with booleans is more similar to integer\n",
    "indexing; for each dimension of the array we give a 1D boolean array\n",
    "selecting the slices we want:"
   ]
  },
  {
   "cell_type": "code",
   "execution_count": 137,
   "id": "2ea02e26",
   "metadata": {},
   "outputs": [
    {
     "data": {
      "text/plain": [
       "array([[ 4,  5,  6,  7],\n",
       "       [ 8,  9, 10, 11]])"
      ]
     },
     "execution_count": 137,
     "metadata": {},
     "output_type": "execute_result"
    }
   ],
   "source": [
    "a = np.arange(12).reshape(3, 4)\n",
    "b1 = np.array([False, True, True])         # first dim selection\n",
    "b2 = np.array([True, False, True, False])  # second dim selection\n",
    "\n",
    "a[b1, :]                                   # selecting rows"
   ]
  },
  {
   "cell_type": "code",
   "execution_count": 138,
   "id": "711e19f9",
   "metadata": {},
   "outputs": [
    {
     "data": {
      "text/plain": [
       "array([[ 4,  5,  6,  7],\n",
       "       [ 8,  9, 10, 11]])"
      ]
     },
     "execution_count": 138,
     "metadata": {},
     "output_type": "execute_result"
    }
   ],
   "source": [
    "a[b1]                                      # same thing"
   ]
  },
  {
   "cell_type": "code",
   "execution_count": 139,
   "id": "54f5ed3f",
   "metadata": {},
   "outputs": [
    {
     "data": {
      "text/plain": [
       "array([[ 0,  2],\n",
       "       [ 4,  6],\n",
       "       [ 8, 10]])"
      ]
     },
     "execution_count": 139,
     "metadata": {},
     "output_type": "execute_result"
    }
   ],
   "source": [
    "a[:, b2]                                   # selecting columns"
   ]
  },
  {
   "cell_type": "code",
   "execution_count": 140,
   "id": "62a0b434",
   "metadata": {},
   "outputs": [
    {
     "data": {
      "text/plain": [
       "array([ 4, 10])"
      ]
     },
     "execution_count": 140,
     "metadata": {},
     "output_type": "execute_result"
    }
   ],
   "source": [
    "a[b1, b2]                                  # a weird thing to do"
   ]
  },
  {
   "cell_type": "markdown",
   "id": "c688ee0b",
   "metadata": {},
   "source": [
    "Note that the length of the 1D boolean array must coincide with the\n",
    "length of the dimension (or axis) you want to slice. In the previous\n",
    "example, `b1` has length 3 (the number of *rows* in `a`), and `b2` (of\n",
    "length 4) is suitable to index the 2nd axis (columns) of `a`.\n",
    "\n",
    "### The [ix]()() function\n",
    "\n",
    "The $ix_$ function can be used to combine different vectors so as to\n",
    "obtain the result for each n-uplet. For example, if you want to compute\n",
    "all the a+b\\*c for all the triplets taken from each of the vectors a, b\n",
    "and c:"
   ]
  },
  {
   "cell_type": "code",
   "execution_count": 141,
   "id": "1f9f150d",
   "metadata": {},
   "outputs": [
    {
     "data": {
      "text/plain": [
       "array([[[2]],\n",
       "\n",
       "       [[3]],\n",
       "\n",
       "       [[4]],\n",
       "\n",
       "       [[5]]])"
      ]
     },
     "execution_count": 141,
     "metadata": {},
     "output_type": "execute_result"
    }
   ],
   "source": [
    "a = np.array([2, 3, 4, 5])\n",
    "b = np.array([8, 5, 4])\n",
    "c = np.array([5, 4, 6, 8, 3])\n",
    "ax, bx, cx = np.ix_(a, b, c)\n",
    "ax"
   ]
  },
  {
   "cell_type": "code",
   "execution_count": 142,
   "id": "796ca0ab",
   "metadata": {},
   "outputs": [
    {
     "data": {
      "text/plain": [
       "array([[[8],\n",
       "        [5],\n",
       "        [4]]])"
      ]
     },
     "execution_count": 142,
     "metadata": {},
     "output_type": "execute_result"
    }
   ],
   "source": [
    "bx"
   ]
  },
  {
   "cell_type": "code",
   "execution_count": 143,
   "id": "ebc875ac",
   "metadata": {},
   "outputs": [
    {
     "data": {
      "text/plain": [
       "array([[[5, 4, 6, 8, 3]]])"
      ]
     },
     "execution_count": 143,
     "metadata": {},
     "output_type": "execute_result"
    }
   ],
   "source": [
    "cx"
   ]
  },
  {
   "cell_type": "code",
   "execution_count": 144,
   "id": "c9a88158",
   "metadata": {},
   "outputs": [
    {
     "data": {
      "text/plain": [
       "((4, 1, 1), (1, 3, 1), (1, 1, 5))"
      ]
     },
     "execution_count": 144,
     "metadata": {},
     "output_type": "execute_result"
    }
   ],
   "source": [
    "ax.shape, bx.shape, cx.shape"
   ]
  },
  {
   "cell_type": "code",
   "execution_count": 145,
   "id": "8f1989c5",
   "metadata": {},
   "outputs": [
    {
     "data": {
      "text/plain": [
       "array([[[42, 34, 50, 66, 26],\n",
       "        [27, 22, 32, 42, 17],\n",
       "        [22, 18, 26, 34, 14]],\n",
       "\n",
       "       [[43, 35, 51, 67, 27],\n",
       "        [28, 23, 33, 43, 18],\n",
       "        [23, 19, 27, 35, 15]],\n",
       "\n",
       "       [[44, 36, 52, 68, 28],\n",
       "        [29, 24, 34, 44, 19],\n",
       "        [24, 20, 28, 36, 16]],\n",
       "\n",
       "       [[45, 37, 53, 69, 29],\n",
       "        [30, 25, 35, 45, 20],\n",
       "        [25, 21, 29, 37, 17]]])"
      ]
     },
     "execution_count": 145,
     "metadata": {},
     "output_type": "execute_result"
    }
   ],
   "source": [
    "result = ax + bx * cx\n",
    "result"
   ]
  },
  {
   "cell_type": "code",
   "execution_count": 146,
   "id": "7fc52450",
   "metadata": {},
   "outputs": [
    {
     "data": {
      "text/plain": [
       "17"
      ]
     },
     "execution_count": 146,
     "metadata": {},
     "output_type": "execute_result"
    }
   ],
   "source": [
    "result[3, 2, 4]"
   ]
  },
  {
   "cell_type": "code",
   "execution_count": 147,
   "id": "8c9da1e1",
   "metadata": {},
   "outputs": [
    {
     "data": {
      "text/plain": [
       "17"
      ]
     },
     "execution_count": 147,
     "metadata": {},
     "output_type": "execute_result"
    }
   ],
   "source": [
    "a[3] + b[2] * c[4]"
   ]
  },
  {
   "cell_type": "markdown",
   "id": "bc4fee4e",
   "metadata": {},
   "source": [
    "You could also implement the reduce as follows:"
   ]
  },
  {
   "cell_type": "code",
   "execution_count": 148,
   "id": "ee559f61",
   "metadata": {},
   "outputs": [],
   "source": [
    "def ufunc_reduce(ufct, *vectors):\n",
    "   vs = np.ix_(*vectors)\n",
    "   r = ufct.identity\n",
    "   for v in vs:\n",
    "       r = ufct(r, v)\n",
    "   return r"
   ]
  },
  {
   "cell_type": "markdown",
   "id": "c8180cd8",
   "metadata": {},
   "source": [
    "and then use it as:"
   ]
  },
  {
   "cell_type": "code",
   "execution_count": 149,
   "id": "699d3d83",
   "metadata": {},
   "outputs": [
    {
     "data": {
      "text/plain": [
       "array([[[15, 14, 16, 18, 13],\n",
       "        [12, 11, 13, 15, 10],\n",
       "        [11, 10, 12, 14,  9]],\n",
       "\n",
       "       [[16, 15, 17, 19, 14],\n",
       "        [13, 12, 14, 16, 11],\n",
       "        [12, 11, 13, 15, 10]],\n",
       "\n",
       "       [[17, 16, 18, 20, 15],\n",
       "        [14, 13, 15, 17, 12],\n",
       "        [13, 12, 14, 16, 11]],\n",
       "\n",
       "       [[18, 17, 19, 21, 16],\n",
       "        [15, 14, 16, 18, 13],\n",
       "        [14, 13, 15, 17, 12]]])"
      ]
     },
     "execution_count": 149,
     "metadata": {},
     "output_type": "execute_result"
    }
   ],
   "source": [
    "ufunc_reduce(np.add, a, b, c)"
   ]
  },
  {
   "cell_type": "markdown",
   "id": "65084738",
   "metadata": {},
   "source": [
    "The advantage of this version of reduce compared to the normal\n",
    "ufunc.reduce is that it makes use of the [broadcasting\n",
    "rules](broadcasting-rules.ipynb) in order to avoid creating an argument\n",
    "array the size of the output times the number of vectors.\n",
    "\n",
    "### Indexing with strings\n",
    "\n",
    "See [structured_arrays](structured_arrays.ipynb).\n",
    "\n",
    "## Tricks and Tips\n",
    "\n",
    "Here we give a list of short and useful tips.\n",
    "\n",
    "### \"Automatic\" Reshaping\n",
    "\n",
    "To change the dimensions of an array, you can omit one of the sizes\n",
    "which will then be deduced automatically:"
   ]
  },
  {
   "cell_type": "code",
   "execution_count": 150,
   "id": "f8825aaa",
   "metadata": {},
   "outputs": [
    {
     "data": {
      "text/plain": [
       "(2, 5, 3)"
      ]
     },
     "execution_count": 150,
     "metadata": {},
     "output_type": "execute_result"
    }
   ],
   "source": [
    "a = np.arange(30)\n",
    "b = a.reshape((2, -1, 3))  # -1 means \"whatever is needed\"\n",
    "b.shape"
   ]
  },
  {
   "cell_type": "code",
   "execution_count": 151,
   "id": "f4b56204",
   "metadata": {},
   "outputs": [
    {
     "data": {
      "text/plain": [
       "array([[[ 0,  1,  2],\n",
       "        [ 3,  4,  5],\n",
       "        [ 6,  7,  8],\n",
       "        [ 9, 10, 11],\n",
       "        [12, 13, 14]],\n",
       "\n",
       "       [[15, 16, 17],\n",
       "        [18, 19, 20],\n",
       "        [21, 22, 23],\n",
       "        [24, 25, 26],\n",
       "        [27, 28, 29]]])"
      ]
     },
     "execution_count": 151,
     "metadata": {},
     "output_type": "execute_result"
    }
   ],
   "source": [
    "b"
   ]
  },
  {
   "cell_type": "markdown",
   "id": "07c18982",
   "metadata": {},
   "source": [
    "### Vector Stacking\n",
    "\n",
    "How do we construct a 2D array from a list of equally-sized row vectors?\n",
    "In MATLAB this is quite easy: if `x` and `y` are two vectors of the same\n",
    "length you only need do `m=[x;y]`. In NumPy this works via the functions\n",
    "`column_stack`, `dstack`, `hstack` and `vstack`, depending on the\n",
    "dimension in which the stacking is to be done. For example:"
   ]
  },
  {
   "cell_type": "code",
   "execution_count": 152,
   "id": "5110196f",
   "metadata": {},
   "outputs": [
    {
     "data": {
      "text/plain": [
       "array([[0, 2, 4, 6, 8],\n",
       "       [0, 1, 2, 3, 4]])"
      ]
     },
     "execution_count": 152,
     "metadata": {},
     "output_type": "execute_result"
    }
   ],
   "source": [
    "x = np.arange(0, 10, 2)\n",
    "y = np.arange(5)\n",
    "m = np.vstack([x, y])\n",
    "m"
   ]
  },
  {
   "cell_type": "code",
   "execution_count": 153,
   "id": "8ab6225e",
   "metadata": {},
   "outputs": [
    {
     "data": {
      "text/plain": [
       "array([0, 2, 4, 6, 8, 0, 1, 2, 3, 4])"
      ]
     },
     "execution_count": 153,
     "metadata": {},
     "output_type": "execute_result"
    }
   ],
   "source": [
    "xy = np.hstack([x, y])\n",
    "xy"
   ]
  },
  {
   "cell_type": "markdown",
   "id": "0b063594-1038-4ced-9b1c-00920f0c74e4",
   "metadata": {},
   "source": [
    "The logic behind those functions in more than two dimensions can be\n",
    "strange.\n",
    "\n",
    "<div class=\"seealso\">\n",
    "\n",
    "`numpy-for-matlab-users`\n",
    "\n",
    "</div>\n",
    "\n",
    "### Histograms\n",
    "\n",
    "The NumPy `histogram` function applied to an array returns a pair of\n",
    "vectors: the histogram of the array and a vector of the bin edges.\n",
    "Beware: `matplotlib` also has a function to build histograms (called\n",
    "`hist`, as in Matlab) that differs from the one in NumPy. The main\n",
    "difference is that `pylab.hist` plots the histogram automatically, while\n",
    "`numpy.histogram` only generates the data."
   ]
  },
  {
   "cell_type": "code",
   "execution_count": 154,
   "id": "b9642fcf-9e0f-4eb9-ae99-5b68d28cc8dd",
   "metadata": {},
   "outputs": [
    {
     "data": {
      "text/plain": [
       "[<matplotlib.lines.Line2D at 0x7f90b858f6a0>]"
      ]
     },
     "execution_count": 154,
     "metadata": {},
     "output_type": "execute_result"
    },
    {
     "data": {
      "image/png": "[encoded data removed]",
      "text/plain": [
       "<Figure size 432x288 with 1 Axes>"
      ]
     },
     "metadata": {
      "needs_background": "light"
     },
     "output_type": "display_data"
    }
   ],
   "source": [
    "import numpy as np\n",
    "rg = np.random.default_rng(1)\n",
    "import matplotlib.pyplot as plt\n",
    "# Build a vector of 10000 normal deviates with variance 0.5^2 and mean 2\n",
    "mu, sigma = 2, 0.5\n",
    "v = rg.normal(mu,sigma,10000)\n",
    "# Plot a normalized histogram with 50 bins\n",
    "plt.hist(v, bins=50, density=1)       # matplotlib version (plot)\n",
    "# Compute the histogram with numpy and then plot it\n",
    "(n, bins) = np.histogram(v, bins=50, density=True)  # NumPy version (no plot)\n",
    "plt.plot(.5*(bins[1:]+bins[:-1]), n)\n"
   ]
  },
  {
   "cell_type": "markdown",
   "id": "a6816d9d-d5a3-4180-bdb2-94833e3528e8",
   "metadata": {},
   "source": [
    "With Matplotlib \\>=3.4 you can also use `plt.stairs(n, bins)`.\n",
    "\n",
    "## Further reading\n",
    "\n",
    "-   The [Python tutorial](https://docs.python.org/tutorial/)\n",
    "-   [reference](reference.ipynb)\n",
    "-   [SciPy\n",
    "    Tutorial](https://docs.scipy.org/doc/scipy/reference/tutorial/index.html)\n",
    "-   [SciPy Lecture Notes](https://scipy-lectures.org)\n",
    "-   A [matlab, R, IDL, NumPy/SciPy\n",
    "    dictionary](http://mathesaurus.sf.net/)\n",
    "-   `tutorial-svd`"
   ]
  }
 ],
 "metadata": {
  "kernelspec": {
   "display_name": "Python 3",
   "language": "python",
   "name": "python3"
  },
  "language_info": {
   "codemirror_mode": {
    "name": "ipython",
    "version": 3
   },
   "file_extension": ".py",
   "mimetype": "text/x-python",
   "name": "python",
   "nbconvert_exporter": "python",
   "pygments_lexer": "ipython3",
   "version": "3.8.8"
  }
 },
 "nbformat": 4,
 "nbformat_minor": 5
}
