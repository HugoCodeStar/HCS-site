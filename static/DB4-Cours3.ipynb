{
 "cells": [
  {
   "cell_type": "markdown",
   "id": "9dbf1cbc-96d0-4c29-ab2a-e8aabfd301a1",
   "metadata": {},
   "source": [
    "## Liste en compréhension\n",
    "\n",
    "Une liste en compréhension est un raccourci syntaxique pour créé des liste. Cela permet de faire ce qui est habituellement dans une boucle sur une seule ligne."
   ]
  },
  {
   "cell_type": "code",
   "execution_count": 19,
   "id": "66ede1e5-dc31-428a-b137-3cdf487025c9",
   "metadata": {},
   "outputs": [],
   "source": [
    "squares = []\n",
    "for x in range(10):\n",
    "    squares.append(x**2)\n",
    "\n",
    "# Équivalent avec une liste en compréhension\n",
    "squares = [x**2 for x in range(10)]"
   ]
  },
  {
   "cell_type": "markdown",
   "id": "3514b82f-28c5-4d7c-8b9b-53e979d2e8c2",
   "metadata": {},
   "source": [
    "## Ajout de condition ou de boucle imbriqués\n",
    "\n",
    "Il est possible d'avoir après le `for` initial d'autre `for` ou des conditionnelles `if`."
   ]
  },
  {
   "cell_type": "code",
   "execution_count": 20,
   "id": "21042847-8df0-49ed-93f9-48a636fb2c42",
   "metadata": {},
   "outputs": [],
   "source": [
    "combs = []\n",
    "for x in [1,2,3]:\n",
    "    for y in [3,1,4]:\n",
    "        if x != y:\n",
    "            combs.append((x, y))\n",
    "\n",
    "# Équivalent\n",
    "combs = [(x, y) for x in [1,2,3] for y in [3,1,4] if x != y]"
   ]
  },
  {
   "cell_type": "markdown",
   "id": "785e544f-9b13-4928-909e-108b8843cfac",
   "metadata": {},
   "source": [
    "## Set\n",
    "\n",
    "* Un `set` est une collection, semblable à une liste, mais avec la distinction que tous les éléments doivent être unique.\n",
    "* L'ordre des éléments est aussi laissé à l'implémentation. Il n'existe pas d'indice pouvant identifier l'emplacement de l'élément dans la collection.\n",
    "\n",
    "## Création d'un set\n",
    "\n",
    "* Le set peut être créé vide avec un constructeur `set()` ou à partir d'une autre collection existante."
   ]
  },
  {
   "cell_type": "code",
   "execution_count": 21,
   "id": "25119d1d-c146-48c7-b07c-aa16416976f7",
   "metadata": {},
   "outputs": [],
   "source": [
    "mon_set = set()\n",
    "autre_set = set([4, 65, 34, 3, 4]) # Le 4 s'y retrouvera qu'une fois.\n",
    "encore_set = set('allo') # Le 'l' ne sera pas en 2 copies.\n",
    "dernier_set = set(['un', 'deux', 'trois']) # Contient chaque mot."
   ]
  },
  {
   "cell_type": "markdown",
   "id": "8a5997ee-5157-4ad6-86f4-ec8632a3f9c8",
   "metadata": {},
   "source": [
    "* Il est aussi possible d'utiliser les accolades pour construire un `set`."
   ]
  },
  {
   "cell_type": "code",
   "execution_count": 22,
   "id": "bd98a2f8-02ae-4c5f-8df3-673b3b3a0a5a",
   "metadata": {},
   "outputs": [
    {
     "name": "stdout",
     "output_type": "stream",
     "text": [
      "{'allo', 'bonjour', 'salut'}\n"
     ]
    }
   ],
   "source": [
    "curly_set = {'allo', 'salut', 'allo', 'bonjour'}\n",
    "print(curly_set) # Affiche {'salut', 'allo', 'bonjour'}"
   ]
  },
  {
   "cell_type": "markdown",
   "id": "3d63ddad-8955-410a-8655-4f32a04e7e10",
   "metadata": {},
   "source": [
    "## Accès au set\n",
    "\n",
    "* La taille du set peut être connue avec `len`.\n",
    "* On ajoute un élément avec la méthode `add`.\n",
    "* On ajoute plusieurs éléments avec la méthode `update`."
   ]
  },
  {
   "cell_type": "code",
   "execution_count": 23,
   "id": "b2791f18-74a5-4e08-9290-9ea2c72643b4",
   "metadata": {},
   "outputs": [
    {
     "name": "stdout",
     "output_type": "stream",
     "text": [
      "4\n"
     ]
    }
   ],
   "source": [
    "mon_set = set()\n",
    "mon_set.add(3)\n",
    "mon_set.add(4)\n",
    "mon_set.update([4, 5, 6])\n",
    "\n",
    "print(len(mon_set)) # Affiche 4"
   ]
  },
  {
   "cell_type": "markdown",
   "id": "ad903064-4165-4835-8f61-cf7a909cd742",
   "metadata": {},
   "source": [
    "## Soustraction au set\n",
    "\n",
    "* Les méthodes `remove` et `discard` enlèvent des éléments du set.\n",
    "* `remove` soulève un `KeyError` si l'élément n'est pas trouvé.\n",
    "* La méthode `clear` permet de vider le set."
   ]
  },
  {
   "cell_type": "code",
   "execution_count": 24,
   "id": "88f85ca2-a941-46e1-b920-123f2fba5c32",
   "metadata": {},
   "outputs": [
    {
     "ename": "KeyError",
     "evalue": "10",
     "output_type": "error",
     "traceback": [
      "\u001b[0;31m---------------------------------------------------------------------------\u001b[0m",
      "\u001b[0;31mKeyError\u001b[0m                                  Traceback (most recent call last)",
      "\u001b[0;32m<ipython-input-24-c8b4d9d5fa36>\u001b[0m in \u001b[0;36m<module>\u001b[0;34m\u001b[0m\n\u001b[1;32m      2\u001b[0m \u001b[0mmon_set\u001b[0m\u001b[0;34m.\u001b[0m\u001b[0mremove\u001b[0m\u001b[0;34m(\u001b[0m\u001b[0;36m4\u001b[0m\u001b[0;34m)\u001b[0m\u001b[0;34m\u001b[0m\u001b[0;34m\u001b[0m\u001b[0m\n\u001b[1;32m      3\u001b[0m \u001b[0;34m\u001b[0m\u001b[0m\n\u001b[0;32m----> 4\u001b[0;31m \u001b[0mmon_set\u001b[0m\u001b[0;34m.\u001b[0m\u001b[0mremove\u001b[0m\u001b[0;34m(\u001b[0m\u001b[0;36m10\u001b[0m\u001b[0;34m)\u001b[0m \u001b[0;31m# KeyError\u001b[0m\u001b[0;34m\u001b[0m\u001b[0;34m\u001b[0m\u001b[0m\n\u001b[0m\u001b[1;32m      5\u001b[0m \u001b[0mmon_set\u001b[0m\u001b[0;34m.\u001b[0m\u001b[0mdiscard\u001b[0m\u001b[0;34m(\u001b[0m\u001b[0;36m10\u001b[0m\u001b[0;34m)\u001b[0m\u001b[0;34m\u001b[0m\u001b[0;34m\u001b[0m\u001b[0m\n",
      "\u001b[0;31mKeyError\u001b[0m: 10"
     ]
    }
   ],
   "source": [
    "mon_set = set([4, 5, 6, 7])\n",
    "mon_set.remove(4)\n",
    "\n",
    "mon_set.remove(10) # KeyError\n",
    "mon_set.discard(10)"
   ]
  },
  {
   "cell_type": "markdown",
   "id": "28de46de-0a29-459f-88cc-37bd4cf02e47",
   "metadata": {},
   "source": [
    "## Trouvé de éléments dans un set\n",
    "\n",
    "* L'opérateur `in` et `not in` permet de faire la détection d'un élément dans un set."
   ]
  },
  {
   "cell_type": "code",
   "execution_count": 26,
   "id": "169e6ac9-a81e-4a51-88ee-2709bbab7698",
   "metadata": {},
   "outputs": [
    {
     "name": "stdout",
     "output_type": "stream",
     "text": [
      "Trouvé!\n"
     ]
    }
   ],
   "source": [
    "mon_set = set([1, 2, 3])\n",
    "\n",
    "if 2 in mon_set:\n",
    "    print(\"Trouvé!\")"
   ]
  },
  {
   "cell_type": "markdown",
   "id": "ae120ab8-6492-4a19-9f56-12a31385ec80",
   "metadata": {},
   "source": [
    "* La boucle `for` peut itérer sur un set. L'ordre des éléments ne peut pas être connu d'avance."
   ]
  },
  {
   "cell_type": "code",
   "execution_count": 27,
   "id": "8d0d2861-d587-4094-9801-6f99a9bf3817",
   "metadata": {},
   "outputs": [
    {
     "name": "stdout",
     "output_type": "stream",
     "text": [
      "allo\n",
      "bonjour\n",
      "salut\n"
     ]
    }
   ],
   "source": [
    "curly_set = {'allo', 'salut', 'allo', 'bonjour'}\n",
    "\n",
    "for item in curly_set:\n",
    "  print(item)"
   ]
  },
  {
   "cell_type": "markdown",
   "id": "e5fa9a49-d713-4196-a2b3-3bd0d381d2e1",
   "metadata": {},
   "source": [
    "## Opération sur les sets\n",
    "\n",
    "* On trouve l'union de deux sets avec la méthode `union`.\n",
    "* On trouve l'intersection de deux sets avec la méthode `intersection`.\n",
    "* On trouve la différence de deux sets avec la méthode `difference`.\n",
    "* On trouve la différence symétrique (ceux exclusifs à chaque set) avec la méthode `symmetric_difference`."
   ]
  },
  {
   "cell_type": "code",
   "execution_count": 28,
   "id": "bd49dc45-8a60-4dd0-b4b9-c57495fb9849",
   "metadata": {},
   "outputs": [
    {
     "name": "stdout",
     "output_type": "stream",
     "text": [
      "5\n"
     ]
    }
   ],
   "source": [
    "set1 = set([1, 2, 3])\n",
    "set2 = set([3, 4, 5])\n",
    "set3 = set1.union(set2)\n",
    "\n",
    "print(len(set3)) # Affiche 5"
   ]
  },
  {
   "cell_type": "markdown",
   "id": "83f21557-c0c4-43d2-96a1-553f135aa124",
   "metadata": {},
   "source": [
    "## Dictionnaire\n",
    "\n",
    "* Le dictionnaire est une autre collection.\n",
    "* Chaque élément contient deux parties : une clé et une valeur (key-value pair).\n",
    "* La clé est utilisée pour repérer l'élément dans la collection.\n",
    "* Les clés sont uniques.\n",
    "* Le dictionnaire représente ses key-value avec un `:` entre chacun et les inclus dans des accollades `{}`."
   ]
  },
  {
   "cell_type": "code",
   "execution_count": 29,
   "id": "923d198f-1866-4cac-81a5-50d72da9da3d",
   "metadata": {},
   "outputs": [],
   "source": [
    "telephone = {'Marie':'444-1111', 'Bob':'444-2222', 'Alice':'444-3333'}"
   ]
  },
  {
   "cell_type": "markdown",
   "id": "6e2fffd2-f036-4120-ba48-71c14b022f10",
   "metadata": {},
   "source": [
    "## Accès au dictionnaire\n",
    "* Les éléments du dictionnaire sont accéder avec les clés entre crochets (comme une liste).\n",
    "* Comme les set, les opérateurs `in` et `not in` permettent de déterminer si une clé existe.\n",
    "* La fonction `len` permet de déterminer le nombre d'éléments"
   ]
  },
  {
   "cell_type": "code",
   "execution_count": 30,
   "id": "05ea5133-5e5a-4d04-b589-f04932111611",
   "metadata": {},
   "outputs": [
    {
     "name": "stdout",
     "output_type": "stream",
     "text": [
      "444-2222\n",
      "3\n"
     ]
    }
   ],
   "source": [
    "telephone = {'Marie':'444-1111', 'Bob':'444-2222', 'Alice':'444-3333'}\n",
    "if 'Bob' in telephone:\n",
    "    print(telephone['Bob']) # Affiche '444-2222'\n",
    "\n",
    "print(len(telephone)) # Affiche 4"
   ]
  },
  {
   "cell_type": "markdown",
   "id": "4d7d2eb5-c9a9-4054-9516-32464fe0531a",
   "metadata": {},
   "source": [
    "* La boucle `for` permet d'avoir les `key` du dictionnaire"
   ]
  },
  {
   "cell_type": "code",
   "execution_count": 31,
   "id": "483c90ed-bed0-41f6-b321-33de18a68c44",
   "metadata": {},
   "outputs": [
    {
     "name": "stdout",
     "output_type": "stream",
     "text": [
      "Marie\n",
      "444-1111\n",
      "Bob\n",
      "444-2222\n",
      "Alice\n",
      "444-3333\n"
     ]
    }
   ],
   "source": [
    "telephone = {'Marie':'444-1111', 'Bob':'444-2222', 'Alice':'444-3333'}\n",
    "\n",
    "for item in telephone:\n",
    "  print(item) # Affiche en ordre Marie, Bob, Alice\n",
    "  print(telephone[item]) # Affiche les numéro 444-1111, 444-2222, 444-3333"
   ]
  },
  {
   "cell_type": "markdown",
   "id": "45f96427-3829-4233-b341-fa27d50e9b18",
   "metadata": {},
   "source": [
    "## Modification d'un dictionnaire\n",
    "\n",
    "* On ajoute dans un dictionnaire avec l'assignation d'une nouvelle clé.\n",
    "* On détruit un élément avec le mot clé `del`."
   ]
  },
  {
   "cell_type": "code",
   "execution_count": 33,
   "id": "63082c26-651e-45e6-b5b1-70e422f9ef3e",
   "metadata": {},
   "outputs": [],
   "source": [
    "telephone = {'Marie':'444-1111', 'Bob':'444-2222', 'Alice':'444-3333'}\n",
    "telephone['Corinne'] = '444-1111' # Même valeur que Marie et c'est ok\n",
    "\n",
    "del telephone['Bob']"
   ]
  },
  {
   "cell_type": "markdown",
   "id": "d7e2a81a-e716-4555-a385-6b9667ce2f3d",
   "metadata": {},
   "source": [
    "## Les méthodes des dictionnaires\n",
    "\n",
    "| Nom       | Description                                                              |\n",
    "|-----------|--------------------------------------------------------------------------|\n",
    "| clear()   | Vide le dictionnaire.                                                    |\n",
    "| get(key)  | Retourne la valeur associée avec la clé. Ne génère pas d'erreur.           |\n",
    "| items()   | Renvoie une séquence de tuple de (key, value)                            |\n",
    "| keys()    | Retourne toutes les clés.                                                |\n",
    "| pop(key)  | Retourne la valeur associée avec la clé. Enlève l'élément du dictionnaire. |\n",
    "| popitem() | Retourne un tuple (key, value) aléatoire et l'enlève du dictionnaire.    |\n",
    "| values()  | Retourne les valeurs des éléments.                                       |\n",
    "\n",
    "## Les formats des fichiers de données\n",
    "* Dans le domaine des sciences, deux fichiers de données sont populaires:\n",
    "  * CSV - Comma-separated values\n",
    "  * JSON - JavaScript Object Notation\n",
    "\n",
    "* Python nous fournit des modules pour travailler avec ses deux types de fichiers.\n",
    "\n",
    "## CSV - Comma-separated values\n",
    "\n",
    "* Le CSV est un fichier texte qui délimite ses informations comme un tableur.\n",
    "* Chaque ligne de texte est une entrée.\n",
    "* Chaque ligne contient des \"colonne\" qui sont séparés par des virgules."
   ]
  },
  {
   "cell_type": "raw",
   "id": "ec201828-5bba-499b-a9db-54b0ebae26f9",
   "metadata": {},
   "source": [
    "Name,Email,Phone Number,Address\n",
    "Bob Smith,bob@example.com,123-456-7890,123 Fake Street\n",
    "Mike Jones,mike@example.com,098-765-4321,321 Fake Avenue"
   ]
  },
  {
   "cell_type": "markdown",
   "id": "10c179ec-3c4f-4b94-821c-057fbf5e9f4f",
   "metadata": {},
   "source": [
    "## Module csv\n",
    "* Le module csv contient la fonctionnalité qui permet de lire un fichier csv et le convertir en collection de Python."
   ]
  },
  {
   "cell_type": "code",
   "execution_count": 34,
   "id": "2f2531e1-754f-41b1-b92e-be035c84790e",
   "metadata": {},
   "outputs": [
    {
     "name": "stdout",
     "output_type": "stream",
     "text": [
      "['Name', 'Email', 'Phone Number', 'Address']\n",
      "['Bob Smith', 'bob@example.com', '123-456-7890', '123 Fake Street']\n",
      "['Mike Jones', 'mike@example.com', '098-765-4321', '321 Fake Avenue']\n",
      "{'Name': 'Bob Smith', 'Email': 'bob@example.com', 'Phone Number': '123-456-7890', 'Address': '123 Fake Street'}\n",
      "{'Name': 'Mike Jones', 'Email': 'mike@example.com', 'Phone Number': '098-765-4321', 'Address': '321 Fake Avenue'}\n"
     ]
    }
   ],
   "source": [
    "import csv\n",
    "\n",
    "# Avec reader on convertie en liste\n",
    "with open('address.csv', newline='') as csvfile:\n",
    "    reader = csv.reader(csvfile)\n",
    "    for row in reader:\n",
    "        print(row)\n",
    "\n",
    "# Avec DictReader on convetie en dictionnaire\n",
    "with open('address.csv', newline='') as csvfile:\n",
    "    reader = csv.DictReader(csvfile)\n",
    "    for row in reader:\n",
    "        print(row)"
   ]
  },
  {
   "cell_type": "markdown",
   "id": "47ce7b8a-6357-483a-be52-e3f832c5070c",
   "metadata": {},
   "source": [
    "## JSON - JavaScript Object Notation\n",
    "\n",
    "## Module json\n",
    "* https://www.json.org/\n",
    "* Un document qui permet de formater des collections en fichier texte pour transmission facile.\n",
    "* N'a pas de lien fort avec JavaScript (malgré son nom).\n",
    "* Permets de facilement imbriquer des informations.\n",
    "\n",
    "## Exemple JSON"
   ]
  },
  {
   "cell_type": "markdown",
   "id": "45ddead1-b890-4906-ad80-bf1f109b2a9f",
   "metadata": {},
   "source": [
    "```json\n",
    "{\n",
    "  \"firstName\": \"John\",\n",
    "  \"lastName\": \"Smith\",\n",
    "  \"isAlive\": true,\n",
    "  \"age\": 27,\n",
    "  \"address\": {\n",
    "    \"streetAddress\": \"21 2nd Street\",\n",
    "    \"city\": \"New York\",\n",
    "    \"state\": \"NY\",\n",
    "    \"postalCode\": \"10021-3100\"\n",
    "  },\n",
    "  \"phoneNumbers\": [\"212 555-1234\" ,\"646 555-4567\"],\n",
    "  \"children\": [],\n",
    "  \"spouse\": null\n",
    "}\n",
    "```"
   ]
  },
  {
   "cell_type": "markdown",
   "id": "8ec70067-2be5-46ca-b6e8-a6a3bd327a54",
   "metadata": {},
   "source": [
    "## Module json\n",
    "* Le module json nous permet de lire un fichier ou une chaine json et la convertie en objet Python.\n",
    "* La fonction `load` permet de convertir un fichier ouvert.\n",
    "* La fonction `loads` permet de convertir une chaine de caractère décrivant un objet JSON."
   ]
  },
  {
   "cell_type": "code",
   "execution_count": 35,
   "id": "dadb9397-321f-44bc-b40c-30b3023045a0",
   "metadata": {},
   "outputs": [
    {
     "name": "stdout",
     "output_type": "stream",
     "text": [
      "{'sepalLength': 5.1, 'sepalWidth': 3.5, 'petalLength': 1.4, 'petalWidth': 0.2, 'species': 'setosa'}\n",
      "{'sepalLength': 4.9, 'sepalWidth': 3.0, 'petalLength': 1.4, 'petalWidth': 0.2, 'species': 'setosa'}\n",
      "{'sepalLength': 4.7, 'sepalWidth': 3.2, 'petalLength': 1.3, 'petalWidth': 0.2, 'species': 'setosa'}\n",
      "{'sepalLength': 4.6, 'sepalWidth': 3.1, 'petalLength': 1.5, 'petalWidth': 0.2, 'species': 'setosa'}\n",
      "{'sepalLength': 5.0, 'sepalWidth': 3.6, 'petalLength': 1.4, 'petalWidth': 0.2, 'species': 'setosa'}\n",
      "{'sepalLength': 5.4, 'sepalWidth': 3.9, 'petalLength': 1.7, 'petalWidth': 0.4, 'species': 'setosa'}\n",
      "{'sepalLength': 4.6, 'sepalWidth': 3.4, 'petalLength': 1.4, 'petalWidth': 0.3, 'species': 'setosa'}\n",
      "{'sepalLength': 5.0, 'sepalWidth': 3.4, 'petalLength': 1.5, 'petalWidth': 0.2, 'species': 'setosa'}\n",
      "{'sepalLength': 4.4, 'sepalWidth': 2.9, 'petalLength': 1.4, 'petalWidth': 0.2, 'species': 'setosa'}\n",
      "{'sepalLength': 4.9, 'sepalWidth': 3.1, 'petalLength': 1.5, 'petalWidth': 0.1, 'species': 'setosa'}\n",
      "{'sepalLength': 5.4, 'sepalWidth': 3.7, 'petalLength': 1.5, 'petalWidth': 0.2, 'species': 'setosa'}\n",
      "{'sepalLength': 4.8, 'sepalWidth': 3.4, 'petalLength': 1.6, 'petalWidth': 0.2, 'species': 'setosa'}\n",
      "{'sepalLength': 4.8, 'sepalWidth': 3.0, 'petalLength': 1.4, 'petalWidth': 0.1, 'species': 'setosa'}\n",
      "{'sepalLength': 4.3, 'sepalWidth': 3.0, 'petalLength': 1.1, 'petalWidth': 0.1, 'species': 'setosa'}\n",
      "{'sepalLength': 5.8, 'sepalWidth': 4.0, 'petalLength': 1.2, 'petalWidth': 0.2, 'species': 'setosa'}\n",
      "{'sepalLength': 5.7, 'sepalWidth': 4.4, 'petalLength': 1.5, 'petalWidth': 0.4, 'species': 'setosa'}\n",
      "{'sepalLength': 5.4, 'sepalWidth': 3.9, 'petalLength': 1.3, 'petalWidth': 0.4, 'species': 'setosa'}\n",
      "{'sepalLength': 5.1, 'sepalWidth': 3.5, 'petalLength': 1.4, 'petalWidth': 0.3, 'species': 'setosa'}\n",
      "{'sepalLength': 5.7, 'sepalWidth': 3.8, 'petalLength': 1.7, 'petalWidth': 0.3, 'species': 'setosa'}\n",
      "{'sepalLength': 5.1, 'sepalWidth': 3.8, 'petalLength': 1.5, 'petalWidth': 0.3, 'species': 'setosa'}\n",
      "{'sepalLength': 5.4, 'sepalWidth': 3.4, 'petalLength': 1.7, 'petalWidth': 0.2, 'species': 'setosa'}\n",
      "{'sepalLength': 5.1, 'sepalWidth': 3.7, 'petalLength': 1.5, 'petalWidth': 0.4, 'species': 'setosa'}\n",
      "{'sepalLength': 4.6, 'sepalWidth': 3.6, 'petalLength': 1.0, 'petalWidth': 0.2, 'species': 'setosa'}\n",
      "{'sepalLength': 5.1, 'sepalWidth': 3.3, 'petalLength': 1.7, 'petalWidth': 0.5, 'species': 'setosa'}\n",
      "{'sepalLength': 4.8, 'sepalWidth': 3.4, 'petalLength': 1.9, 'petalWidth': 0.2, 'species': 'setosa'}\n",
      "{'sepalLength': 5.0, 'sepalWidth': 3.0, 'petalLength': 1.6, 'petalWidth': 0.2, 'species': 'setosa'}\n",
      "{'sepalLength': 5.0, 'sepalWidth': 3.4, 'petalLength': 1.6, 'petalWidth': 0.4, 'species': 'setosa'}\n",
      "{'sepalLength': 5.2, 'sepalWidth': 3.5, 'petalLength': 1.5, 'petalWidth': 0.2, 'species': 'setosa'}\n",
      "{'sepalLength': 5.2, 'sepalWidth': 3.4, 'petalLength': 1.4, 'petalWidth': 0.2, 'species': 'setosa'}\n",
      "{'sepalLength': 4.7, 'sepalWidth': 3.2, 'petalLength': 1.6, 'petalWidth': 0.2, 'species': 'setosa'}\n",
      "{'sepalLength': 4.8, 'sepalWidth': 3.1, 'petalLength': 1.6, 'petalWidth': 0.2, 'species': 'setosa'}\n",
      "{'sepalLength': 5.4, 'sepalWidth': 3.4, 'petalLength': 1.5, 'petalWidth': 0.4, 'species': 'setosa'}\n",
      "{'sepalLength': 5.2, 'sepalWidth': 4.1, 'petalLength': 1.5, 'petalWidth': 0.1, 'species': 'setosa'}\n",
      "{'sepalLength': 5.5, 'sepalWidth': 4.2, 'petalLength': 1.4, 'petalWidth': 0.2, 'species': 'setosa'}\n",
      "{'sepalLength': 4.9, 'sepalWidth': 3.1, 'petalLength': 1.5, 'petalWidth': 0.2, 'species': 'setosa'}\n",
      "{'sepalLength': 5.0, 'sepalWidth': 3.2, 'petalLength': 1.2, 'petalWidth': 0.2, 'species': 'setosa'}\n",
      "{'sepalLength': 5.5, 'sepalWidth': 3.5, 'petalLength': 1.3, 'petalWidth': 0.2, 'species': 'setosa'}\n",
      "{'sepalLength': 4.9, 'sepalWidth': 3.6, 'petalLength': 1.4, 'petalWidth': 0.1, 'species': 'setosa'}\n",
      "{'sepalLength': 4.4, 'sepalWidth': 3.0, 'petalLength': 1.3, 'petalWidth': 0.2, 'species': 'setosa'}\n",
      "{'sepalLength': 5.1, 'sepalWidth': 3.4, 'petalLength': 1.5, 'petalWidth': 0.2, 'species': 'setosa'}\n",
      "{'sepalLength': 5.0, 'sepalWidth': 3.5, 'petalLength': 1.3, 'petalWidth': 0.3, 'species': 'setosa'}\n",
      "{'sepalLength': 4.5, 'sepalWidth': 2.3, 'petalLength': 1.3, 'petalWidth': 0.3, 'species': 'setosa'}\n",
      "{'sepalLength': 4.4, 'sepalWidth': 3.2, 'petalLength': 1.3, 'petalWidth': 0.2, 'species': 'setosa'}\n",
      "{'sepalLength': 5.0, 'sepalWidth': 3.5, 'petalLength': 1.6, 'petalWidth': 0.6, 'species': 'setosa'}\n",
      "{'sepalLength': 5.1, 'sepalWidth': 3.8, 'petalLength': 1.9, 'petalWidth': 0.4, 'species': 'setosa'}\n",
      "{'sepalLength': 4.8, 'sepalWidth': 3.0, 'petalLength': 1.4, 'petalWidth': 0.3, 'species': 'setosa'}\n",
      "{'sepalLength': 5.1, 'sepalWidth': 3.8, 'petalLength': 1.6, 'petalWidth': 0.2, 'species': 'setosa'}\n",
      "{'sepalLength': 4.6, 'sepalWidth': 3.2, 'petalLength': 1.4, 'petalWidth': 0.2, 'species': 'setosa'}\n",
      "{'sepalLength': 5.3, 'sepalWidth': 3.7, 'petalLength': 1.5, 'petalWidth': 0.2, 'species': 'setosa'}\n",
      "{'sepalLength': 5.0, 'sepalWidth': 3.3, 'petalLength': 1.4, 'petalWidth': 0.2, 'species': 'setosa'}\n",
      "{'sepalLength': 7.0, 'sepalWidth': 3.2, 'petalLength': 4.7, 'petalWidth': 1.4, 'species': 'versicolor'}\n",
      "{'sepalLength': 6.4, 'sepalWidth': 3.2, 'petalLength': 4.5, 'petalWidth': 1.5, 'species': 'versicolor'}\n",
      "{'sepalLength': 6.9, 'sepalWidth': 3.1, 'petalLength': 4.9, 'petalWidth': 1.5, 'species': 'versicolor'}\n",
      "{'sepalLength': 5.5, 'sepalWidth': 2.3, 'petalLength': 4.0, 'petalWidth': 1.3, 'species': 'versicolor'}\n",
      "{'sepalLength': 6.5, 'sepalWidth': 2.8, 'petalLength': 4.6, 'petalWidth': 1.5, 'species': 'versicolor'}\n",
      "{'sepalLength': 5.7, 'sepalWidth': 2.8, 'petalLength': 4.5, 'petalWidth': 1.3, 'species': 'versicolor'}\n",
      "{'sepalLength': 6.3, 'sepalWidth': 3.3, 'petalLength': 4.7, 'petalWidth': 1.6, 'species': 'versicolor'}\n",
      "{'sepalLength': 4.9, 'sepalWidth': 2.4, 'petalLength': 3.3, 'petalWidth': 1.0, 'species': 'versicolor'}\n",
      "{'sepalLength': 6.6, 'sepalWidth': 2.9, 'petalLength': 4.6, 'petalWidth': 1.3, 'species': 'versicolor'}\n",
      "{'sepalLength': 5.2, 'sepalWidth': 2.7, 'petalLength': 3.9, 'petalWidth': 1.4, 'species': 'versicolor'}\n",
      "{'sepalLength': 5.0, 'sepalWidth': 2.0, 'petalLength': 3.5, 'petalWidth': 1.0, 'species': 'versicolor'}\n",
      "{'sepalLength': 5.9, 'sepalWidth': 3.0, 'petalLength': 4.2, 'petalWidth': 1.5, 'species': 'versicolor'}\n",
      "{'sepalLength': 6.0, 'sepalWidth': 2.2, 'petalLength': 4.0, 'petalWidth': 1.0, 'species': 'versicolor'}\n",
      "{'sepalLength': 6.1, 'sepalWidth': 2.9, 'petalLength': 4.7, 'petalWidth': 1.4, 'species': 'versicolor'}\n",
      "{'sepalLength': 5.6, 'sepalWidth': 2.9, 'petalLength': 3.6, 'petalWidth': 1.3, 'species': 'versicolor'}\n",
      "{'sepalLength': 6.7, 'sepalWidth': 3.1, 'petalLength': 4.4, 'petalWidth': 1.4, 'species': 'versicolor'}\n",
      "{'sepalLength': 5.6, 'sepalWidth': 3.0, 'petalLength': 4.5, 'petalWidth': 1.5, 'species': 'versicolor'}\n",
      "{'sepalLength': 5.8, 'sepalWidth': 2.7, 'petalLength': 4.1, 'petalWidth': 1.0, 'species': 'versicolor'}\n",
      "{'sepalLength': 6.2, 'sepalWidth': 2.2, 'petalLength': 4.5, 'petalWidth': 1.5, 'species': 'versicolor'}\n",
      "{'sepalLength': 5.6, 'sepalWidth': 2.5, 'petalLength': 3.9, 'petalWidth': 1.1, 'species': 'versicolor'}\n",
      "{'sepalLength': 5.9, 'sepalWidth': 3.2, 'petalLength': 4.8, 'petalWidth': 1.8, 'species': 'versicolor'}\n",
      "{'sepalLength': 6.1, 'sepalWidth': 2.8, 'petalLength': 4.0, 'petalWidth': 1.3, 'species': 'versicolor'}\n",
      "{'sepalLength': 6.3, 'sepalWidth': 2.5, 'petalLength': 4.9, 'petalWidth': 1.5, 'species': 'versicolor'}\n",
      "{'sepalLength': 6.1, 'sepalWidth': 2.8, 'petalLength': 4.7, 'petalWidth': 1.2, 'species': 'versicolor'}\n",
      "{'sepalLength': 6.4, 'sepalWidth': 2.9, 'petalLength': 4.3, 'petalWidth': 1.3, 'species': 'versicolor'}\n",
      "{'sepalLength': 6.6, 'sepalWidth': 3.0, 'petalLength': 4.4, 'petalWidth': 1.4, 'species': 'versicolor'}\n",
      "{'sepalLength': 6.8, 'sepalWidth': 2.8, 'petalLength': 4.8, 'petalWidth': 1.4, 'species': 'versicolor'}\n",
      "{'sepalLength': 6.7, 'sepalWidth': 3.0, 'petalLength': 5.0, 'petalWidth': 1.7, 'species': 'versicolor'}\n",
      "{'sepalLength': 6.0, 'sepalWidth': 2.9, 'petalLength': 4.5, 'petalWidth': 1.5, 'species': 'versicolor'}\n",
      "{'sepalLength': 5.7, 'sepalWidth': 2.6, 'petalLength': 3.5, 'petalWidth': 1.0, 'species': 'versicolor'}\n",
      "{'sepalLength': 5.5, 'sepalWidth': 2.4, 'petalLength': 3.8, 'petalWidth': 1.1, 'species': 'versicolor'}\n",
      "{'sepalLength': 5.5, 'sepalWidth': 2.4, 'petalLength': 3.7, 'petalWidth': 1.0, 'species': 'versicolor'}\n",
      "{'sepalLength': 5.8, 'sepalWidth': 2.7, 'petalLength': 3.9, 'petalWidth': 1.2, 'species': 'versicolor'}\n",
      "{'sepalLength': 6.0, 'sepalWidth': 2.7, 'petalLength': 5.1, 'petalWidth': 1.6, 'species': 'versicolor'}\n",
      "{'sepalLength': 5.4, 'sepalWidth': 3.0, 'petalLength': 4.5, 'petalWidth': 1.5, 'species': 'versicolor'}\n",
      "{'sepalLength': 6.0, 'sepalWidth': 3.4, 'petalLength': 4.5, 'petalWidth': 1.6, 'species': 'versicolor'}\n",
      "{'sepalLength': 6.7, 'sepalWidth': 3.1, 'petalLength': 4.7, 'petalWidth': 1.5, 'species': 'versicolor'}\n",
      "{'sepalLength': 6.3, 'sepalWidth': 2.3, 'petalLength': 4.4, 'petalWidth': 1.3, 'species': 'versicolor'}\n",
      "{'sepalLength': 5.6, 'sepalWidth': 3.0, 'petalLength': 4.1, 'petalWidth': 1.3, 'species': 'versicolor'}\n",
      "{'sepalLength': 5.5, 'sepalWidth': 2.5, 'petalLength': 4.0, 'petalWidth': 1.3, 'species': 'versicolor'}\n",
      "{'sepalLength': 5.5, 'sepalWidth': 2.6, 'petalLength': 4.4, 'petalWidth': 1.2, 'species': 'versicolor'}\n",
      "{'sepalLength': 6.1, 'sepalWidth': 3.0, 'petalLength': 4.6, 'petalWidth': 1.4, 'species': 'versicolor'}\n",
      "{'sepalLength': 5.8, 'sepalWidth': 2.6, 'petalLength': 4.0, 'petalWidth': 1.2, 'species': 'versicolor'}\n",
      "{'sepalLength': 5.0, 'sepalWidth': 2.3, 'petalLength': 3.3, 'petalWidth': 1.0, 'species': 'versicolor'}\n",
      "{'sepalLength': 5.6, 'sepalWidth': 2.7, 'petalLength': 4.2, 'petalWidth': 1.3, 'species': 'versicolor'}\n",
      "{'sepalLength': 5.7, 'sepalWidth': 3.0, 'petalLength': 4.2, 'petalWidth': 1.2, 'species': 'versicolor'}\n",
      "{'sepalLength': 5.7, 'sepalWidth': 2.9, 'petalLength': 4.2, 'petalWidth': 1.3, 'species': 'versicolor'}\n",
      "{'sepalLength': 6.2, 'sepalWidth': 2.9, 'petalLength': 4.3, 'petalWidth': 1.3, 'species': 'versicolor'}\n",
      "{'sepalLength': 5.1, 'sepalWidth': 2.5, 'petalLength': 3.0, 'petalWidth': 1.1, 'species': 'versicolor'}\n",
      "{'sepalLength': 5.7, 'sepalWidth': 2.8, 'petalLength': 4.1, 'petalWidth': 1.3, 'species': 'versicolor'}\n",
      "{'sepalLength': 6.3, 'sepalWidth': 3.3, 'petalLength': 6.0, 'petalWidth': 2.5, 'species': 'virginica'}\n",
      "{'sepalLength': 5.8, 'sepalWidth': 2.7, 'petalLength': 5.1, 'petalWidth': 1.9, 'species': 'virginica'}\n",
      "{'sepalLength': 7.1, 'sepalWidth': 3.0, 'petalLength': 5.9, 'petalWidth': 2.1, 'species': 'virginica'}\n",
      "{'sepalLength': 6.3, 'sepalWidth': 2.9, 'petalLength': 5.6, 'petalWidth': 1.8, 'species': 'virginica'}\n",
      "{'sepalLength': 6.5, 'sepalWidth': 3.0, 'petalLength': 5.8, 'petalWidth': 2.2, 'species': 'virginica'}\n",
      "{'sepalLength': 7.6, 'sepalWidth': 3.0, 'petalLength': 6.6, 'petalWidth': 2.1, 'species': 'virginica'}\n",
      "{'sepalLength': 4.9, 'sepalWidth': 2.5, 'petalLength': 4.5, 'petalWidth': 1.7, 'species': 'virginica'}\n",
      "{'sepalLength': 7.3, 'sepalWidth': 2.9, 'petalLength': 6.3, 'petalWidth': 1.8, 'species': 'virginica'}\n",
      "{'sepalLength': 6.7, 'sepalWidth': 2.5, 'petalLength': 5.8, 'petalWidth': 1.8, 'species': 'virginica'}\n",
      "{'sepalLength': 7.2, 'sepalWidth': 3.6, 'petalLength': 6.1, 'petalWidth': 2.5, 'species': 'virginica'}\n",
      "{'sepalLength': 6.5, 'sepalWidth': 3.2, 'petalLength': 5.1, 'petalWidth': 2.0, 'species': 'virginica'}\n",
      "{'sepalLength': 6.4, 'sepalWidth': 2.7, 'petalLength': 5.3, 'petalWidth': 1.9, 'species': 'virginica'}\n",
      "{'sepalLength': 6.8, 'sepalWidth': 3.0, 'petalLength': 5.5, 'petalWidth': 2.1, 'species': 'virginica'}\n",
      "{'sepalLength': 5.7, 'sepalWidth': 2.5, 'petalLength': 5.0, 'petalWidth': 2.0, 'species': 'virginica'}\n",
      "{'sepalLength': 5.8, 'sepalWidth': 2.8, 'petalLength': 5.1, 'petalWidth': 2.4, 'species': 'virginica'}\n",
      "{'sepalLength': 6.4, 'sepalWidth': 3.2, 'petalLength': 5.3, 'petalWidth': 2.3, 'species': 'virginica'}\n",
      "{'sepalLength': 6.5, 'sepalWidth': 3.0, 'petalLength': 5.5, 'petalWidth': 1.8, 'species': 'virginica'}\n",
      "{'sepalLength': 7.7, 'sepalWidth': 3.8, 'petalLength': 6.7, 'petalWidth': 2.2, 'species': 'virginica'}\n",
      "{'sepalLength': 7.7, 'sepalWidth': 2.6, 'petalLength': 6.9, 'petalWidth': 2.3, 'species': 'virginica'}\n",
      "{'sepalLength': 6.0, 'sepalWidth': 2.2, 'petalLength': 5.0, 'petalWidth': 1.5, 'species': 'virginica'}\n",
      "{'sepalLength': 6.9, 'sepalWidth': 3.2, 'petalLength': 5.7, 'petalWidth': 2.3, 'species': 'virginica'}\n",
      "{'sepalLength': 5.6, 'sepalWidth': 2.8, 'petalLength': 4.9, 'petalWidth': 2.0, 'species': 'virginica'}\n",
      "{'sepalLength': 7.7, 'sepalWidth': 2.8, 'petalLength': 6.7, 'petalWidth': 2.0, 'species': 'virginica'}\n",
      "{'sepalLength': 6.3, 'sepalWidth': 2.7, 'petalLength': 4.9, 'petalWidth': 1.8, 'species': 'virginica'}\n",
      "{'sepalLength': 6.7, 'sepalWidth': 3.3, 'petalLength': 5.7, 'petalWidth': 2.1, 'species': 'virginica'}\n",
      "{'sepalLength': 7.2, 'sepalWidth': 3.2, 'petalLength': 6.0, 'petalWidth': 1.8, 'species': 'virginica'}\n",
      "{'sepalLength': 6.2, 'sepalWidth': 2.8, 'petalLength': 4.8, 'petalWidth': 1.8, 'species': 'virginica'}\n",
      "{'sepalLength': 6.1, 'sepalWidth': 3.0, 'petalLength': 4.9, 'petalWidth': 1.8, 'species': 'virginica'}\n",
      "{'sepalLength': 6.4, 'sepalWidth': 2.8, 'petalLength': 5.6, 'petalWidth': 2.1, 'species': 'virginica'}\n",
      "{'sepalLength': 7.2, 'sepalWidth': 3.0, 'petalLength': 5.8, 'petalWidth': 1.6, 'species': 'virginica'}\n",
      "{'sepalLength': 7.4, 'sepalWidth': 2.8, 'petalLength': 6.1, 'petalWidth': 1.9, 'species': 'virginica'}\n",
      "{'sepalLength': 7.9, 'sepalWidth': 3.8, 'petalLength': 6.4, 'petalWidth': 2.0, 'species': 'virginica'}\n",
      "{'sepalLength': 6.4, 'sepalWidth': 2.8, 'petalLength': 5.6, 'petalWidth': 2.2, 'species': 'virginica'}\n",
      "{'sepalLength': 6.3, 'sepalWidth': 2.8, 'petalLength': 5.1, 'petalWidth': 1.5, 'species': 'virginica'}\n",
      "{'sepalLength': 6.1, 'sepalWidth': 2.6, 'petalLength': 5.6, 'petalWidth': 1.4, 'species': 'virginica'}\n",
      "{'sepalLength': 7.7, 'sepalWidth': 3.0, 'petalLength': 6.1, 'petalWidth': 2.3, 'species': 'virginica'}\n",
      "{'sepalLength': 6.3, 'sepalWidth': 3.4, 'petalLength': 5.6, 'petalWidth': 2.4, 'species': 'virginica'}\n",
      "{'sepalLength': 6.4, 'sepalWidth': 3.1, 'petalLength': 5.5, 'petalWidth': 1.8, 'species': 'virginica'}\n",
      "{'sepalLength': 6.0, 'sepalWidth': 3.0, 'petalLength': 4.8, 'petalWidth': 1.8, 'species': 'virginica'}\n",
      "{'sepalLength': 6.9, 'sepalWidth': 3.1, 'petalLength': 5.4, 'petalWidth': 2.1, 'species': 'virginica'}\n",
      "{'sepalLength': 6.7, 'sepalWidth': 3.1, 'petalLength': 5.6, 'petalWidth': 2.4, 'species': 'virginica'}\n",
      "{'sepalLength': 6.9, 'sepalWidth': 3.1, 'petalLength': 5.1, 'petalWidth': 2.3, 'species': 'virginica'}\n",
      "{'sepalLength': 5.8, 'sepalWidth': 2.7, 'petalLength': 5.1, 'petalWidth': 1.9, 'species': 'virginica'}\n",
      "{'sepalLength': 6.8, 'sepalWidth': 3.2, 'petalLength': 5.9, 'petalWidth': 2.3, 'species': 'virginica'}\n",
      "{'sepalLength': 6.7, 'sepalWidth': 3.3, 'petalLength': 5.7, 'petalWidth': 2.5, 'species': 'virginica'}\n",
      "{'sepalLength': 6.7, 'sepalWidth': 3.0, 'petalLength': 5.2, 'petalWidth': 2.3, 'species': 'virginica'}\n",
      "{'sepalLength': 6.3, 'sepalWidth': 2.5, 'petalLength': 5.0, 'petalWidth': 1.9, 'species': 'virginica'}\n",
      "{'sepalLength': 6.5, 'sepalWidth': 3.0, 'petalLength': 5.2, 'petalWidth': 2.0, 'species': 'virginica'}\n",
      "{'sepalLength': 6.2, 'sepalWidth': 3.4, 'petalLength': 5.4, 'petalWidth': 2.3, 'species': 'virginica'}\n",
      "{'sepalLength': 5.9, 'sepalWidth': 3.0, 'petalLength': 5.1, 'petalWidth': 1.8, 'species': 'virginica'}\n",
      "{'name': 'mkyong.com', 'messages': ['msg 1', 'msg 2', 'msg 3'], 'age': 100}\n"
     ]
    }
   ],
   "source": [
    "import json\n",
    "with open('iris.json', newline='') as jsonfile:\n",
    "    reader = json.load(jsonfile)\n",
    "    for row in reader:\n",
    "        print(row)\n",
    "\n",
    "# json.loads permet de parcourir une chaine\n",
    "info = json.loads('{\"name\":\"mkyong.com\",\"messages\":[\"msg 1\",\"msg 2\",\"msg 3\"],\"age\":100}')\n",
    "print(info)\n"
   ]
  },
  {
   "cell_type": "markdown",
   "id": "5866485d-fe7b-4d24-8ea4-10e8b47c209f",
   "metadata": {},
   "source": [
    "## Programmation orientée-objet\n",
    "\n",
    "* La programmation orientée-objet (POO) est un paradigme de programmation qui permet de conceptualiser des problèmes complexes d'une manière plus humaine.\n",
    "* On considère les éléments du problème comme étant des entités distinctes (des objets) qui pourront évoluer face à la problématique.\n",
    "* Cela vient en contraste à la programmation procédurale qui se base sur le flux séquentiel des instructions et de l'utilisation de fonctions avec des entrées et sorties bien définies.\n",
    "\n",
    "## Les objets\n",
    "\n",
    "* Un objet représente deux informations :\n",
    "  * Les données (attributs, variables)\n",
    "  * Les comportements (méthodes, fonctions)\n",
    "\n",
    "Par exemple, une alarme aura les informations suivantes:\n",
    "\n",
    "Attributs:\n",
    "* current_second (0–59)\n",
    "* current_minute (0–59)\n",
    "* current_hour (1–12)\n",
    "* alarm_time (heure et minute valide)\n",
    "* alarm_is_set (True, False)\n",
    "\n",
    "Méthodes:\n",
    "* set_time\n",
    "* set_alarm_time \n",
    "* set_alarm_on\n",
    "* set_alarm_off\n",
    "\n",
    "## Classes\n",
    "Une classe est un gabarit pour la construction d'objet. On peut aussi le voir comme une recette.\n",
    "\n",
    "La classe est le code qui pourra décrire les différents objets qui sont créés à partir de la classe. Les objets créés à partir d'une classe sont nommés les instances de la classe.\n",
    "\n",
    "\n",
    "## Exemple d'une classe\n",
    "\n",
    "La classe est indiquée par le bloc de code `class` qui va contenir différentes méthodes de la classe."
   ]
  },
  {
   "cell_type": "code",
   "execution_count": 36,
   "id": "e0cb8aff-d798-47a0-8977-aaa27f3bef33",
   "metadata": {},
   "outputs": [],
   "source": [
    "import random\n",
    "\n",
    "# Simulation d'une pièce de monaie\n",
    "\n",
    "class Coin:\n",
    "    \n",
    "    # __init__ initialise a 'Face'.\n",
    "    \n",
    "    def __init__(self):\n",
    "        self.sideup = 'Face'\n",
    "    \n",
    "    def toss(self):\n",
    "        # Génération aléatoire de nombre pour\n",
    "        # \"lancer\" la pièce\n",
    "        if random.randint(0, 1) == 0:\n",
    "            self.sideup = 'Face'\n",
    "        else:\n",
    "            self.sideup = 'Pile'\n",
    "\n",
    "    # Retourne l'état courant de la pièce\n",
    "    \n",
    "    def get_sideup(self):\n",
    "        return self.sideup\n"
   ]
  },
  {
   "cell_type": "markdown",
   "id": "715164df-3363-42bc-821b-7b145fd6480b",
   "metadata": {},
   "source": [
    "## Méthodes d'une classe\n",
    "\n",
    "* Les méthodes sont des définitions de fonctions à l'intérieur d'une classe.\n",
    "* Chaque fonction doit recevoir le paramètre obligatoire `self`. Le `self` fait référence à l'instance de l'objet à manipuler.\n",
    "\n",
    "* La méthode `__init__` est spéciale, car c'est la méthode qui sera appelée à l'initialisation d'une nouvelle instance (un objet) de la classe. Elle permet donc d'initialiser les différentes données de l'instance.\n",
    "\n",
    "* Les attributs sont attachés au `self` et peuvent être ensuite modifié en utilisant l'opérateur `.`.\n",
    "\n",
    "## Création d'objets à partir d'une classe\n",
    "Suivant l'exemple de la classe `Coin`:"
   ]
  },
  {
   "cell_type": "code",
   "execution_count": 37,
   "id": "ccf8938e-9e7c-431b-a8c3-47c2d2e6c1e7",
   "metadata": {},
   "outputs": [
    {
     "name": "stdout",
     "output_type": "stream",
     "text": [
      "This side is up: Face\n",
      "I am tossing the coin...\n",
      "This side is up: Pile\n"
     ]
    }
   ],
   "source": [
    "def main():\n",
    "    # Création de l'objet avec la méthode init\n",
    "    my_coin = Coin()\n",
    "\n",
    "    # Affiche l'état de la pièce\n",
    "    print('This side is up:', my_coin.get_sideup())\n",
    "\n",
    "    # Lance la pièce\n",
    "    print('I am tossing the coin...')\n",
    "    my_coin.toss()\n",
    "\n",
    "    # Affiche l'état de la pièce\n",
    "    print('This side is up:', my_coin.get_sideup())\n",
    "    \n",
    "main()"
   ]
  },
  {
   "cell_type": "markdown",
   "id": "79f05138-fec0-40e3-8b62-5059d7bafa97",
   "metadata": {},
   "source": [
    "## Attributs privés\n",
    "Il est possible de cacher les attributs pour que ceux-ci ne soient pas accessibles à l'extérieur de la classe."
   ]
  },
  {
   "cell_type": "code",
   "execution_count": 38,
   "id": "430ea4c7-7b38-4485-bbf8-f30fb657d073",
   "metadata": {},
   "outputs": [],
   "source": [
    "import random\n",
    "\n",
    "class Coin:\n",
    "\n",
    "    def __init__(self):\n",
    "        self.__sideup = 'Heads'\n",
    "\n",
    "    def toss(self):\n",
    "        if random.randint(0, 1) == 0:\n",
    "            self.__sideup = 'Heads'\n",
    "        else:\n",
    "            self.__sideup = 'Tails'\n",
    "\n",
    "    def get_sideup(self):\n",
    "        return self.__sideup"
   ]
  },
  {
   "cell_type": "markdown",
   "id": "2313a113-ff68-4b89-867b-3fa5ee2b0891",
   "metadata": {},
   "source": [
    "Les attributs avec deux tirets bas seront cachés à un accès public.\n",
    "\n",
    "## Multiple instance\n",
    "Chaque objet aura ses propres valeurs dans les attributs."
   ]
  },
  {
   "cell_type": "code",
   "execution_count": 57,
   "id": "ba5b3e1b-4be9-4977-a911-10c8301a7758",
   "metadata": {},
   "outputs": [
    {
     "name": "stdout",
     "output_type": "stream",
     "text": [
      "I have three coins with these sides up:\n",
      "Heads\n",
      "Heads\n",
      "Heads\n",
      "\n",
      "I am tossing all three coins...\n",
      "\n",
      "Now here are the sides that are up:\n",
      "Tails\n",
      "Tails\n",
      "Heads\n",
      "\n"
     ]
    }
   ],
   "source": [
    "def main():\n",
    "    coin1 = Coin()\n",
    "    coin2 = Coin()\n",
    "    coin3 = Coin()\n",
    "\n",
    "    print('I have three coins with these sides up:')\n",
    "    print(coin1.get_sideup())\n",
    "    print(coin2.get_sideup())\n",
    "    print(coin3.get_sideup())\n",
    "    print()\n",
    "    \n",
    "    print('I am tossing all three coins...')\n",
    "    print()\n",
    "    coin1.toss()\n",
    "    coin2.toss()\n",
    "    coin3.toss()\n",
    "\n",
    "    print('Now here are the sides that are up:')\n",
    "    print(coin1.get_sideup())\n",
    "    print(coin2.get_sideup())\n",
    "    print(coin3.get_sideup())\n",
    "    print()\n",
    "\n",
    "main()"
   ]
  },
  {
   "cell_type": "markdown",
   "id": "36c84d4b-b885-4479-b95f-b5ef516c5985",
   "metadata": {},
   "source": [
    "## Accesseurs et mutateurs\n",
    "\n",
    "Pour avoir un meilleur contrôle sur les données des objets, on utilise habituellement des attributs privés et on expose des méthodes d'accès (get) et de mutation (set) pour travailler sur les attributs.\n",
    "\n",
    "Par exemple, l'attribut `__sideup` de la classe `Coin` pourrait avoir la méthode `get_sideup` qui retourne la valeur de l'attribut et la méthode `set_sideup` qui reçoit et assigne une nouvelle valeur à l'attribut. Les méthodes d'accès et de mutations permettent d'ajouter de la validation à la modification d'attributs.\n",
    "\n",
    "## SQLite avec Python\n",
    "\n",
    "* [SQLite](https://sqlite.org/index.html) est une implémentation d'une base de données SQL à l'intérieur d'un fichier.\n",
    "\n",
    "## Tables\n",
    "Les informations d'une base de données sont regroupées en plusieurs tables de plusieurs colonnes. Chaque colonne porte un nom et peut contenir un type de donnée précise. Plusieurs lignes de données formeront l'information de la BD.\n",
    "\n",
    "## Types des colonnes\n",
    "\n",
    "* NULL - Valeur nulle.\n",
    "* INTEGER - Entier signé.\n",
    "* REAL - Valeur flottante.\n",
    "* TEXT - Texte.\n",
    "* BLOB - Donnée indéfinie.\n",
    "\n",
    "## Création de tables\n",
    "\n",
    "La création d'une nouvelle table demande de nommer la table, ses colonnes et le type de chacune des colonnes."
   ]
  },
  {
   "cell_type": "markdown",
   "id": "f2b60b8c-b935-411c-b86e-68499771b4ea",
   "metadata": {},
   "source": [
    "```sql\n",
    "CREATE TABLE Client(\n",
    "    nom TEXT,\n",
    "    num_id INTEGER,\n",
    "    solde REAL\n",
    ");\n",
    "```"
   ]
  },
  {
   "cell_type": "markdown",
   "id": "14224d52-d4ce-4995-be87-9077ac3c2bcf",
   "metadata": {},
   "source": [
    "## Ajout de données dans une table\n",
    "L'ajout d'une ligne dans une table se fait avec la commande `INSERT`."
   ]
  },
  {
   "cell_type": "markdown",
   "id": "eb132b19-a836-4130-bedd-b044b803c246",
   "metadata": {},
   "source": [
    "```sql\n",
    "INSERT INTO Client\n",
    "    VALUES ('Bob', 34252, 2.34);\n",
    "\n",
    "-- On peut spécifier quelle colonne remplir\n",
    "INSERT INTO Client(nom, num_id)\n",
    "    VALUES ('Bob', 34252);\n",
    "\n",
    "INSERT INTO Client\n",
    "    VALUES ('Annie', 21513, 346.25),\n",
    "        ('Julie', 135153, 2352.43);\n",
    "```"
   ]
  },
  {
   "cell_type": "markdown",
   "id": "45caf69a-78fc-4295-a56b-87c90f2be0a0",
   "metadata": {},
   "source": [
    "## Chercher dans la table\n",
    "La majorité des interactions avec une base de données est d'aller chercher de l'information à l'intérieur de celle-ci. La commande `SELECT` permet de faire des recherches dans les tables."
   ]
  },
  {
   "cell_type": "markdown",
   "id": "505fe436-1f2b-4472-9664-23c57d772c10",
   "metadata": {},
   "source": [
    "```sql\n",
    "SELECT * from Client;\n",
    "\n",
    "-- Le premier paramètre est les colonnes à afficher\n",
    "SELECT nom,solde from Client;\n",
    "```"
   ]
  },
  {
   "cell_type": "markdown",
   "id": "259c2cd7-d9c7-479c-a896-8082d7b27a1d",
   "metadata": {},
   "source": [
    "## Condition de sélection\n",
    "Il est possible de filtrer un `SELECT` avec l'option `WHERE`."
   ]
  },
  {
   "cell_type": "markdown",
   "id": "e0155eef-b8c1-4698-a721-0ca373b21c9b",
   "metadata": {},
   "source": [
    "```sql\n",
    "SELECT nom from Client WHERE solde < 0;\n",
    "```"
   ]
  },
  {
   "cell_type": "markdown",
   "id": "57bbac59-7fbe-4791-8bfd-0b9f1c4efc8d",
   "metadata": {},
   "source": [
    "## Modification des lignes - Supprimer\n",
    "La commande `DELETE` permet de supprimer des lignes."
   ]
  },
  {
   "cell_type": "markdown",
   "id": "90d6fd5f-0db6-41b5-8003-32b300829b0b",
   "metadata": {},
   "source": [
    "```sql\n",
    "-- Supprime toutes les lignes\n",
    "DELETE FROM Client;\n",
    "\n",
    "DELETE FROM Client WHERE solde < 0;\n",
    "\n",
    "-- Supprime une table\n",
    "DROP TABLE Client;\n",
    "```"
   ]
  },
  {
   "cell_type": "markdown",
   "id": "14bb3dce-3f5b-4e84-8f34-f2794ee26122",
   "metadata": {},
   "source": [
    "## Intrégration de SQL avec python\n",
    "La librairie sqlite3 permet de se connecter à une BD SQLite (un fichier). À partir de là, on peut envoyer des commandes et recevoir les réponses de commandes SQL."
   ]
  },
  {
   "cell_type": "code",
   "execution_count": 40,
   "id": "679d5d26-349f-4841-ac0b-6712e16397c7",
   "metadata": {},
   "outputs": [],
   "source": [
    "import sqlite3\n",
    "conn = sqlite3.connect(\"MaBD.db\")\n",
    "\n",
    "# C'est le curseur qui envoie les commandes et reçoit nos réponses.\n",
    "cur = conn.cursor()\n",
    "\n",
    "cur.close()\n",
    "conn.close()"
   ]
  },
  {
   "cell_type": "markdown",
   "id": "9b974de8-460b-4c8f-af0e-4c6e4d885fbd",
   "metadata": {},
   "source": [
    "## Envoi de commande avec les curseurs\n",
    "Les commandes sont écrites avec la méthode `execute` et écrite dans la base de données avec `commit` pour les actions modifiantes la BD."
   ]
  },
  {
   "cell_type": "markdown",
   "id": "d03aa7a9-03ae-4ba2-b187-79da750f735d",
   "metadata": {},
   "source": [
    "cur.execute(\"INSERT INTO Client VALUES('Jean', 24432, 2.634)\")\n",
    "conn.commit()"
   ]
  },
  {
   "cell_type": "markdown",
   "id": "6f78440d-d6f2-4fec-b50f-74e06b127b0f",
   "metadata": {},
   "source": [
    "## Sélection de lignes avec les curseurs"
   ]
  },
  {
   "cell_type": "code",
   "execution_count": 41,
   "id": "2d8c9af1-2339-4ffc-a94b-2c1ae57dfa41",
   "metadata": {},
   "outputs": [
    {
     "ename": "ProgrammingError",
     "evalue": "Cannot operate on a closed cursor.",
     "output_type": "error",
     "traceback": [
      "\u001b[0;31m---------------------------------------------------------------------------\u001b[0m",
      "\u001b[0;31mProgrammingError\u001b[0m                          Traceback (most recent call last)",
      "\u001b[0;32m<ipython-input-41-f3c3c2b0b827>\u001b[0m in \u001b[0;36m<module>\u001b[0;34m\u001b[0m\n\u001b[0;32m----> 1\u001b[0;31m \u001b[0mcur\u001b[0m\u001b[0;34m.\u001b[0m\u001b[0mexecute\u001b[0m\u001b[0;34m(\u001b[0m\u001b[0;34m'SELECT * FROM Client'\u001b[0m\u001b[0;34m)\u001b[0m\u001b[0;34m\u001b[0m\u001b[0;34m\u001b[0m\u001b[0m\n\u001b[0m\u001b[1;32m      2\u001b[0m \u001b[0;34m\u001b[0m\u001b[0m\n\u001b[1;32m      3\u001b[0m \u001b[0;31m# Parcours avec un for\u001b[0m\u001b[0;34m\u001b[0m\u001b[0;34m\u001b[0m\u001b[0;34m\u001b[0m\u001b[0m\n\u001b[1;32m      4\u001b[0m \u001b[0;32mfor\u001b[0m \u001b[0me\u001b[0m \u001b[0;32min\u001b[0m \u001b[0mcur\u001b[0m\u001b[0;34m:\u001b[0m\u001b[0;34m\u001b[0m\u001b[0;34m\u001b[0m\u001b[0m\n\u001b[1;32m      5\u001b[0m     \u001b[0mprint\u001b[0m\u001b[0;34m(\u001b[0m\u001b[0me\u001b[0m\u001b[0;34m)\u001b[0m\u001b[0;34m\u001b[0m\u001b[0;34m\u001b[0m\u001b[0m\n",
      "\u001b[0;31mProgrammingError\u001b[0m: Cannot operate on a closed cursor."
     ]
    }
   ],
   "source": [
    "cur.execute('SELECT * FROM Client')\n",
    "\n",
    "# Parcours avec un for\n",
    "for e in cur:\n",
    "    print(e)\n",
    "\n",
    "# Gestion dans une liste\n",
    "ma_liste = list(cur)\n",
    "\n",
    "# Insertion dans une liste\n",
    "res = cur.fetchall()"
   ]
  },
  {
   "cell_type": "markdown",
   "id": "e0475642-20ee-4125-b5f3-5c69c64511b4",
   "metadata": {},
   "source": [
    "## Requêtes vers des API REST\n",
    "\n",
    "* Une méthode courante d'acquisition de données est l'utilisation d'API (Application Programming Interface) de type REST.\n",
    "* Cette méthode permet de faire une requête à un site web avec des paramètres données et de recevoir une réponse en JSON.\n",
    "\n",
    "## Librairie requests\n",
    "\n",
    "* Pour faire des requêtes WEB avec python, la librairie [request](https://docs.python-requests.org/en/master/) est utilisé."
   ]
  },
  {
   "cell_type": "markdown",
   "id": "b3d89e8f-347f-475a-8c28-28a5ac7b72a7",
   "metadata": {},
   "source": [
    "# import requests module\n",
    "import requests\n",
    "  \n",
    "# Making a get request\n",
    "response = requests.get('https://api.github.com')\n",
    "  \n",
    "# print response\n",
    "print(response)\n",
    "  \n",
    "# print json content\n",
    "print(response.json())"
   ]
  },
  {
   "cell_type": "markdown",
   "id": "07c73430-40a4-4f00-bbf9-382c45b7c0b5",
   "metadata": {},
   "source": [
    "## Les requêtes web et les règles du REST\n",
    "\n",
    "* Le principe des requêtes REST est d'avoir les paramètres dans l'URL qui est utilisé pour faire la requête.\n",
    "* Le chemin de l'application permet de recevoir seulement l'information voulu."
   ]
  },
  {
   "cell_type": "markdown",
   "id": "d066da4e-83bf-426d-87da-a02c6c98e233",
   "metadata": {},
   "source": [
    "## Exemple avec JSONPlaceholder\n",
    "\n",
    "* [JSONPlaceholder](https://jsonplaceholder.typicode.com/) est un site simple avec un API rest qui peut être utilisé pour tester nos requêtes.\n",
    "\n",
    "## Routes\n",
    "\n",
    "* Les différents chemin sont nommé routes et ceux-ci font partie d'une arborescence.\n",
    "* Par exemple, JSONPlaceholder à les routes suivantes :\n",
    "    * `/posts` vers tous les articles sauvegardés\n",
    "    * `/posts/1` le nombre 1 permet de sélectionner un article en particulier\n",
    "    * `/posts/1/comments` la continuation de la route avec `comments` permet d'aller chercher les commentaire de l'article spécifié."
   ]
  },
  {
   "cell_type": "code",
   "execution_count": 60,
   "id": "f6536ae6-b14d-4650-a932-349447e87d82",
   "metadata": {},
   "outputs": [
    {
     "data": {
      "text/plain": [
       "{'postId': 1,\n",
       " 'id': 3,\n",
       " 'name': 'odio adipisci rerum aut animi',\n",
       " 'email': 'Nikita@garfield.biz',\n",
       " 'body': 'quia molestiae reprehenderit quasi aspernatur\\naut expedita occaecati aliquam eveniet laudantium\\nomnis quibusdam delectus saepe quia accusamus maiores nam est\\ncum et ducimus et vero voluptates excepturi deleniti ratione'}"
      ]
     },
     "execution_count": 60,
     "metadata": {},
     "output_type": "execute_result"
    }
   ],
   "source": [
    "# Making a get request\n",
    "response = requests.get('https://jsonplaceholder.typicode.com/posts/1/comments')\n",
    "\n",
    "comments = response.json()\n",
    "\n",
    "comments[2]"
   ]
  },
  {
   "cell_type": "code",
   "execution_count": null,
   "id": "96d0010d-0dc4-4e6a-8551-3ca2309d6743",
   "metadata": {},
   "outputs": [],
   "source": []
  }
 ],
 "metadata": {
  "kernelspec": {
   "display_name": "Python 3",
   "language": "python",
   "name": "python3"
  },
  "language_info": {
   "codemirror_mode": {
    "name": "ipython",
    "version": 3
   },
   "file_extension": ".py",
   "mimetype": "text/x-python",
   "name": "python",
   "nbconvert_exporter": "python",
   "pygments_lexer": "ipython3",
   "version": "3.8.8"
  }
 },
 "nbformat": 4,
 "nbformat_minor": 5
}
