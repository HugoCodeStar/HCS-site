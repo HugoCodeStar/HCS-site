{
 "cells": [
  {
   "cell_type": "markdown",
   "id": "6f7d973d",
   "metadata": {},
   "source": [
    "# Cours 2"
   ]
  },
  {
   "cell_type": "markdown",
   "id": "38c13b64-0e80-4ea7-9c84-69465847300e",
   "metadata": {},
   "source": [
    "## Anaconda / Jupyter Notebook\n",
    "* Anaconda est un environnement de travail pour les sciences de la données.\n",
    "* L'application permet la gestion et configuration de plusieurs plateformes des scienses de la donnée basé sur Python, R et d'autres.\n",
    "* La majorité du travail en Python se fait à l'intérieur de Jupyter Notebooks qui permet de mélangé documentation, code et visualisation dans un seul fichier. Ce fichier à l'extension `.ipynb` pour `Interactive PYthon NoteBook`. Ce fichier peut être lu par une panoplie d'application.\n",
    "* Dans notre cas, Jupyter Labs est conseiller pour la session. Il existe aussi d'autres applications permettant de lire les Python notebook :\n",
    "    * PyCharm\n",
    "    * Datalore\n",
    "    * VS Code\n",
    "    * Jupyter Notebook (anciennce version de Jupyter Labs)\n",
    "\n",
    "# Markdown\n",
    "* Pour la documentation, la format Markdown est utilisé. Celui-ci utilise des balises pour avoir un formatage facile et conviviale qui est initiallement en format texte.\n",
    "* Veuillez vous référé à la [Documentation de Markdown](https://jupyter-notebook.readthedocs.io/en/stable/examples/Notebook/Working%20With%20Markdown%20Cells.html) pour l'utilisation des différentes balises du format."
   ]
  },
  {
   "cell_type": "markdown",
   "id": "46a581e6",
   "metadata": {},
   "source": [
    "# Listes\n",
    "* Les listes sont des collections de plusieurs éléments de même type sous un seul identificateur;\n",
    "* La liste est construite de cases mémoire consécutives en mémoire;\n",
    "* À chaque élément de la liste, on associe un indice qui permet de facilement accéder aux cases individuellement;\n",
    "* Nous regarderons pour commencer que des listes d'une dimension;\n",
    "\n",
    "## Initialisation de liste\n",
    "* `[ valeurs ]` - Une liste de valeurs délimitées par des virgules. Construis un tableau avec les valeurs données.\n",
    "* `list(range(x))` permet de convertir le résultat de la fonction `range` en liste.\n",
    "* L'opérateur `*` permet de répéter liste quand une liste est l'un des opérandes."
   ]
  },
  {
   "cell_type": "code",
   "execution_count": 3,
   "id": "227752c6",
   "metadata": {},
   "outputs": [
    {
     "name": "stdout",
     "output_type": "stream",
     "text": [
      "[4, 6, 3, 5, 7] ['Bob', 'Marie', 'Aird'] [3, True, 'ok'] ['allo', 'allo', 'allo'] [0, 1, 2, 3] [1, 2, 1, 2, 1, 2]\n"
     ]
    }
   ],
   "source": [
    "liste = [4, 6, 3, 5, 7]\n",
    "liste_noms = ['Bob', 'Marie', 'Aird']\n",
    "liste_mixte = [3, True, 'ok']\n",
    "liste_repeat = ['allo'] * 3 # Donne ['allo', 'allo', 'allo']\n",
    "liste_range = list(range(4)) # Donne [0, 1, 2, 3]\n",
    "liste_repet = [1, 2] * 3 # Donne [1, 2, 1, 2, 1, 2]\n",
    "print(liste, liste_noms, liste_mixte, liste_repeat, liste_range, liste_repet)"
   ]
  },
  {
   "cell_type": "markdown",
   "id": "18f85f10",
   "metadata": {},
   "source": [
    "## Accès aux éléments de la liste\n",
    "* L'accès aux éléments de la liste se fait à travers un indice. L'indice est utilisé entre des crochets `[]` suivant l'identificateur de la liste;\n",
    "* Cette méthode peut être utilisée pour assigner une valeur à une case spécifique.\n",
    "* **Attention** : Les indices commencent à 0."
   ]
  },
  {
   "cell_type": "code",
   "execution_count": 5,
   "id": "689a6043",
   "metadata": {},
   "outputs": [
    {
     "name": "stdout",
     "output_type": "stream",
     "text": [
      "2\n",
      "5\n",
      "4\n"
     ]
    }
   ],
   "source": [
    "x = [3, 2, 5, 6, 7]\n",
    "print(x[1])\n",
    "\n",
    "print(x[2])\n",
    "x[2] = 4\n",
    "print(x[2])"
   ]
  },
  {
   "cell_type": "markdown",
   "id": "7047f08c",
   "metadata": {},
   "source": [
    "## Liste dynamique\n",
    "\n",
    "* Les listes de Python sont dynamiques. Elles peuvent changer de taille au besoin;\n",
    "* L'ajout d'éléments se fait avec la fonction `append`;\n",
    "* La concaténation de listes se fait avec l'opération `+`;\n",
    "* La suppression d'un élément se fait avec l'instruction `del`."
   ]
  },
  {
   "cell_type": "code",
   "execution_count": 6,
   "id": "0b710edd",
   "metadata": {},
   "outputs": [
    {
     "name": "stdout",
     "output_type": "stream",
     "text": [
      "7\n",
      "[4, 5, 3, 7, 1, 2, 3]\n",
      "[4, 5, 7, 1, 2, 3]\n"
     ]
    }
   ],
   "source": [
    "x = [4, 5, 3]\n",
    "y = [1, 2, 3]\n",
    "x.append(7)\n",
    "print(x[3]) # Affiche 7\n",
    "\n",
    "z = x + y\n",
    "print(z) # Affiche [4, 5, 3, 7, 1, 2, 3]\n",
    "\n",
    "del z[2]\n",
    "print(z) # Affiche [4, 5, 7, 1, 2, 3]"
   ]
  },
  {
   "cell_type": "markdown",
   "id": "158ddc3d",
   "metadata": {},
   "source": [
    "## Parcours dans une liste\n",
    "\n",
    "* il est facile d'itérer sur une liste avec un for.\n",
    "* Trouvez la taille d'une liste avec la fonction `len`"
   ]
  },
  {
   "cell_type": "code",
   "execution_count": 7,
   "id": "8c355fea",
   "metadata": {},
   "outputs": [
    {
     "name": "stdout",
     "output_type": "stream",
     "text": [
      "3\n",
      "5\n",
      "2\n",
      "5\n",
      "4\n"
     ]
    }
   ],
   "source": [
    "x = [3, 5, 2, 5]\n",
    "\n",
    "for a in x:\n",
    "    print(a)\n",
    "\n",
    "print(len(x))"
   ]
  },
  {
   "cell_type": "markdown",
   "id": "bca8fb70",
   "metadata": {},
   "source": [
    "## Découpage d'une liste (slicing)\n",
    "\n",
    "* Une sous-liste d'une liste peut être générée en utilisant les opérations de découpage.\n",
    "* Le découpage prend deux indices, un de début et un de fin (la fin sera exclue de la sélection)\n",
    "* Il est possible d'omettre le début ou la fin.\n",
    "* Si le début est omis, l'indice 0 est utilisé\n",
    "* Si la fin est omise, l'indice de fin est la fin de la liste"
   ]
  },
  {
   "cell_type": "code",
   "execution_count": 9,
   "id": "1fb5db89",
   "metadata": {},
   "outputs": [
    {
     "name": "stdout",
     "output_type": "stream",
     "text": [
      "['c', 'd']\n",
      "['e', 'f']\n"
     ]
    }
   ],
   "source": [
    "x = ['a', 'b', 'c', 'd', 'e', 'f']\n",
    "\n",
    "mid_x = x[2:4] # Contient ['c', 'd']\n",
    "print(mid_x)\n",
    "\n",
    "end_x = x[4:] # Contient ['e', 'f']\n",
    "print(end_x)"
   ]
  },
  {
   "cell_type": "markdown",
   "id": "04591453",
   "metadata": {},
   "source": [
    "## Passage de référence\n",
    "* Les listes sont des objets qui sont passés par référence;\n",
    "* Les modifications à l'intérieur d'une fonction sont donc permanentes."
   ]
  },
  {
   "cell_type": "code",
   "execution_count": 10,
   "id": "df25aef7",
   "metadata": {},
   "outputs": [
    {
     "name": "stdout",
     "output_type": "stream",
     "text": [
      "[10, 5, 1]\n"
     ]
    }
   ],
   "source": [
    "def modifie_valeur(l):\n",
    "    l[0] = 10\n",
    "\n",
    "x = [3, 5, 1]\n",
    "modifie_valeur(x)\n",
    "\n",
    "print(x) # Affiche [10, 3, 1]"
   ]
  },
  {
   "cell_type": "markdown",
   "id": "c4f0eee8",
   "metadata": {},
   "source": [
    "## Trouver un élément dans une liste\n",
    "\n",
    "* L'opérateur `in` est aussi utilisé pour faire une recherche d'un élément dans une liste.\n",
    "* Les fonctions `min` et `max` trouves l'élément le plus petit ou plus grand dans une séquence (une liste est un type de séquence)."
   ]
  },
  {
   "cell_type": "code",
   "execution_count": 11,
   "id": "0ac72871",
   "metadata": {},
   "outputs": [
    {
     "name": "stdout",
     "output_type": "stream",
     "text": [
      "Trouvé!\n"
     ]
    }
   ],
   "source": [
    "x = ['allo', 'salut', 'bonjour']\n",
    "\n",
    "if 'allo' in x:\n",
    "    print('Trouvé!') # Va être affiché\n",
    "\n",
    "if 'au revoir' in x:\n",
    "    print('Pas trouvé...') # Ne sera pas affiché"
   ]
  },
  {
   "cell_type": "code",
   "execution_count": 12,
   "id": "91a3a570",
   "metadata": {},
   "outputs": [
    {
     "name": "stdout",
     "output_type": "stream",
     "text": [
      "3\n",
      "10\n"
     ]
    }
   ],
   "source": [
    "x = [5, 3, 8, 10, 4]\n",
    "\n",
    "print(min(x)) # Affiche 3\n",
    "print(max(x)) # Affiche 10"
   ]
  },
  {
   "cell_type": "markdown",
   "id": "4f8d59b0",
   "metadata": {},
   "source": [
    "## Méthodes sur les listes\n",
    "\n",
    "* Les méthodes sont des fonctions spéciales qui sont appellés directement de la liste.\n",
    "* Une méthode est appellé en préfixant le nom de la liste avec un `.`.\n",
    "* Les méthodes font partie de la programmation orienté-objet que nous verrons à la fin du cours.\n",
    "\n",
    "| Fonction            | Description                                                      |\n",
    "|---------------------|------------------------------------------------------------------|\n",
    "| append(index)       | Ajoute un élément à la fin de la liste.                          |\n",
    "| index(item)         | Retourne l'indice du premier élément trouvé dans la liste.       |\n",
    "| insert(index, item) | Insère `item` à la position `index`. Décale les autres éléments. |\n",
    "| sort()              | Tri la liste de manière croissante.                              |\n",
    "| remove(item)        | Enlève la première occurrence où `item` se trouve dans la liste. |\n",
    "| reverse()           | Inverse la liste.                                                |\n"
   ]
  },
  {
   "cell_type": "code",
   "execution_count": 13,
   "id": "fc86b946",
   "metadata": {},
   "outputs": [
    {
     "name": "stdout",
     "output_type": "stream",
     "text": [
      "[2, 3, 7, 10]\n"
     ]
    }
   ],
   "source": [
    "x = [3, 7, 10, 2]\n",
    "\n",
    "x.sort()\n",
    "\n",
    "print(x) # Affiche [2, 3, 7, 10]"
   ]
  },
  {
   "cell_type": "markdown",
   "id": "2f185d4f",
   "metadata": {},
   "source": [
    "## Copie de liste\n",
    "L'assigne d'une liste dans une autre variable ne fait **pas** la copie de la liste. Elle fait un référence à la liste.\n",
    "Pour faire la copie de la liste, la méthode `copy` est disponible."
   ]
  },
  {
   "cell_type": "code",
   "execution_count": 14,
   "id": "b3437e41",
   "metadata": {},
   "outputs": [
    {
     "name": "stdout",
     "output_type": "stream",
     "text": [
      "[10, 2, 3]\n"
     ]
    }
   ],
   "source": [
    "# Avec référence\n",
    "x = [1, 2, 3]\n",
    "y = x\n",
    "x[0] = 10\n",
    "print(y) # Affiche [10, 2, 3]\n",
    "\n",
    "# Avec copie\n",
    "x = [1, 2, 3]\n",
    "y = x.copy()\n",
    "x[0] = 10\n",
    "print(y) # Affiche [10, 2, 3]"
   ]
  },
  {
   "cell_type": "markdown",
   "id": "932f14b0",
   "metadata": {},
   "source": [
    "## Tuple\n",
    "* Le tulpe est très sembable à une liste. La différence fondamental est que le tuple est immuable. Il ne peux pas être modifier après sa création. Les tuples utilisent des parenthèses à la place de crochet carrés des listes à leurs créations.\n",
    "* Il est possible de convertir un tuple en liste avec la fonction `list` qui reçoit le tuple et retourne une liste avec les mêmes éléments."
   ]
  },
  {
   "cell_type": "code",
   "execution_count": 15,
   "id": "42b22b2b",
   "metadata": {},
   "outputs": [
    {
     "name": "stdout",
     "output_type": "stream",
     "text": [
      "(4, 6, 8, 3)\n",
      "8\n"
     ]
    },
    {
     "ename": "TypeError",
     "evalue": "'tuple' object does not support item assignment",
     "output_type": "error",
     "traceback": [
      "\u001b[0;31m---------------------------------------------------------------------------\u001b[0m",
      "\u001b[0;31mTypeError\u001b[0m                                 Traceback (most recent call last)",
      "\u001b[0;32m<ipython-input-15-eb9668faf682>\u001b[0m in \u001b[0;36m<module>\u001b[0;34m\u001b[0m\n\u001b[1;32m      2\u001b[0m \u001b[0mprint\u001b[0m\u001b[0;34m(\u001b[0m\u001b[0mmonTuple\u001b[0m\u001b[0;34m)\u001b[0m \u001b[0;31m#Affiche (4, 6, 8, 3)\u001b[0m\u001b[0;34m\u001b[0m\u001b[0;34m\u001b[0m\u001b[0m\n\u001b[1;32m      3\u001b[0m \u001b[0mprint\u001b[0m\u001b[0;34m(\u001b[0m\u001b[0mmonTuple\u001b[0m\u001b[0;34m[\u001b[0m\u001b[0;36m2\u001b[0m\u001b[0;34m]\u001b[0m\u001b[0;34m)\u001b[0m \u001b[0;31m#Affiche 8\u001b[0m\u001b[0;34m\u001b[0m\u001b[0;34m\u001b[0m\u001b[0m\n\u001b[0;32m----> 4\u001b[0;31m \u001b[0mmonTuple\u001b[0m\u001b[0;34m[\u001b[0m\u001b[0;36m0\u001b[0m\u001b[0;34m]\u001b[0m \u001b[0;34m=\u001b[0m \u001b[0;36m10\u001b[0m \u001b[0;31m# Génère une erreur\u001b[0m\u001b[0;34m\u001b[0m\u001b[0;34m\u001b[0m\u001b[0m\n\u001b[0m",
      "\u001b[0;31mTypeError\u001b[0m: 'tuple' object does not support item assignment"
     ]
    }
   ],
   "source": [
    "monTuple = (4, 6, 8, 3)\n",
    "print(monTuple) #Affiche (4, 6, 8, 3)\n",
    "print(monTuple[2]) #Affiche 8\n",
    "monTuple[0] = 10 # Génère une erreur"
   ]
  },
  {
   "cell_type": "markdown",
   "id": "81832be5",
   "metadata": {},
   "source": [
    "## Liste de multiple dimensions\n",
    "\n",
    "* En incorporant des listes de listes, il est possible de faire la représentation d'une matrice.\n"
   ]
  },
  {
   "cell_type": "code",
   "execution_count": 16,
   "id": "5346e9f8",
   "metadata": {},
   "outputs": [
    {
     "name": "stdout",
     "output_type": "stream",
     "text": [
      "[[1, 2, 3], [4, 5, 10]]\n"
     ]
    }
   ],
   "source": [
    "valeurs = [[1, 2, 3], [4, 5, 6]]\n",
    "# Représente\n",
    "# 1 2 3\n",
    "# 4 5 6\n",
    "\n",
    "# Modification de la case avec la valeur 6\n",
    "valeurs[1][2] = 10\n",
    "print(valeurs) # Affiche [[1, 2, 3], [4, 5, 10]]"
   ]
  },
  {
   "cell_type": "markdown",
   "id": "68b00cba",
   "metadata": {},
   "source": [
    "# Chaines de caractères"
   ]
  },
  {
   "cell_type": "markdown",
   "id": "e696f3f4",
   "metadata": {},
   "source": [
    "* Les chaine de caractères (`str`) est un type avec plusieurs fonctionnalités imbriquées.\n",
    "* Plusieurs opérations peuvent faciliter l'utilisation et la création de chaines.\n",
    "* Plusieurs méthodes sont disponibles pour parcourir, chercher et modifier les chaines."
   ]
  },
  {
   "cell_type": "markdown",
   "id": "83a83543",
   "metadata": {},
   "source": [
    "## Parcourir les lettres d'une chaine\n",
    "* Le `for` peut parcourir chacune des lettres dans une chaine.\n",
    "* Les chaines peuvent être accédées comme des listes.\n",
    "* La fonction `len` indique le nombre de caractères dans une chaine."
   ]
  },
  {
   "cell_type": "code",
   "execution_count": 19,
   "id": "89b63f2a",
   "metadata": {},
   "outputs": [
    {
     "name": "stdout",
     "output_type": "stream",
     "text": [
      "s\n",
      "a\n",
      "l\n",
      "u\n",
      "t\n",
      "a\n",
      "5\n"
     ]
    }
   ],
   "source": [
    "mot = 'salut'\n",
    "for lettre in mot:\n",
    "    print(lettre) # Affiche 's' 'a' 'l' 'u' 't'\n",
    "\n",
    "print(mot[1]) # Affiche 'a'\n",
    "print(len(mot)) # Affiche 5"
   ]
  },
  {
   "cell_type": "markdown",
   "id": "37c6ad73",
   "metadata": {},
   "source": [
    "## Concaténation et découpage de chaines\n",
    "* Il est possible de concaténer deux chaines pour en créer une nouvelle avec l'opérateur `+`.\n",
    "* Il est aussi possible de découper les chaines comme une liste."
   ]
  },
  {
   "cell_type": "code",
   "execution_count": 21,
   "id": "3e6d08e2",
   "metadata": {},
   "outputs": [
    {
     "name": "stdout",
     "output_type": "stream",
     "text": [
      "lut bon\n"
     ]
    }
   ],
   "source": [
    "mot = 'salut'\n",
    "autre_mot = 'bonjour'\n",
    "\n",
    "mega_mot = mot + ' ' + 'bonjour' # Contient 'salut bonjour'\n",
    "print(mega_mot[2:9]) # Affiche 'lut bon'"
   ]
  },
  {
   "cell_type": "markdown",
   "id": "c9d3936d",
   "metadata": {},
   "source": [
    "## L'opération in et les méthodes\n",
    "* Il est possible de chercher si une chaine est dans une autre avec l'opération `in` et inversement `not in`."
   ]
  },
  {
   "cell_type": "code",
   "execution_count": 22,
   "id": "e2d9da0a",
   "metadata": {},
   "outputs": [
    {
     "name": "stdout",
     "output_type": "stream",
     "text": [
      "Le mot \"tout\" est dans la phrase\n"
     ]
    }
   ],
   "source": [
    "texte = 'allo tout le monde'\n",
    "if 'tout' in texte:\n",
    "    print('Le mot \"tout\" est dans la phrase')"
   ]
  },
  {
   "cell_type": "markdown",
   "id": "ac20880b",
   "metadata": {},
   "source": [
    "## Méthodes de détection des chaines\n",
    "\n",
    "| Nom       | Description                                                           |\n",
    "|-----------|-----------------------------------------------------------------------|\n",
    "| isalnum()   | Tous des caractères alphanumériques.                                  |\n",
    "| isalpha() | Tous des caractères alphabétiques.                                    |\n",
    "| isdigit() | Tous des caractères numériques.                                       |\n",
    "| islower() | Tous des caractères alphabétiques en minuscule.                       |\n",
    "| isspace() | Tous des caractères d'espacements (espace, saut de ligne, tabulation) |\n",
    "| isupper() | Tous des caractères alphabétiques en majuscule.                       |\n",
    "\n",
    "## Méthodes de modification des chaines\n",
    "\n",
    "| Nom          | Description                                 |\n",
    "|--------------|---------------------------------------------|\n",
    "| lower()      | Converti en minuscules.                     |\n",
    "| lstrip()     | Enlève les espacements à gauche.            |\n",
    "| lstrip(char) | Enlève le caractère de la gauche.           |\n",
    "| rstrip()     | Enlève les espacements à droite.            |\n",
    "| strip()      | Enlève les espacements à gauche et à droite. |\n",
    "| strip(char)  | Enlève un caractère à gauche et à droite    |\n",
    "| upper()      | Converti en majuscules.                     |\n",
    "\n",
    "## Méthodes de recherche et remplacement\n",
    "\n",
    "| Nom                   | Description                                                       |\n",
    "|-----------------------|-------------------------------------------------------------------|\n",
    "| endswith(substring)   | Si se termine avec substring.                                     |\n",
    "| find(substring)       | Retourne le premier indice ou substring est trouvé. -1 autrement. |\n",
    "| replace(old, new)     | Remplace l'ancien substring par la nouvelle.                    |\n",
    "| startswith(substring) | Si se débute avec substring.                                      |\n",
    "\n",
    "## Découpage à un caractère spécifique\n",
    "\n",
    "* Il est possible de \"splitter\" une chaine en une liste de chaine à un délimiteur connu avec la méthode `split`."
   ]
  },
  {
   "cell_type": "code",
   "execution_count": 23,
   "id": "bdecf9e5",
   "metadata": {},
   "outputs": [],
   "source": [
    "chaine = 'salut le monde'\n",
    "# Coupe aux espaces par défaut.\n",
    "liste = chaine.split() # Contient ['salut', 'le', 'monde']\n",
    "\n",
    "date = '11/12/2012'\n",
    "liste_date = date.split('/') # Contient ['11', '12', '2012']"
   ]
  },
  {
   "cell_type": "markdown",
   "id": "dab19169",
   "metadata": {},
   "source": [
    "# Fichiers"
   ]
  },
  {
   "cell_type": "markdown",
   "id": "0f783e57",
   "metadata": {},
   "source": [
    "## Introduction aux fichiers\n",
    "* Python peut accéder à des fichiers externes. Ces fichiers vont rester après l'exécution de notre programme, contrairement aux variables. Il est donc possible de garder de l'information de manières permanentes.\n",
    "* Pour travailler avec les fichiers, des fonctions spécifiques seront utilisées pour leurs gestions.\n",
    "* Un concept d'objet fichier permet de faire référence à un fichier à l'aide d'une variable et autrement que par son nom."
   ]
  },
  {
   "cell_type": "markdown",
   "id": "16106c99",
   "metadata": {},
   "source": [
    "## Types de fichiers\n",
    "* Deux types de fichiers seront étudiés dans le cours:\n",
    "  * Fichier texte (ASCII)\n",
    "  * Fichier binaire\n",
    "* Les fichiers textes contiennent des caractères ASCII qui pourront être affichés dans un éditeur de texte (ex: Notepad).\n",
    "* Les fichiers binaires contiennent directement les informations des fichiers et peuvent prendre moins de place, mais sont plus difficiles à traiter. Dans le cours, nous ne verrons que les fichiers textes."
   ]
  },
  {
   "cell_type": "markdown",
   "id": "0aae4a81",
   "metadata": {},
   "source": [
    "## Objet fichier\n",
    "* Pour ne pas avoir à redonner le nom de fichier à chaque fonction, un objet fichier est utilisé pour représenter le fichier durant ses interactions avec Python.\n",
    "* La fonction `open` génère un nouvel objet fichier qui sera utilisé par les fonctions subséquentes. Seule la fonction `open` a donc besoin du nom de fichier.\n",
    "* L’objet fichier est une variable qui permet à Python de savoir avec quel fichier interagir.\n",
    "* L’objet fichier permet aussi à Python de garder la position d’un curseur dans le fichier. On peut donc lire plusieurs informations sans repartir du début du fichier.\n",
    "* Pour arrêter les interactions avec le fichier, la méthode `close` permet de libérer l’utilisation de l'objet ficher."
   ]
  },
  {
   "cell_type": "markdown",
   "id": "6b03af0c",
   "metadata": {},
   "source": [
    "## Ouverture d'un fichier\n",
    "* L'ouverture d'un fichier se fait avec la fonction `open` qui reçoit un nom de fichier à ouvrir et un mode d'ouverture\n",
    "\n",
    "| mode | description                                           |\n",
    "|------|-------------------------------------------------------|\n",
    "| 'r'  | Ouverture en lecture                                  |\n",
    "| 'w'  | Ouverture en écriture. Écrase le contenu courant.      |\n",
    "| 'a'  | Ouverte en ajout. Écrit à partir de la fin du fichier |"
   ]
  },
  {
   "cell_type": "markdown",
   "id": "79e2b3da",
   "metadata": {},
   "source": [
    "## Fermeture d'un fichier\n",
    "* Une fois le fichier ouvert et le traitement fait, il faut fermer le fichier en utilisant la méthode `close` sur l'objet fichier."
   ]
  },
  {
   "cell_type": "code",
   "execution_count": 24,
   "id": "436dfa83",
   "metadata": {},
   "outputs": [],
   "source": [
    "# Ouverture du fichier\n",
    "file = open('mon_fichier.txt', 'w')\n",
    "\n",
    "# Instruction de gestion du fichier\n",
    "\n",
    "# Fermeture du fichier\n",
    "file.close()"
   ]
  },
  {
   "cell_type": "markdown",
   "id": "69c9bdf6-8402-431d-92a9-de75ce5ce4ef",
   "metadata": {},
   "source": [
    "## Écriture dans un fichier\n",
    "* La méthode `write` permet d'écrire dans un fichier. Le fichier doit avoir été ouvert en écriture."
   ]
  },
  {
   "cell_type": "code",
   "execution_count": 5,
   "id": "bb3c743b-1203-4b39-9795-2f7350473ade",
   "metadata": {},
   "outputs": [],
   "source": [
    "# Ouverture du fichier\n",
    "file = open('mon_fichier.txt', 'w')\n",
    "\n",
    "# Écriture dans le fichier\n",
    "file.write('Allo\\n')\n",
    "file.write('Salut\\n')\n",
    "file.write('Bonjour\\n')\n",
    "\n",
    "# Fermeture du fichier\n",
    "file.close()"
   ]
  },
  {
   "cell_type": "markdown",
   "id": "5e882274-e469-46b8-b87a-a79fe0a2a0a2",
   "metadata": {},
   "source": [
    "## Lecture dans un fichier\n",
    "* Nous pouvons lire le contenu total d'un fichier avec la méthode `read`.\n",
    "* Pour plus facilement traiter le contenu d'un fichier, la méthode `readline` permet de lire une ligne de texte à la fois.\n",
    "* La fonction `readline` fait avancer un curseur jusqu'au prochain saut de ligne.\n"
   ]
  },
  {
   "cell_type": "code",
   "execution_count": 6,
   "id": "aa72972f-f849-483d-aead-27e2be16967e",
   "metadata": {},
   "outputs": [
    {
     "name": "stdout",
     "output_type": "stream",
     "text": [
      "Allo\n",
      " Salut\n",
      " Bonjour\n",
      "\n"
     ]
    }
   ],
   "source": [
    "file = open('mon_fichier.txt', 'r')\n",
    "\n",
    "ligne1 = file.readline()\n",
    "ligne2 = file.readline()\n",
    "ligne3 = file.readline()\n",
    "\n",
    "file.close()\n",
    "\n",
    "print(ligne1, ligne2, ligne3)"
   ]
  },
  {
   "cell_type": "markdown",
   "id": "8bd54dfe-520c-4da5-9dd4-cecf2c8eb7e0",
   "metadata": {},
   "source": [
    "* Durant la lecture de ligne, le saut de ligne est inclus, il est possible de le supprimer avec la méthode `rstrip`."
   ]
  },
  {
   "cell_type": "code",
   "execution_count": 7,
   "id": "cc2f62c1-3888-4a79-b58d-00cac32ae85c",
   "metadata": {},
   "outputs": [
    {
     "name": "stdout",
     "output_type": "stream",
     "text": [
      "Allo\n"
     ]
    }
   ],
   "source": [
    "ligne1 = ligne1.rstrip('\\n')\n",
    "print(ligne1)"
   ]
  },
  {
   "cell_type": "markdown",
   "id": "6093d372-6282-4669-ab1d-2e983f5ad719",
   "metadata": {},
   "source": [
    "## Écriture/Lecture numérique\n",
    "* Pour écrire des informations de variable numériques (int, float), on doit convertir les informations des variables avec la fonction `str`.\n",
    "* Inversement, l'utilisation d'un `readline` devra être combiné comme avec l'utilisation de `input` avec `int` ou `float`."
   ]
  },
  {
   "cell_type": "code",
   "execution_count": 9,
   "id": "a46dfefd-83bf-45d2-b687-f85a2af276d3",
   "metadata": {},
   "outputs": [],
   "source": [
    "x = 34\n",
    "\n",
    "file = open('mon_fichier2.txt', 'w')\n",
    "\n",
    "file.write(str(x))\n",
    "\n",
    "file.close()"
   ]
  },
  {
   "cell_type": "markdown",
   "id": "498888cd-a99e-45d6-9428-2d22df2e9408",
   "metadata": {},
   "source": [
    "## Traitement en boucle d'un fichier / version `while`\n",
    "* Un traitement commun de fichier sera de lire une série d'informations à l'intérieur d'un fichier sans savoir combien d'information le fichier contient.\n",
    "* Une boucle nous permet de faire le travail à répétition facilement."
   ]
  },
  {
   "cell_type": "code",
   "execution_count": 12,
   "id": "723b6167-cfce-4315-90c6-1e20fe2e1d95",
   "metadata": {},
   "outputs": [
    {
     "name": "stdout",
     "output_type": "stream",
     "text": [
      "34\n"
     ]
    }
   ],
   "source": [
    "file = open('mon_fichier.txt', 'r')\n",
    "\n",
    "line = file.readline()\n",
    "\n",
    "# Tant qu'il reste de l'information dans le fichier\n",
    "while line != '':\n",
    "    # Traite la ligne\n",
    "    print(line)\n",
    "\n",
    "    # Lit la prochaine ligne\n",
    "    line = file.readline()\n",
    "\n",
    "file.close()"
   ]
  },
  {
   "cell_type": "markdown",
   "id": "5faa03e2-00cb-4f59-b1e5-f74995d8deda",
   "metadata": {},
   "source": [
    "## Traitement en boucle d'un fichier / version `for`\n",
    "* Python nous offre aussi la possibilité d'utiliser la boucle for qui va automatiquement faire le `readline` d'un fichier."
   ]
  },
  {
   "cell_type": "code",
   "execution_count": 13,
   "id": "e021f91f-4db0-4cb5-9d67-e878d293fe87",
   "metadata": {},
   "outputs": [
    {
     "name": "stdout",
     "output_type": "stream",
     "text": [
      "34\n"
     ]
    }
   ],
   "source": [
    "file = open('mon_fichier.txt', 'r')\n",
    "\n",
    "for line in file:\n",
    "    # Traitement du fichier\n",
    "    print(line)\n",
    "\n",
    "file.close()"
   ]
  },
  {
   "cell_type": "markdown",
   "id": "dba4b168-f5a5-4cde-ac5c-5fb53b26b8b9",
   "metadata": {},
   "source": [
    "## Exceptions\n",
    "\n",
    "* Quand une erreur survient dans un programme, Python lève un exception. Par défaut, une exception va arrêter l'exécution du programme et affiche qui a levé une exception.\n"
   ]
  },
  {
   "cell_type": "code",
   "execution_count": 14,
   "id": "64a6810f-3431-4458-9328-b2aeaa897deb",
   "metadata": {},
   "outputs": [
    {
     "ename": "ZeroDivisionError",
     "evalue": "division by zero",
     "output_type": "error",
     "traceback": [
      "\u001b[0;31m---------------------------------------------------------------------------\u001b[0m",
      "\u001b[0;31mZeroDivisionError\u001b[0m                         Traceback (most recent call last)",
      "\u001b[0;32m<ipython-input-14-2d402964d273>\u001b[0m in \u001b[0;36m<module>\u001b[0;34m\u001b[0m\n\u001b[1;32m      1\u001b[0m \u001b[0mx\u001b[0m \u001b[0;34m=\u001b[0m \u001b[0;36m5\u001b[0m\u001b[0;34m\u001b[0m\u001b[0;34m\u001b[0m\u001b[0m\n\u001b[1;32m      2\u001b[0m \u001b[0my\u001b[0m \u001b[0;34m=\u001b[0m \u001b[0;36m0\u001b[0m\u001b[0;34m\u001b[0m\u001b[0;34m\u001b[0m\u001b[0m\n\u001b[0;32m----> 3\u001b[0;31m \u001b[0mres\u001b[0m \u001b[0;34m=\u001b[0m \u001b[0mx\u001b[0m \u001b[0;34m/\u001b[0m \u001b[0my\u001b[0m \u001b[0;31m# Lève une exception ZeroDivisionError\u001b[0m\u001b[0;34m\u001b[0m\u001b[0;34m\u001b[0m\u001b[0m\n\u001b[0m\u001b[1;32m      4\u001b[0m \u001b[0;34m\u001b[0m\u001b[0m\n\u001b[1;32m      5\u001b[0m \u001b[0mprint\u001b[0m\u001b[0;34m(\u001b[0m\u001b[0mres\u001b[0m\u001b[0;34m)\u001b[0m\u001b[0;34m\u001b[0m\u001b[0;34m\u001b[0m\u001b[0m\n",
      "\u001b[0;31mZeroDivisionError\u001b[0m: division by zero"
     ]
    }
   ],
   "source": [
    "x = 5\n",
    "y = 0\n",
    "res = x / y # Lève une exception ZeroDivisionError\n",
    "\n",
    "print(res)"
   ]
  },
  {
   "cell_type": "markdown",
   "id": "29c29355-1790-4652-9ddb-4228e9223b3b",
   "metadata": {},
   "source": [
    "## Gestion des exceptions\n",
    "* Un bloc `try/except` permet de faire une gestion de l'exception à l'intérieur du programme.\n",
    "* Le bloc `try` contient le code qui peut lever une exception.\n",
    "* Le bloc `except` est exécuté dans le cas de la lever d'une exception."
   ]
  },
  {
   "cell_type": "code",
   "execution_count": 15,
   "id": "09e43149-acbc-47b2-896a-0e43da362898",
   "metadata": {},
   "outputs": [
    {
     "name": "stdout",
     "output_type": "stream",
     "text": [
      "Une division par 0 a été levée.\n"
     ]
    }
   ],
   "source": [
    "try:\n",
    "    x = 5\n",
    "    y = 0\n",
    "\n",
    "    res = x / y\n",
    "\n",
    "    print(res)\n",
    "except ZeroDivisionError:\n",
    "    print('Une division par 0 a été levée.')"
   ]
  },
  {
   "cell_type": "markdown",
   "id": "bd35229c-edb0-4d67-bfb9-e5e8d937fb7f",
   "metadata": {},
   "source": [
    "## Gestion avancée\n",
    "* Il est possible d'avoir plusieurs gestions d'exception ainsi qu'un bloc `else` qui sera exécuté si aucune exception n’est levée durant le bloc `try`."
   ]
  },
  {
   "cell_type": "code",
   "execution_count": 18,
   "id": "1faae9d4-8bf6-4ad7-8db1-20d66e6db2e2",
   "metadata": {},
   "outputs": [
    {
     "name": "stdout",
     "output_type": "stream",
     "text": [
      "Fichier manquant\n"
     ]
    }
   ],
   "source": [
    "try:\n",
    "    # Lève une exception IOError si le fichier est inexistant\n",
    "    file = open('fichier_absent.txt', 'r')\n",
    "\n",
    "    # Lève une exception ValeurError si la conversion ne fonctionne pas\n",
    "    ligne = float(file.readline())\n",
    "except IOError:\n",
    "    print('Fichier manquant')\n",
    "except ValueError:\n",
    "    print('Mauvaise conversion')\n",
    "except:\n",
    "    print('Autre exception')\n",
    "else:\n",
    "    print(ligne)"
   ]
  },
  {
   "cell_type": "markdown",
   "id": "d99045da-5aa4-46c2-b7b7-0960d6c6132d",
   "metadata": {},
   "source": [
    "## Exceptions avec `with`\n",
    "* Le bloc `with` permet de faire une instruction initiale et exécuté un bloc de code si aucune erreur se produit.\n",
    "* Cela est très utilisé avec les ouvertures de fichiers."
   ]
  },
  {
   "cell_type": "code",
   "execution_count": 19,
   "id": "eb2eb26f-be57-40f9-8028-518be85a60bd",
   "metadata": {},
   "outputs": [
    {
     "name": "stdout",
     "output_type": "stream",
     "text": [
      "34\n"
     ]
    }
   ],
   "source": [
    "with open('mon_fichier.txt') as file:\n",
    "    for line in file:\n",
    "        print(line)"
   ]
  },
  {
   "cell_type": "markdown",
   "id": "76d73615-ed35-40cf-a9d0-19f2b33e754f",
   "metadata": {},
   "source": [
    "# Structure de données avancées"
   ]
  },
  {
   "cell_type": "markdown",
   "id": "5f3a05d7-d877-4206-b245-41c0c96d07d8",
   "metadata": {},
   "source": [
    "## Set\n",
    "\n",
    "* Un `set` est une collection, semblable à une liste, mais avec la distinction que tous les éléments doivent être unique.\n",
    "* L'ordre des éléments est aussi laissé à l'implémentation. Il n'existe pas d'indice pouvant identifier l'emplacement de l'élément dans la collection."
   ]
  },
  {
   "cell_type": "markdown",
   "id": "f5da2d0b-6362-435f-b849-ebedf590731d",
   "metadata": {},
   "source": [
    "## Création d'un set\n",
    "\n",
    "* Le set peut être créé vide avec un constructeur `set()` ou à partir d'une autre collection existante."
   ]
  },
  {
   "cell_type": "code",
   "execution_count": 22,
   "id": "bfe1bfcb-eaca-4d89-b66a-a471636d960a",
   "metadata": {},
   "outputs": [
    {
     "name": "stdout",
     "output_type": "stream",
     "text": [
      "set() {65, 34, 3, 4} {'l', 'o', 'a'} {'un', 'deux', 'trois'}\n",
      "{'salut', 'allo', 'bonjour'}\n"
     ]
    }
   ],
   "source": [
    "mon_set = set()\n",
    "autre_set = set([4, 65, 34, 3, 4]) # Le 4 s'y retrouvera qu'une fois.\n",
    "encore_set = set('allo') # Le 'l' ne sera pas en 2 copies.\n",
    "dernier_set = set(['un', 'deux', 'trois']) # Contient chaque mot.\n",
    "print(mon_set, autre_set, encore_set, dernier_set)\n",
    "\n",
    "# Il est aussi possible d'utiliser les accolades pour construire un `set`.\n",
    "curly_set = {'allo', 'salut', 'allo', 'bonjour'}\n",
    "print(curly_set) # Affiche {'salut', 'allo', 'bonjour'}"
   ]
  },
  {
   "cell_type": "markdown",
   "id": "5ed6bc30-d9a9-46ee-89fb-f6734588b97b",
   "metadata": {},
   "source": [
    "\n",
    "## Accès au set\n",
    "\n",
    "* La taille du set peut être connue avec `len`.\n",
    "* On ajoute un élément avec la méthode `add`.\n",
    "* On ajoute plusieurs éléments avec la méthode `update`."
   ]
  },
  {
   "cell_type": "code",
   "execution_count": 24,
   "id": "9fcc07b8-e532-4bc1-b932-846dd87a66c8",
   "metadata": {},
   "outputs": [
    {
     "name": "stdout",
     "output_type": "stream",
     "text": [
      "4\n",
      "{3, 4, 5, 6}\n"
     ]
    }
   ],
   "source": [
    "mon_set = set()\n",
    "mon_set.add(3)\n",
    "mon_set.add(4)\n",
    "mon_set.update([4, 5, 6])\n",
    "\n",
    "print(len(mon_set)) # Affiche 4\n",
    "print(mon_set)"
   ]
  },
  {
   "cell_type": "markdown",
   "id": "fa107341-eee8-466a-be6f-c024c0d59c85",
   "metadata": {},
   "source": [
    "## Soustraction au set\n",
    "\n",
    "* Les méthodes `remove` et `discard` enlèvent des éléments du set.\n",
    "* `remove` soulève un `KeyError` si l'élément n'est pas trouvé.\n",
    "* La méthode `clear` permet de vider le set."
   ]
  },
  {
   "cell_type": "code",
   "execution_count": 25,
   "id": "d146ba31-ad54-43df-82d3-ab755dd9dd22",
   "metadata": {},
   "outputs": [
    {
     "ename": "KeyError",
     "evalue": "10",
     "output_type": "error",
     "traceback": [
      "\u001b[0;31m---------------------------------------------------------------------------\u001b[0m",
      "\u001b[0;31mKeyError\u001b[0m                                  Traceback (most recent call last)",
      "\u001b[0;32m<ipython-input-25-c8b4d9d5fa36>\u001b[0m in \u001b[0;36m<module>\u001b[0;34m\u001b[0m\n\u001b[1;32m      2\u001b[0m \u001b[0mmon_set\u001b[0m\u001b[0;34m.\u001b[0m\u001b[0mremove\u001b[0m\u001b[0;34m(\u001b[0m\u001b[0;36m4\u001b[0m\u001b[0;34m)\u001b[0m\u001b[0;34m\u001b[0m\u001b[0;34m\u001b[0m\u001b[0m\n\u001b[1;32m      3\u001b[0m \u001b[0;34m\u001b[0m\u001b[0m\n\u001b[0;32m----> 4\u001b[0;31m \u001b[0mmon_set\u001b[0m\u001b[0;34m.\u001b[0m\u001b[0mremove\u001b[0m\u001b[0;34m(\u001b[0m\u001b[0;36m10\u001b[0m\u001b[0;34m)\u001b[0m \u001b[0;31m# KeyError\u001b[0m\u001b[0;34m\u001b[0m\u001b[0;34m\u001b[0m\u001b[0m\n\u001b[0m\u001b[1;32m      5\u001b[0m \u001b[0mmon_set\u001b[0m\u001b[0;34m.\u001b[0m\u001b[0mdiscard\u001b[0m\u001b[0;34m(\u001b[0m\u001b[0;36m10\u001b[0m\u001b[0;34m)\u001b[0m\u001b[0;34m\u001b[0m\u001b[0;34m\u001b[0m\u001b[0m\n",
      "\u001b[0;31mKeyError\u001b[0m: 10"
     ]
    }
   ],
   "source": [
    "mon_set = set([4, 5, 6, 7])\n",
    "mon_set.remove(4)\n",
    "\n",
    "mon_set.remove(10) # KeyError\n",
    "mon_set.discard(10)"
   ]
  },
  {
   "cell_type": "markdown",
   "id": "77a0ae0d-98d1-41ed-829d-36ce8d92a827",
   "metadata": {
    "tags": []
   },
   "source": [
    "## Trouvé de éléments dans un set\n",
    "\n",
    "* L'opérateur `in` et `not in` permet de faire la détection d'un élément dans un set.\n"
   ]
  },
  {
   "cell_type": "code",
   "execution_count": 28,
   "id": "412f255c-f0de-4cd8-951c-1b9ec73f4d5e",
   "metadata": {},
   "outputs": [
    {
     "name": "stdout",
     "output_type": "stream",
     "text": [
      "Trouvé!\n"
     ]
    }
   ],
   "source": [
    "mon_set = set([1, 2, 3])\n",
    "\n",
    "if 2 in mon_set:\n",
    "    print(\"Trouvé!\")"
   ]
  },
  {
   "cell_type": "markdown",
   "id": "ed17fe4b-98c5-4474-b2ae-6887b0c5c1cd",
   "metadata": {},
   "source": [
    "* La boucle `for` peut itérer sur un set. L'ordre des éléments ne peut pas être connu d'avance.\n"
   ]
  },
  {
   "cell_type": "code",
   "execution_count": 27,
   "id": "58d90341-7226-470b-9d07-662d9e6ad0b2",
   "metadata": {},
   "outputs": [
    {
     "name": "stdout",
     "output_type": "stream",
     "text": [
      "salut\n",
      "allo\n",
      "bonjour\n"
     ]
    }
   ],
   "source": [
    "curly_set = {'allo', 'salut', 'allo', 'bonjour'}\n",
    "\n",
    "for item in curly_set:\n",
    "  print(item)"
   ]
  },
  {
   "cell_type": "markdown",
   "id": "d0802ad3-5ff2-42a9-8e34-24b605726bec",
   "metadata": {},
   "source": [
    "## Opération sur les sets\n",
    "\n",
    "* On trouve l'union de deux sets avec la méthode `union`.\n",
    "* On trouve l'intersection de deux sets avec la méthode `intersection`.\n",
    "* On trouve la différence de deux sets avec la méthode `difference`.\n",
    "* On trouve la différence symétrique (ceux exclusifs à chaque set) avec la méthode `symmetric_difference`."
   ]
  },
  {
   "cell_type": "code",
   "execution_count": 29,
   "id": "453f3c38-4e4b-49cc-8219-02cb385ffed1",
   "metadata": {},
   "outputs": [
    {
     "name": "stdout",
     "output_type": "stream",
     "text": [
      "5\n"
     ]
    }
   ],
   "source": [
    "set1 = set([1, 2, 3])\n",
    "set2 = set([3, 4, 5])\n",
    "set3 = set1.union(set2)\n",
    "\n",
    "print(len(set3)) # Affiche 5"
   ]
  },
  {
   "cell_type": "markdown",
   "id": "3563ccab-e8c6-4546-9484-2a6fe2c9c20a",
   "metadata": {},
   "source": [
    "\n",
    "## Dictionnaire\n",
    "\n",
    "* Le dictionnaire est une autre collection.\n",
    "* Chaque élément contient deux parties : une clé et une valeur (key-value pair).\n",
    "* La clé est utilisée pour repérer l'élément dans la collection.\n",
    "* Les clés sont uniques.\n",
    "* Le dictionnaire représente ses key-value avec un `:` entre chacun et les inclus dans des accollades `{}`."
   ]
  },
  {
   "cell_type": "code",
   "execution_count": 31,
   "id": "61099569-2c26-46e6-9775-7ba32b5479a1",
   "metadata": {},
   "outputs": [
    {
     "name": "stdout",
     "output_type": "stream",
     "text": [
      "{'Marie': '444-1111', 'Bob': '444-2222', 'Alice': '444-3333'}\n"
     ]
    }
   ],
   "source": [
    "telephone = {'Marie':'444-1111', 'Bob':'444-2222', 'Alice':'444-3333'}\n",
    "print(telephone)"
   ]
  },
  {
   "cell_type": "markdown",
   "id": "d9da2e60-85c4-43c4-bfeb-7e281049e59e",
   "metadata": {},
   "source": [
    "## Accès au dictionnaire\n",
    "* Les éléments du dictionnaire sont accéder avec les clés entre crochets (comme une liste).\n",
    "* Comme les set, les opérateurs `in` et `not in` permettent de déterminer si une clé existe.\n",
    "* La fonction `len` permet de déterminer le nombre d'éléments"
   ]
  },
  {
   "cell_type": "code",
   "execution_count": 32,
   "id": "404fd9a3-f3d6-41b2-8218-7fd7c629634f",
   "metadata": {},
   "outputs": [
    {
     "name": "stdout",
     "output_type": "stream",
     "text": [
      "444-2222\n",
      "3\n"
     ]
    }
   ],
   "source": [
    "telephone = {'Marie':'444-1111', 'Bob':'444-2222', 'Alice':'444-3333'}\n",
    "if 'Bob' in telephone:\n",
    "    print(telephone['Bob']) # Affiche '444-2222'\n",
    "\n",
    "print(len(telephone)) # Affiche 4"
   ]
  },
  {
   "cell_type": "markdown",
   "id": "a6bc2fc2-e829-42f8-98d3-3227ae7ad0fc",
   "metadata": {},
   "source": [
    "* La boucle `for` permet d'avoir les `key` du dictionnaire"
   ]
  },
  {
   "cell_type": "code",
   "execution_count": 33,
   "id": "96ccb4a5-b9f8-4beb-b18b-72b157566fd6",
   "metadata": {},
   "outputs": [
    {
     "name": "stdout",
     "output_type": "stream",
     "text": [
      "Marie\n",
      "444-1111\n",
      "Bob\n",
      "444-2222\n",
      "Alice\n",
      "444-3333\n"
     ]
    }
   ],
   "source": [
    "telephone = {'Marie':'444-1111', 'Bob':'444-2222', 'Alice':'444-3333'}\n",
    "\n",
    "for item in telephone:\n",
    "  print(item) # Affiche en ordre Marie, Bob, Alice\n",
    "  print(telephone[item]) # Affiche les numéro 444-1111, 444-2222, 444-3333"
   ]
  },
  {
   "cell_type": "markdown",
   "id": "022e0e2a-ae19-468b-b9cc-fff3cf2b65f6",
   "metadata": {},
   "source": [
    "## Modification d'un dictionnaire\n",
    "\n",
    "* On ajoute dans un dictionnaire avec l'assignation d'une nouvelle clé.\n",
    "* On détruit un élément avec le mot clé `del`."
   ]
  },
  {
   "cell_type": "code",
   "execution_count": 36,
   "id": "74cc881a-6f9b-45cb-a866-9822299fcf12",
   "metadata": {},
   "outputs": [
    {
     "name": "stdout",
     "output_type": "stream",
     "text": [
      "{'Marie': '444-1111', 'Alice': '444-3333', 'Corinne': '444-1111'}\n"
     ]
    }
   ],
   "source": [
    "telephone = {'Marie':'444-1111', 'Bob':'444-2222', 'Alice':'444-3333'}\n",
    "telephone['Corinne'] = '444-1111' # Même valeur que Marie et c'est ok\n",
    "\n",
    "del telephone['Bob']\n",
    "print(telephone)"
   ]
  },
  {
   "cell_type": "markdown",
   "id": "0b5e537d-df33-4e72-8dea-c4ea60b1c26a",
   "metadata": {},
   "source": [
    "## Les méthodes des dictionnaires\n",
    "\n",
    "| Nom       | Description                                                              |\n",
    "|-----------|--------------------------------------------------------------------------|\n",
    "| clear()   | Vide le dictionnaire.                                                    |\n",
    "| get(key)  | Retourne la valeur associée avec la clé. Ne génère pas d'erreur.           |\n",
    "| items()   | Renvoie une séquence de tuple de (key, value)                            |\n",
    "| keys()    | Retourne toutes les clés.                                                |\n",
    "| pop(key)  | Retourne la valeur associée avec la clé. Enlève l'élément du dictionnaire. |\n",
    "| popitem() | Retourne un tuple (key, value) aléatoire et l'enlève du dictionnaire.    |\n",
    "| values()  | Retourne les valeurs des éléments.                                       |"
   ]
  },
  {
   "cell_type": "markdown",
   "id": "cc37eb0b-230b-494c-b690-f355fe36a487",
   "metadata": {},
   "source": [
    "# Formats de fichier de données"
   ]
  },
  {
   "cell_type": "markdown",
   "id": "e3b55acb-fe2c-410a-bdd7-415b0f5ab205",
   "metadata": {},
   "source": [
    "## Les formats des fichiers de données\n",
    "* Dans le domaine des sciences, deux fichiers de données sont populaires:\n",
    "  * CSV - Comma-separated values\n",
    "  * JSON - JavaScript Object Notation\n",
    "\n",
    "* Python nous fournit des modules pour travailler avec ses deux types de fichiers."
   ]
  },
  {
   "cell_type": "markdown",
   "id": "26fa29b8-bce1-4fa7-851a-b809d4e1a450",
   "metadata": {},
   "source": [
    "## CSV - Comma-separated values\n",
    "\n",
    "* Le CSV est un fichier texte qui délimite ses informations comme un tableur.\n",
    "* Chaque ligne de texte est une entrée.\n",
    "* Chaque ligne contient des \"colonne\" qui sont séparés par des virgules.\n",
    "\n",
    "```\n",
    "Name,Email,Phone Number,Address\n",
    "Bob Smith,bob@example.com,123-456-7890,123 Fake Street\n",
    "Mike Jones,mike@example.com,098-765-4321,321 Fake Avenue\n",
    "```"
   ]
  },
  {
   "cell_type": "markdown",
   "id": "87ce3319-24f9-4475-9cd6-aa318d79c7c1",
   "metadata": {},
   "source": [
    "## Module csv\n",
    "* Le module csv contient la fonctionnalité qui permet de lire un fichier csv et le convertir en collection de Python."
   ]
  },
  {
   "cell_type": "code",
   "execution_count": 37,
   "id": "4985334f-b914-43e8-b74e-8a6d6108ccf9",
   "metadata": {},
   "outputs": [
    {
     "name": "stdout",
     "output_type": "stream",
     "text": [
      "['Name', 'Email', 'Phone Number', 'Address']\n",
      "['Bob Smith', 'bob@example.com', '123-456-7890', '123 Fake Street']\n",
      "['Mike Jones', 'mike@example.com', '098-765-4321', '321 Fake Avenue']\n",
      "{'Name': 'Bob Smith', 'Email': 'bob@example.com', 'Phone Number': '123-456-7890', 'Address': '123 Fake Street'}\n",
      "{'Name': 'Mike Jones', 'Email': 'mike@example.com', 'Phone Number': '098-765-4321', 'Address': '321 Fake Avenue'}\n"
     ]
    }
   ],
   "source": [
    "import csv\n",
    "\n",
    "# Avec reader on convertie en liste\n",
    "with open('address.csv', newline='') as csvfile:\n",
    "    reader = csv.reader(csvfile)\n",
    "    for row in reader:\n",
    "        print(row)\n",
    "\n",
    "# Avec DictReader on convetie en dictionnaire\n",
    "with open('address.csv', newline='') as csvfile:\n",
    "    reader = csv.DictReader(csvfile)\n",
    "    for row in reader:\n",
    "        print(row)"
   ]
  },
  {
   "cell_type": "markdown",
   "id": "eb48f489-434a-4745-a9d3-1163a31bf1f4",
   "metadata": {},
   "source": [
    "## JSON - JavaScript Object Notation\n"
   ]
  },
  {
   "cell_type": "markdown",
   "id": "53bbb252-6922-4e92-8990-e3c86d7ab355",
   "metadata": {},
   "source": [
    "## Module json\n",
    "* https://www.json.org/\n",
    "* Un document qui permet de formater des collections en fichier texte pour transmission facile.\n",
    "* N'a pas de lien fort avec JavaScript (malgré son nom).\n",
    "* Permets de facilement imbriquer des informations.\n",
    "\n",
    "## Exemple JSON\n",
    "```json\n",
    "{\n",
    "  \"firstName\": \"John\",\n",
    "  \"lastName\": \"Smith\",\n",
    "  \"isAlive\": true,\n",
    "  \"age\": 27,\n",
    "  \"address\": {\n",
    "    \"streetAddress\": \"21 2nd Street\",\n",
    "    \"city\": \"New York\",\n",
    "    \"state\": \"NY\",\n",
    "    \"postalCode\": \"10021-3100\"\n",
    "  },\n",
    "  \"phoneNumbers\": [\"212 555-1234\" ,\"646 555-4567\"],\n",
    "  \"children\": [],\n",
    "  \"spouse\": null\n",
    "}\n",
    "```"
   ]
  },
  {
   "cell_type": "markdown",
   "id": "e357ce49-9a05-49b0-8093-722646045a7e",
   "metadata": {},
   "source": [
    "## Module json\n",
    "* Le module json nous permet de lire un fichier ou une chaine json et la convertie en objet Python.\n",
    "* La fonction `load` permet de convertir un fichier ouvert.\n",
    "* La fonction `loads` permet de convertir une chaine de caractère décrivant un objet JSON."
   ]
  },
  {
   "cell_type": "code",
   "execution_count": 40,
   "id": "2534c51c-78d4-4583-a381-3c6fe1a433f3",
   "metadata": {},
   "outputs": [
    {
     "name": "stdout",
     "output_type": "stream",
     "text": [
      "{'sepalLength': 5.1, 'sepalWidth': 3.5, 'petalLength': 1.4, 'petalWidth': 0.2, 'species': 'setosa'}\n",
      "{'sepalLength': 4.9, 'sepalWidth': 3.0, 'petalLength': 1.4, 'petalWidth': 0.2, 'species': 'setosa'}\n",
      "{'sepalLength': 4.7, 'sepalWidth': 3.2, 'petalLength': 1.3, 'petalWidth': 0.2, 'species': 'setosa'}\n",
      "{'sepalLength': 4.6, 'sepalWidth': 3.1, 'petalLength': 1.5, 'petalWidth': 0.2, 'species': 'setosa'}\n",
      "{'sepalLength': 5.0, 'sepalWidth': 3.6, 'petalLength': 1.4, 'petalWidth': 0.2, 'species': 'setosa'}\n",
      "{'sepalLength': 5.4, 'sepalWidth': 3.9, 'petalLength': 1.7, 'petalWidth': 0.4, 'species': 'setosa'}\n",
      "{'sepalLength': 4.6, 'sepalWidth': 3.4, 'petalLength': 1.4, 'petalWidth': 0.3, 'species': 'setosa'}\n",
      "{'sepalLength': 5.0, 'sepalWidth': 3.4, 'petalLength': 1.5, 'petalWidth': 0.2, 'species': 'setosa'}\n",
      "{'sepalLength': 4.4, 'sepalWidth': 2.9, 'petalLength': 1.4, 'petalWidth': 0.2, 'species': 'setosa'}\n",
      "{'sepalLength': 4.9, 'sepalWidth': 3.1, 'petalLength': 1.5, 'petalWidth': 0.1, 'species': 'setosa'}\n",
      "{'sepalLength': 5.4, 'sepalWidth': 3.7, 'petalLength': 1.5, 'petalWidth': 0.2, 'species': 'setosa'}\n",
      "{'sepalLength': 4.8, 'sepalWidth': 3.4, 'petalLength': 1.6, 'petalWidth': 0.2, 'species': 'setosa'}\n",
      "{'sepalLength': 4.8, 'sepalWidth': 3.0, 'petalLength': 1.4, 'petalWidth': 0.1, 'species': 'setosa'}\n",
      "{'sepalLength': 4.3, 'sepalWidth': 3.0, 'petalLength': 1.1, 'petalWidth': 0.1, 'species': 'setosa'}\n",
      "{'sepalLength': 5.8, 'sepalWidth': 4.0, 'petalLength': 1.2, 'petalWidth': 0.2, 'species': 'setosa'}\n",
      "{'sepalLength': 5.7, 'sepalWidth': 4.4, 'petalLength': 1.5, 'petalWidth': 0.4, 'species': 'setosa'}\n",
      "{'sepalLength': 5.4, 'sepalWidth': 3.9, 'petalLength': 1.3, 'petalWidth': 0.4, 'species': 'setosa'}\n",
      "{'sepalLength': 5.1, 'sepalWidth': 3.5, 'petalLength': 1.4, 'petalWidth': 0.3, 'species': 'setosa'}\n",
      "{'sepalLength': 5.7, 'sepalWidth': 3.8, 'petalLength': 1.7, 'petalWidth': 0.3, 'species': 'setosa'}\n",
      "{'sepalLength': 5.1, 'sepalWidth': 3.8, 'petalLength': 1.5, 'petalWidth': 0.3, 'species': 'setosa'}\n",
      "{'sepalLength': 5.4, 'sepalWidth': 3.4, 'petalLength': 1.7, 'petalWidth': 0.2, 'species': 'setosa'}\n",
      "{'sepalLength': 5.1, 'sepalWidth': 3.7, 'petalLength': 1.5, 'petalWidth': 0.4, 'species': 'setosa'}\n",
      "{'sepalLength': 4.6, 'sepalWidth': 3.6, 'petalLength': 1.0, 'petalWidth': 0.2, 'species': 'setosa'}\n",
      "{'sepalLength': 5.1, 'sepalWidth': 3.3, 'petalLength': 1.7, 'petalWidth': 0.5, 'species': 'setosa'}\n",
      "{'sepalLength': 4.8, 'sepalWidth': 3.4, 'petalLength': 1.9, 'petalWidth': 0.2, 'species': 'setosa'}\n",
      "{'sepalLength': 5.0, 'sepalWidth': 3.0, 'petalLength': 1.6, 'petalWidth': 0.2, 'species': 'setosa'}\n",
      "{'sepalLength': 5.0, 'sepalWidth': 3.4, 'petalLength': 1.6, 'petalWidth': 0.4, 'species': 'setosa'}\n",
      "{'sepalLength': 5.2, 'sepalWidth': 3.5, 'petalLength': 1.5, 'petalWidth': 0.2, 'species': 'setosa'}\n",
      "{'sepalLength': 5.2, 'sepalWidth': 3.4, 'petalLength': 1.4, 'petalWidth': 0.2, 'species': 'setosa'}\n",
      "{'sepalLength': 4.7, 'sepalWidth': 3.2, 'petalLength': 1.6, 'petalWidth': 0.2, 'species': 'setosa'}\n",
      "{'sepalLength': 4.8, 'sepalWidth': 3.1, 'petalLength': 1.6, 'petalWidth': 0.2, 'species': 'setosa'}\n",
      "{'sepalLength': 5.4, 'sepalWidth': 3.4, 'petalLength': 1.5, 'petalWidth': 0.4, 'species': 'setosa'}\n",
      "{'sepalLength': 5.2, 'sepalWidth': 4.1, 'petalLength': 1.5, 'petalWidth': 0.1, 'species': 'setosa'}\n",
      "{'sepalLength': 5.5, 'sepalWidth': 4.2, 'petalLength': 1.4, 'petalWidth': 0.2, 'species': 'setosa'}\n",
      "{'sepalLength': 4.9, 'sepalWidth': 3.1, 'petalLength': 1.5, 'petalWidth': 0.2, 'species': 'setosa'}\n",
      "{'sepalLength': 5.0, 'sepalWidth': 3.2, 'petalLength': 1.2, 'petalWidth': 0.2, 'species': 'setosa'}\n",
      "{'sepalLength': 5.5, 'sepalWidth': 3.5, 'petalLength': 1.3, 'petalWidth': 0.2, 'species': 'setosa'}\n",
      "{'sepalLength': 4.9, 'sepalWidth': 3.6, 'petalLength': 1.4, 'petalWidth': 0.1, 'species': 'setosa'}\n",
      "{'sepalLength': 4.4, 'sepalWidth': 3.0, 'petalLength': 1.3, 'petalWidth': 0.2, 'species': 'setosa'}\n",
      "{'sepalLength': 5.1, 'sepalWidth': 3.4, 'petalLength': 1.5, 'petalWidth': 0.2, 'species': 'setosa'}\n",
      "{'sepalLength': 5.0, 'sepalWidth': 3.5, 'petalLength': 1.3, 'petalWidth': 0.3, 'species': 'setosa'}\n",
      "{'sepalLength': 4.5, 'sepalWidth': 2.3, 'petalLength': 1.3, 'petalWidth': 0.3, 'species': 'setosa'}\n",
      "{'sepalLength': 4.4, 'sepalWidth': 3.2, 'petalLength': 1.3, 'petalWidth': 0.2, 'species': 'setosa'}\n",
      "{'sepalLength': 5.0, 'sepalWidth': 3.5, 'petalLength': 1.6, 'petalWidth': 0.6, 'species': 'setosa'}\n",
      "{'sepalLength': 5.1, 'sepalWidth': 3.8, 'petalLength': 1.9, 'petalWidth': 0.4, 'species': 'setosa'}\n",
      "{'sepalLength': 4.8, 'sepalWidth': 3.0, 'petalLength': 1.4, 'petalWidth': 0.3, 'species': 'setosa'}\n",
      "{'sepalLength': 5.1, 'sepalWidth': 3.8, 'petalLength': 1.6, 'petalWidth': 0.2, 'species': 'setosa'}\n",
      "{'sepalLength': 4.6, 'sepalWidth': 3.2, 'petalLength': 1.4, 'petalWidth': 0.2, 'species': 'setosa'}\n",
      "{'sepalLength': 5.3, 'sepalWidth': 3.7, 'petalLength': 1.5, 'petalWidth': 0.2, 'species': 'setosa'}\n",
      "{'sepalLength': 5.0, 'sepalWidth': 3.3, 'petalLength': 1.4, 'petalWidth': 0.2, 'species': 'setosa'}\n",
      "{'sepalLength': 7.0, 'sepalWidth': 3.2, 'petalLength': 4.7, 'petalWidth': 1.4, 'species': 'versicolor'}\n",
      "{'sepalLength': 6.4, 'sepalWidth': 3.2, 'petalLength': 4.5, 'petalWidth': 1.5, 'species': 'versicolor'}\n",
      "{'sepalLength': 6.9, 'sepalWidth': 3.1, 'petalLength': 4.9, 'petalWidth': 1.5, 'species': 'versicolor'}\n",
      "{'sepalLength': 5.5, 'sepalWidth': 2.3, 'petalLength': 4.0, 'petalWidth': 1.3, 'species': 'versicolor'}\n",
      "{'sepalLength': 6.5, 'sepalWidth': 2.8, 'petalLength': 4.6, 'petalWidth': 1.5, 'species': 'versicolor'}\n",
      "{'sepalLength': 5.7, 'sepalWidth': 2.8, 'petalLength': 4.5, 'petalWidth': 1.3, 'species': 'versicolor'}\n",
      "{'sepalLength': 6.3, 'sepalWidth': 3.3, 'petalLength': 4.7, 'petalWidth': 1.6, 'species': 'versicolor'}\n",
      "{'sepalLength': 4.9, 'sepalWidth': 2.4, 'petalLength': 3.3, 'petalWidth': 1.0, 'species': 'versicolor'}\n",
      "{'sepalLength': 6.6, 'sepalWidth': 2.9, 'petalLength': 4.6, 'petalWidth': 1.3, 'species': 'versicolor'}\n",
      "{'sepalLength': 5.2, 'sepalWidth': 2.7, 'petalLength': 3.9, 'petalWidth': 1.4, 'species': 'versicolor'}\n",
      "{'sepalLength': 5.0, 'sepalWidth': 2.0, 'petalLength': 3.5, 'petalWidth': 1.0, 'species': 'versicolor'}\n",
      "{'sepalLength': 5.9, 'sepalWidth': 3.0, 'petalLength': 4.2, 'petalWidth': 1.5, 'species': 'versicolor'}\n",
      "{'sepalLength': 6.0, 'sepalWidth': 2.2, 'petalLength': 4.0, 'petalWidth': 1.0, 'species': 'versicolor'}\n",
      "{'sepalLength': 6.1, 'sepalWidth': 2.9, 'petalLength': 4.7, 'petalWidth': 1.4, 'species': 'versicolor'}\n",
      "{'sepalLength': 5.6, 'sepalWidth': 2.9, 'petalLength': 3.6, 'petalWidth': 1.3, 'species': 'versicolor'}\n",
      "{'sepalLength': 6.7, 'sepalWidth': 3.1, 'petalLength': 4.4, 'petalWidth': 1.4, 'species': 'versicolor'}\n",
      "{'sepalLength': 5.6, 'sepalWidth': 3.0, 'petalLength': 4.5, 'petalWidth': 1.5, 'species': 'versicolor'}\n",
      "{'sepalLength': 5.8, 'sepalWidth': 2.7, 'petalLength': 4.1, 'petalWidth': 1.0, 'species': 'versicolor'}\n",
      "{'sepalLength': 6.2, 'sepalWidth': 2.2, 'petalLength': 4.5, 'petalWidth': 1.5, 'species': 'versicolor'}\n",
      "{'sepalLength': 5.6, 'sepalWidth': 2.5, 'petalLength': 3.9, 'petalWidth': 1.1, 'species': 'versicolor'}\n",
      "{'sepalLength': 5.9, 'sepalWidth': 3.2, 'petalLength': 4.8, 'petalWidth': 1.8, 'species': 'versicolor'}\n",
      "{'sepalLength': 6.1, 'sepalWidth': 2.8, 'petalLength': 4.0, 'petalWidth': 1.3, 'species': 'versicolor'}\n",
      "{'sepalLength': 6.3, 'sepalWidth': 2.5, 'petalLength': 4.9, 'petalWidth': 1.5, 'species': 'versicolor'}\n",
      "{'sepalLength': 6.1, 'sepalWidth': 2.8, 'petalLength': 4.7, 'petalWidth': 1.2, 'species': 'versicolor'}\n",
      "{'sepalLength': 6.4, 'sepalWidth': 2.9, 'petalLength': 4.3, 'petalWidth': 1.3, 'species': 'versicolor'}\n",
      "{'sepalLength': 6.6, 'sepalWidth': 3.0, 'petalLength': 4.4, 'petalWidth': 1.4, 'species': 'versicolor'}\n",
      "{'sepalLength': 6.8, 'sepalWidth': 2.8, 'petalLength': 4.8, 'petalWidth': 1.4, 'species': 'versicolor'}\n",
      "{'sepalLength': 6.7, 'sepalWidth': 3.0, 'petalLength': 5.0, 'petalWidth': 1.7, 'species': 'versicolor'}\n",
      "{'sepalLength': 6.0, 'sepalWidth': 2.9, 'petalLength': 4.5, 'petalWidth': 1.5, 'species': 'versicolor'}\n",
      "{'sepalLength': 5.7, 'sepalWidth': 2.6, 'petalLength': 3.5, 'petalWidth': 1.0, 'species': 'versicolor'}\n",
      "{'sepalLength': 5.5, 'sepalWidth': 2.4, 'petalLength': 3.8, 'petalWidth': 1.1, 'species': 'versicolor'}\n",
      "{'sepalLength': 5.5, 'sepalWidth': 2.4, 'petalLength': 3.7, 'petalWidth': 1.0, 'species': 'versicolor'}\n",
      "{'sepalLength': 5.8, 'sepalWidth': 2.7, 'petalLength': 3.9, 'petalWidth': 1.2, 'species': 'versicolor'}\n",
      "{'sepalLength': 6.0, 'sepalWidth': 2.7, 'petalLength': 5.1, 'petalWidth': 1.6, 'species': 'versicolor'}\n",
      "{'sepalLength': 5.4, 'sepalWidth': 3.0, 'petalLength': 4.5, 'petalWidth': 1.5, 'species': 'versicolor'}\n",
      "{'sepalLength': 6.0, 'sepalWidth': 3.4, 'petalLength': 4.5, 'petalWidth': 1.6, 'species': 'versicolor'}\n",
      "{'sepalLength': 6.7, 'sepalWidth': 3.1, 'petalLength': 4.7, 'petalWidth': 1.5, 'species': 'versicolor'}\n",
      "{'sepalLength': 6.3, 'sepalWidth': 2.3, 'petalLength': 4.4, 'petalWidth': 1.3, 'species': 'versicolor'}\n",
      "{'sepalLength': 5.6, 'sepalWidth': 3.0, 'petalLength': 4.1, 'petalWidth': 1.3, 'species': 'versicolor'}\n",
      "{'sepalLength': 5.5, 'sepalWidth': 2.5, 'petalLength': 4.0, 'petalWidth': 1.3, 'species': 'versicolor'}\n",
      "{'sepalLength': 5.5, 'sepalWidth': 2.6, 'petalLength': 4.4, 'petalWidth': 1.2, 'species': 'versicolor'}\n",
      "{'sepalLength': 6.1, 'sepalWidth': 3.0, 'petalLength': 4.6, 'petalWidth': 1.4, 'species': 'versicolor'}\n",
      "{'sepalLength': 5.8, 'sepalWidth': 2.6, 'petalLength': 4.0, 'petalWidth': 1.2, 'species': 'versicolor'}\n",
      "{'sepalLength': 5.0, 'sepalWidth': 2.3, 'petalLength': 3.3, 'petalWidth': 1.0, 'species': 'versicolor'}\n",
      "{'sepalLength': 5.6, 'sepalWidth': 2.7, 'petalLength': 4.2, 'petalWidth': 1.3, 'species': 'versicolor'}\n",
      "{'sepalLength': 5.7, 'sepalWidth': 3.0, 'petalLength': 4.2, 'petalWidth': 1.2, 'species': 'versicolor'}\n",
      "{'sepalLength': 5.7, 'sepalWidth': 2.9, 'petalLength': 4.2, 'petalWidth': 1.3, 'species': 'versicolor'}\n",
      "{'sepalLength': 6.2, 'sepalWidth': 2.9, 'petalLength': 4.3, 'petalWidth': 1.3, 'species': 'versicolor'}\n",
      "{'sepalLength': 5.1, 'sepalWidth': 2.5, 'petalLength': 3.0, 'petalWidth': 1.1, 'species': 'versicolor'}\n",
      "{'sepalLength': 5.7, 'sepalWidth': 2.8, 'petalLength': 4.1, 'petalWidth': 1.3, 'species': 'versicolor'}\n",
      "{'sepalLength': 6.3, 'sepalWidth': 3.3, 'petalLength': 6.0, 'petalWidth': 2.5, 'species': 'virginica'}\n",
      "{'sepalLength': 5.8, 'sepalWidth': 2.7, 'petalLength': 5.1, 'petalWidth': 1.9, 'species': 'virginica'}\n",
      "{'sepalLength': 7.1, 'sepalWidth': 3.0, 'petalLength': 5.9, 'petalWidth': 2.1, 'species': 'virginica'}\n",
      "{'sepalLength': 6.3, 'sepalWidth': 2.9, 'petalLength': 5.6, 'petalWidth': 1.8, 'species': 'virginica'}\n",
      "{'sepalLength': 6.5, 'sepalWidth': 3.0, 'petalLength': 5.8, 'petalWidth': 2.2, 'species': 'virginica'}\n",
      "{'sepalLength': 7.6, 'sepalWidth': 3.0, 'petalLength': 6.6, 'petalWidth': 2.1, 'species': 'virginica'}\n",
      "{'sepalLength': 4.9, 'sepalWidth': 2.5, 'petalLength': 4.5, 'petalWidth': 1.7, 'species': 'virginica'}\n",
      "{'sepalLength': 7.3, 'sepalWidth': 2.9, 'petalLength': 6.3, 'petalWidth': 1.8, 'species': 'virginica'}\n",
      "{'sepalLength': 6.7, 'sepalWidth': 2.5, 'petalLength': 5.8, 'petalWidth': 1.8, 'species': 'virginica'}\n",
      "{'sepalLength': 7.2, 'sepalWidth': 3.6, 'petalLength': 6.1, 'petalWidth': 2.5, 'species': 'virginica'}\n",
      "{'sepalLength': 6.5, 'sepalWidth': 3.2, 'petalLength': 5.1, 'petalWidth': 2.0, 'species': 'virginica'}\n",
      "{'sepalLength': 6.4, 'sepalWidth': 2.7, 'petalLength': 5.3, 'petalWidth': 1.9, 'species': 'virginica'}\n",
      "{'sepalLength': 6.8, 'sepalWidth': 3.0, 'petalLength': 5.5, 'petalWidth': 2.1, 'species': 'virginica'}\n",
      "{'sepalLength': 5.7, 'sepalWidth': 2.5, 'petalLength': 5.0, 'petalWidth': 2.0, 'species': 'virginica'}\n",
      "{'sepalLength': 5.8, 'sepalWidth': 2.8, 'petalLength': 5.1, 'petalWidth': 2.4, 'species': 'virginica'}\n",
      "{'sepalLength': 6.4, 'sepalWidth': 3.2, 'petalLength': 5.3, 'petalWidth': 2.3, 'species': 'virginica'}\n",
      "{'sepalLength': 6.5, 'sepalWidth': 3.0, 'petalLength': 5.5, 'petalWidth': 1.8, 'species': 'virginica'}\n",
      "{'sepalLength': 7.7, 'sepalWidth': 3.8, 'petalLength': 6.7, 'petalWidth': 2.2, 'species': 'virginica'}\n",
      "{'sepalLength': 7.7, 'sepalWidth': 2.6, 'petalLength': 6.9, 'petalWidth': 2.3, 'species': 'virginica'}\n",
      "{'sepalLength': 6.0, 'sepalWidth': 2.2, 'petalLength': 5.0, 'petalWidth': 1.5, 'species': 'virginica'}\n",
      "{'sepalLength': 6.9, 'sepalWidth': 3.2, 'petalLength': 5.7, 'petalWidth': 2.3, 'species': 'virginica'}\n",
      "{'sepalLength': 5.6, 'sepalWidth': 2.8, 'petalLength': 4.9, 'petalWidth': 2.0, 'species': 'virginica'}\n",
      "{'sepalLength': 7.7, 'sepalWidth': 2.8, 'petalLength': 6.7, 'petalWidth': 2.0, 'species': 'virginica'}\n",
      "{'sepalLength': 6.3, 'sepalWidth': 2.7, 'petalLength': 4.9, 'petalWidth': 1.8, 'species': 'virginica'}\n",
      "{'sepalLength': 6.7, 'sepalWidth': 3.3, 'petalLength': 5.7, 'petalWidth': 2.1, 'species': 'virginica'}\n",
      "{'sepalLength': 7.2, 'sepalWidth': 3.2, 'petalLength': 6.0, 'petalWidth': 1.8, 'species': 'virginica'}\n",
      "{'sepalLength': 6.2, 'sepalWidth': 2.8, 'petalLength': 4.8, 'petalWidth': 1.8, 'species': 'virginica'}\n",
      "{'sepalLength': 6.1, 'sepalWidth': 3.0, 'petalLength': 4.9, 'petalWidth': 1.8, 'species': 'virginica'}\n",
      "{'sepalLength': 6.4, 'sepalWidth': 2.8, 'petalLength': 5.6, 'petalWidth': 2.1, 'species': 'virginica'}\n",
      "{'sepalLength': 7.2, 'sepalWidth': 3.0, 'petalLength': 5.8, 'petalWidth': 1.6, 'species': 'virginica'}\n",
      "{'sepalLength': 7.4, 'sepalWidth': 2.8, 'petalLength': 6.1, 'petalWidth': 1.9, 'species': 'virginica'}\n",
      "{'sepalLength': 7.9, 'sepalWidth': 3.8, 'petalLength': 6.4, 'petalWidth': 2.0, 'species': 'virginica'}\n",
      "{'sepalLength': 6.4, 'sepalWidth': 2.8, 'petalLength': 5.6, 'petalWidth': 2.2, 'species': 'virginica'}\n",
      "{'sepalLength': 6.3, 'sepalWidth': 2.8, 'petalLength': 5.1, 'petalWidth': 1.5, 'species': 'virginica'}\n",
      "{'sepalLength': 6.1, 'sepalWidth': 2.6, 'petalLength': 5.6, 'petalWidth': 1.4, 'species': 'virginica'}\n",
      "{'sepalLength': 7.7, 'sepalWidth': 3.0, 'petalLength': 6.1, 'petalWidth': 2.3, 'species': 'virginica'}\n",
      "{'sepalLength': 6.3, 'sepalWidth': 3.4, 'petalLength': 5.6, 'petalWidth': 2.4, 'species': 'virginica'}\n",
      "{'sepalLength': 6.4, 'sepalWidth': 3.1, 'petalLength': 5.5, 'petalWidth': 1.8, 'species': 'virginica'}\n",
      "{'sepalLength': 6.0, 'sepalWidth': 3.0, 'petalLength': 4.8, 'petalWidth': 1.8, 'species': 'virginica'}\n",
      "{'sepalLength': 6.9, 'sepalWidth': 3.1, 'petalLength': 5.4, 'petalWidth': 2.1, 'species': 'virginica'}\n",
      "{'sepalLength': 6.7, 'sepalWidth': 3.1, 'petalLength': 5.6, 'petalWidth': 2.4, 'species': 'virginica'}\n",
      "{'sepalLength': 6.9, 'sepalWidth': 3.1, 'petalLength': 5.1, 'petalWidth': 2.3, 'species': 'virginica'}\n",
      "{'sepalLength': 5.8, 'sepalWidth': 2.7, 'petalLength': 5.1, 'petalWidth': 1.9, 'species': 'virginica'}\n",
      "{'sepalLength': 6.8, 'sepalWidth': 3.2, 'petalLength': 5.9, 'petalWidth': 2.3, 'species': 'virginica'}\n",
      "{'sepalLength': 6.7, 'sepalWidth': 3.3, 'petalLength': 5.7, 'petalWidth': 2.5, 'species': 'virginica'}\n",
      "{'sepalLength': 6.7, 'sepalWidth': 3.0, 'petalLength': 5.2, 'petalWidth': 2.3, 'species': 'virginica'}\n",
      "{'sepalLength': 6.3, 'sepalWidth': 2.5, 'petalLength': 5.0, 'petalWidth': 1.9, 'species': 'virginica'}\n",
      "{'sepalLength': 6.5, 'sepalWidth': 3.0, 'petalLength': 5.2, 'petalWidth': 2.0, 'species': 'virginica'}\n",
      "{'sepalLength': 6.2, 'sepalWidth': 3.4, 'petalLength': 5.4, 'petalWidth': 2.3, 'species': 'virginica'}\n",
      "{'sepalLength': 5.9, 'sepalWidth': 3.0, 'petalLength': 5.1, 'petalWidth': 1.8, 'species': 'virginica'}\n",
      "{'name': 'mkyong.com', 'messages': ['msg 1', 'msg 2', 'msg 3'], 'age': 100}\n"
     ]
    }
   ],
   "source": [
    "import json\n",
    "\n",
    "with open('iris.json', newline='') as jsonfile:\n",
    "    reader = json.load(jsonfile)\n",
    "    for row in reader:\n",
    "        print(row)\n",
    "\n",
    "# json.loads permet de parcourir une chaine\n",
    "info = json.loads('{\"name\":\"mkyong.com\",\"messages\":[\"msg 1\",\"msg 2\",\"msg 3\"],\"age\":100}')\n",
    "print(info)"
   ]
  },
  {
   "cell_type": "code",
   "execution_count": null,
   "id": "dad239d4-bca7-4ff5-a2f8-eb416f7009af",
   "metadata": {},
   "outputs": [],
   "source": []
  }
 ],
 "metadata": {
  "kernelspec": {
   "display_name": "Python 3",
   "language": "python",
   "name": "python3"
  },
  "language_info": {
   "codemirror_mode": {
    "name": "ipython",
    "version": 3
   },
   "file_extension": ".py",
   "mimetype": "text/x-python",
   "name": "python",
   "nbconvert_exporter": "python",
   "pygments_lexer": "ipython3",
   "version": "3.8.8"
  }
 },
 "nbformat": 4,
 "nbformat_minor": 5
}
